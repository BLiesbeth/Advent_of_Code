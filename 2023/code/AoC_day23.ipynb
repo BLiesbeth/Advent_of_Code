{
 "cells": [
  {
   "cell_type": "code",
   "execution_count": 29,
   "id": "66ee15d0-b399-407c-9233-e94998dcbb6b",
   "metadata": {},
   "outputs": [],
   "source": [
    "import pandas as pd\n",
    "import numpy as np\n",
    "import os\n",
    "from aocd import get_data\n",
    "\n",
    "import sys\n",
    "import time\n",
    "\n",
    "from collections import deque\n"
   ]
  },
  {
   "cell_type": "code",
   "execution_count": 48,
   "id": "135536fb-0713-4339-8b14-ed393fe28aad",
   "metadata": {
    "tags": []
   },
   "outputs": [],
   "source": [
    "puzzle = get_data(day=23, year=2023)\n",
    "\n",
    "file = \"/Users/liesbeth_bogaert/Documents/AoC/2023/input/input_day23.txt\"\n",
    "lines = open(file, \"w\").write(puzzle)\n",
    "\n",
    "puzzle = puzzle.splitlines()\n",
    "#print(puzzle)"
   ]
  },
  {
   "cell_type": "code",
   "execution_count": null,
   "id": "d96e2518-b05a-4c39-8201-0e5ed23de142",
   "metadata": {},
   "outputs": [],
   "source": []
  },
  {
   "cell_type": "code",
   "execution_count": 62,
   "id": "c115e76e-dc20-4707-bbc3-1f873f693295",
   "metadata": {},
   "outputs": [],
   "source": [
    "edges = {}\n",
    "\n",
    "for r, row in enumerate(puzzle):\n",
    "    for c, ch in enumerate(row):\n",
    "        if ch == '.':\n",
    "            for dr, dc in [(-1, 0), (0, -1), (0, 1), (1, 0)]:\n",
    "                rr, cc = r + dr, c + dc\n",
    "                if not (0 <= rr < len(puzzle) and 0 <= cc < len(row)):\n",
    "                    continue\n",
    "                if puzzle[rr][cc] == '.':\n",
    "                    edges.setdefault((r, c), set()).add((rr, cc))\n",
    "                    edges.setdefault((rr, cc), set()).add((r, c))\n",
    "        if ch == '>':\n",
    "            edges.setdefault((r, c), set()).add((r, c + 1))\n",
    "            edges.setdefault((r, c - 1), set()).add((r, c))\n",
    "        if ch == 'v':\n",
    "            edges.setdefault((r, c), set()).add((r + 1, c))\n",
    "            edges.setdefault((r - 1, c), set()).add((r, c))\n",
    "#print(edges)"
   ]
  },
  {
   "cell_type": "code",
   "execution_count": 63,
   "id": "91ed5969-5db8-413f-8b23-ab5a8d69e65f",
   "metadata": {},
   "outputs": [
    {
     "name": "stdout",
     "output_type": "stream",
     "text": [
      "2094\n"
     ]
    }
   ],
   "source": [
    "path = [(0, 1, 0)]\n",
    "visited = set()\n",
    "best = 0\n",
    "\n",
    "while path:\n",
    "    r, c, d = path.pop()\n",
    "    if d == -1:\n",
    "        visited.remove((r, c))\n",
    "        continue\n",
    "    if (r, c) == (len(puzzle) - 1, len(puzzle[0]) - 2):\n",
    "        best = max(best, d)\n",
    "        continue\n",
    "    if (r, c) in visited:\n",
    "        continue\n",
    "    visited.add((r, c))\n",
    "    \n",
    "    path.append((r, c, -1))\n",
    "    for rr, cc in edges[(r, c)]:\n",
    "        path.append((rr, cc, d+1))\n",
    "print(best)\n"
   ]
  },
  {
   "cell_type": "code",
   "execution_count": null,
   "id": "c725f153-a8d1-4135-9e31-6362f01f31c5",
   "metadata": {},
   "outputs": [],
   "source": []
  },
  {
   "cell_type": "code",
   "execution_count": 70,
   "id": "24dab6eb-5793-4987-b183-45f0c67e9480",
   "metadata": {},
   "outputs": [],
   "source": [
    "edges = {}\n",
    "\n",
    "for r, row in enumerate(puzzle):\n",
    "    for c, ch in enumerate(row):\n",
    "        if ch in ('.', '>', 'v'):\n",
    "            for dr, dc in [(-1, 0), (0, -1), (0, 1), (1, 0)]:\n",
    "                rr, cc = r + dr, c + dc\n",
    "                if not (0 <= rr < len(puzzle) and 0 <= cc < len(row)):\n",
    "                    continue\n",
    "                if puzzle[rr][cc] in ('.', '>', 'v'):\n",
    "                    edges.setdefault((r, c), set()).add((rr, cc, 1))\n",
    "                    edges.setdefault((rr, cc), set()).add((r, c, 1))\n",
    "\n",
    "#print(edges)"
   ]
  },
  {
   "cell_type": "code",
   "execution_count": 71,
   "id": "02f05ae2-d53f-4a6a-bf0f-19e588576dc8",
   "metadata": {},
   "outputs": [],
   "source": [
    "while True:\n",
    "    for n, e in edges.items():\n",
    "        if len(e) == 2:\n",
    "            a, b = e\n",
    "            edges[a[:2]].remove(n + (a[2],))\n",
    "            edges[b[:2]].remove(n + (b[2],))\n",
    "            edges[a[:2]].add((b[0], b[1], a[2] + b[2]))\n",
    "            edges[b[:2]].add((a[0], a[1], a[2] + b[2]))\n",
    "            del edges[n]\n",
    "            break\n",
    "    else:\n",
    "        break"
   ]
  },
  {
   "cell_type": "code",
   "execution_count": 72,
   "id": "03c4b42a-3610-4f44-9c33-f97a639155a2",
   "metadata": {},
   "outputs": [
    {
     "name": "stdout",
     "output_type": "stream",
     "text": [
      "6442\n",
      "--- 156.5600471496582 seconds ---\n"
     ]
    }
   ],
   "source": [
    "path = [(0, 1, 0)]\n",
    "visited = set()\n",
    "best = 0\n",
    "\n",
    "start_time = time.time()\n",
    "\n",
    "while path:\n",
    "    r, c, d = path.pop()\n",
    "    if d == -1:\n",
    "        visited.remove((r, c))\n",
    "        continue\n",
    "    if (r, c) == (len(puzzle) - 1, len(puzzle[0]) - 2):\n",
    "        best = max(best, d)\n",
    "        continue\n",
    "    if (r, c) in visited:\n",
    "        continue\n",
    "    visited.add((r, c))\n",
    "    \n",
    "    path.append((r, c, -1))\n",
    "    for rr, cc, l in edges[(r, c)]:\n",
    "        path.append((rr, cc, d+l))\n",
    "\n",
    "print(best)\n",
    "print(\"--- %s seconds ---\" % (time.time() - start_time))"
   ]
  },
  {
   "cell_type": "code",
   "execution_count": null,
   "id": "39fbdc94-9d80-45d8-825e-fd48769073d0",
   "metadata": {},
   "outputs": [],
   "source": []
  },
  {
   "cell_type": "code",
   "execution_count": null,
   "id": "cc229704-4f02-4270-8858-baeb5c70d822",
   "metadata": {},
   "outputs": [],
   "source": []
  }
 ],
 "metadata": {
  "kernelspec": {
   "display_name": "Python 3 (ipykernel)",
   "language": "python",
   "name": "python3"
  },
  "language_info": {
   "codemirror_mode": {
    "name": "ipython",
    "version": 3
   },
   "file_extension": ".py",
   "mimetype": "text/x-python",
   "name": "python",
   "nbconvert_exporter": "python",
   "pygments_lexer": "ipython3",
   "version": "3.9.13"
  }
 },
 "nbformat": 4,
 "nbformat_minor": 5
}
