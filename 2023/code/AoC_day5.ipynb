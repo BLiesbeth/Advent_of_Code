{
 "cells": [
  {
   "cell_type": "code",
   "execution_count": 1,
   "id": "cb965130-de5f-47db-be1a-2f3af9912127",
   "metadata": {},
   "outputs": [],
   "source": [
    "import pandas as pd\n",
    "import numpy as np\n",
    "import os\n",
    "from aocd import get_data\n",
    "\n",
    "import sys"
   ]
  },
  {
   "cell_type": "code",
   "execution_count": 2,
   "id": "97bd9223-739f-4c2f-b6dc-74fcb649b65b",
   "metadata": {
    "tags": []
   },
   "outputs": [],
   "source": [
    "puzzle = get_data(day=5, year=2023)\n",
    "\n",
    "file = \"/Users/liesbeth_bogaert/Documents/AoC/2023/input/input_day5.txt\"\n",
    "lines = open(file, \"w\").write(puzzle)\n",
    "\n",
    "puzzle = puzzle.splitlines()\n",
    "#print(puzzle)"
   ]
  },
  {
   "cell_type": "code",
   "execution_count": null,
   "id": "48f49493-ef58-42d2-b33f-f9bf28ab28dd",
   "metadata": {},
   "outputs": [],
   "source": [
    "# Testing with M input file\n",
    "file = \"/Users/liesbeth_bogaert/Documents/AoC/2023/input/input_day5_m.txt\"\n",
    "puzzle = open(file).read().splitlines()"
   ]
  },
  {
   "cell_type": "markdown",
   "id": "2dd3c070-b18f-4dc2-94a1-57b6d4038c81",
   "metadata": {},
   "source": [
    "Part 1"
   ]
  },
  {
   "cell_type": "code",
   "execution_count": 3,
   "id": "0b864319-8808-4231-9896-16ca74bb0777",
   "metadata": {},
   "outputs": [
    {
     "name": "stdout",
     "output_type": "stream",
     "text": [
      "[202517468, 131640971, 1553776977, 241828580, 1435322022, 100369067, 2019100043, 153706556, 460203450, 84630899, 3766866638, 114261107, 1809826083, 153144153, 2797169753, 177517156, 2494032210, 235157184, 856311572, 542740109]\n"
     ]
    }
   ],
   "source": [
    "seeds = [int(x) for x in puzzle[0].split(': ')[1].split()]\n",
    "print(seeds)"
   ]
  },
  {
   "cell_type": "code",
   "execution_count": 4,
   "id": "5c7455f5-1fe0-4c82-851c-0df29068f6cc",
   "metadata": {},
   "outputs": [
    {
     "name": "stdout",
     "output_type": "stream",
     "text": [
      "318728750\n"
     ]
    }
   ],
   "source": [
    "min_loc = 99999999999999\n",
    "\n",
    "for seed in seeds:\n",
    "    mapping = [seed]\n",
    "    step = 0\n",
    "    for line in puzzle[3:]:\n",
    "        if len(line.split()) < 3 and line != '':\n",
    "            step += 1\n",
    "            if len(mapping) <= step:\n",
    "                mapping.append(mapping[step-1])\n",
    "                \n",
    "        if len(line.split()) >= 3 and line != '':\n",
    "            a, b, c = line.split(' ')\n",
    "            a, b, c = int(a), int(b), int(c)\n",
    "            if mapping[step] in range(b, b+c):\n",
    "                mapping.append(a+(mapping[step]-b))\n",
    "                \n",
    "    min_loc = min(min_loc, mapping[-1])\n",
    "    #print(mapping)\n",
    "print(min_loc)"
   ]
  },
  {
   "cell_type": "markdown",
   "id": "b2e61014-1c2e-4bd3-8446-5d6688af4687",
   "metadata": {},
   "source": [
    "Part 2"
   ]
  },
  {
   "cell_type": "code",
   "execution_count": 5,
   "id": "b6ee0846-d718-4327-a892-f80c9ae86777",
   "metadata": {},
   "outputs": [
    {
     "name": "stdout",
     "output_type": "stream",
     "text": [
      "[(202517468, 334158438), (1553776977, 1795605556), (1435322022, 1535691088), (2019100043, 2172806598), (460203450, 544834348), (3766866638, 3881127744), (1809826083, 1962970235), (2797169753, 2974686908), (2494032210, 2729189393), (856311572, 1399051680)]\n"
     ]
    }
   ],
   "source": [
    "seed_pairs = []\n",
    "for i in range(0,len(seeds),2):\n",
    "    seed_pairs.append((seeds[i],seeds[i+1]+seeds[i]-1))\n",
    "print(seed_pairs)"
   ]
  },
  {
   "cell_type": "code",
   "execution_count": 6,
   "id": "30128606-bb58-4776-bd6c-bbb62296d0a9",
   "metadata": {
    "tags": []
   },
   "outputs": [],
   "source": [
    "mappings = []\n",
    "maps = []\n",
    "for line in puzzle[3:]:\n",
    "    if len(line.split()) < 3 and line != '':\n",
    "        mappings.append(maps)\n",
    "        maps = []\n",
    "\n",
    "    if len(line.split()) >= 3 and line != '':\n",
    "        l = [int(x) for x in line.split(' ')]\n",
    "        maps.append(l)\n",
    "        \n",
    "mappings.append(maps)\n",
    "#print(mappings)"
   ]
  },
  {
   "cell_type": "code",
   "execution_count": 7,
   "id": "80833039-b125-42b5-a2a7-517eff957a52",
   "metadata": {},
   "outputs": [
    {
     "name": "stdout",
     "output_type": "stream",
     "text": [
      "37384986\n"
     ]
    }
   ],
   "source": [
    "locations = []\n",
    "rest = []\n",
    "result = []\n",
    "for pair in seed_pairs:\n",
    "    rest = [pair]\n",
    "    result = []\n",
    "\n",
    "    for _map in mappings:\n",
    "        while rest:\n",
    "            (x, y) = rest.pop()\n",
    "            for dest, start, length in _map: \n",
    "                a = start\n",
    "                b = start+length\n",
    "                                \n",
    "                if y < a or b < x:  # x-y-a-b or a-b-x-y\n",
    "                    continue\n",
    "                elif a <= x <= y < b:  # a-x-y-b\n",
    "                    result.append((dest + x - a, dest + y - a))\n",
    "                    break\n",
    "                elif x <= a <= y < b:  # x-a-y-b\n",
    "                    result.append((dest, dest + y - a))\n",
    "                    rest.append((x, a - 1))\n",
    "                    break\n",
    "                elif a <= x < b <= y:  # a-x-b-y\n",
    "                    result.append((dest + x - a, dest + length - 1))\n",
    "                    rest.append((b, y))\n",
    "                    break\n",
    "                elif x < a <= b <= y:  # x-a-b-y\n",
    "                    result.append((dest, dest + length - 1))\n",
    "                    rest.append((x, a - 1))\n",
    "                    rest.append((b, y))\n",
    "                    break\n",
    "            else:\n",
    "                result.append((x,y))\n",
    "\n",
    "        rest = result\n",
    "        result = []\n",
    "    locations.extend(rest)\n",
    "\n",
    "#print(locations)\n",
    "print(min(i[0] for i in locations))\n"
   ]
  },
  {
   "cell_type": "code",
   "execution_count": null,
   "id": "f3e370f5-9616-47bc-97a8-17714869e979",
   "metadata": {
    "tags": []
   },
   "outputs": [],
   "source": []
  },
  {
   "cell_type": "code",
   "execution_count": null,
   "id": "984758f7-3909-40c4-8b4d-af085f6436c8",
   "metadata": {},
   "outputs": [],
   "source": []
  }
 ],
 "metadata": {
  "kernelspec": {
   "display_name": "Python 3 (ipykernel)",
   "language": "python",
   "name": "python3"
  },
  "language_info": {
   "codemirror_mode": {
    "name": "ipython",
    "version": 3
   },
   "file_extension": ".py",
   "mimetype": "text/x-python",
   "name": "python",
   "nbconvert_exporter": "python",
   "pygments_lexer": "ipython3",
   "version": "3.9.13"
  }
 },
 "nbformat": 4,
 "nbformat_minor": 5
}
