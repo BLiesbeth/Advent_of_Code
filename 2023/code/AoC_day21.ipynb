{
 "cells": [
  {
   "cell_type": "code",
   "execution_count": 41,
   "id": "7ae74eac-de61-4013-9cf6-cbdad38faeb5",
   "metadata": {},
   "outputs": [],
   "source": [
    "import pandas as pd\n",
    "import numpy as np\n",
    "import os\n",
    "from aocd import get_data\n",
    "\n",
    "import sys\n",
    "import time\n",
    "from collections import deque, defaultdict\n"
   ]
  },
  {
   "cell_type": "code",
   "execution_count": 5,
   "id": "570f46de-5aa2-44b5-a6fe-ad916bc6f8b1",
   "metadata": {},
   "outputs": [],
   "source": [
    "puzzle = get_data(day=21, year=2023)\n",
    "\n",
    "file = \"/Users/liesbeth_bogaert/Documents/AoC/2023/input/input_day21.txt\"\n",
    "lines = open(file, \"w\").write(puzzle)\n",
    "\n",
    "puzzle = puzzle.splitlines()\n",
    "#print(puzzle)"
   ]
  },
  {
   "cell_type": "code",
   "execution_count": 53,
   "id": "39824a26-1d72-4fd5-93e4-d18b311d7d50",
   "metadata": {},
   "outputs": [],
   "source": [
    "grid = {}\n",
    "start = (0,0)\n",
    "\n",
    "w = len(puzzle[0])\n",
    "h = len(puzzle)\n",
    "\n",
    "for y, line in enumerate(puzzle):\n",
    "    for x, ch in enumerate(line):\n",
    "        grid[(x, y)] = ch\n",
    "        if ch == 'S':\n",
    "            start = (x, y)\n",
    "\n",
    "directions = [(1,0), (-1, 0), (0, 1), (0, -1)]"
   ]
  },
  {
   "cell_type": "markdown",
   "id": "eac4196f-7b3e-4fed-a4ac-00946e5fdd6b",
   "metadata": {},
   "source": [
    "Part 1"
   ]
  },
  {
   "cell_type": "code",
   "execution_count": 62,
   "id": "31ee5a81-061f-431b-8121-3c4c8c118ff2",
   "metadata": {},
   "outputs": [
    {
     "name": "stdout",
     "output_type": "stream",
     "text": [
      "3689\n"
     ]
    }
   ],
   "source": [
    "steps = 64\n",
    "\n",
    "visited = defaultdict(set)\n",
    "visited[0].add(start)\n",
    "\n",
    "for s in range(steps):\n",
    "    for point in visited[s]:\n",
    "        x, y = point\n",
    "        for n in directions:\n",
    "            dx, dy = n\n",
    "            ix, iy = x+dx, y+dy\n",
    "            if grid.get((ix, iy), None) in['.', 'S']:\n",
    "                visited[s+1].add((ix, iy))\n",
    "\n",
    "print(len(visited.get(len(visited)-1)))"
   ]
  },
  {
   "cell_type": "markdown",
   "id": "e0898110-527f-496a-8343-35831d6697c7",
   "metadata": {},
   "source": [
    "Part 2 "
   ]
  },
  {
   "cell_type": "code",
   "execution_count": 66,
   "id": "1dd63e99-f4ee-4bce-83ba-1ea5804a8ab9",
   "metadata": {},
   "outputs": [
    {
     "name": "stdout",
     "output_type": "stream",
     "text": [
      "65 3689 3689 0\n",
      "196 33389 29587 1\n",
      "327 92907 59175 2\n",
      "202300\n",
      "610158187362102\n",
      "--- 45.668182134628296 seconds ---\n"
     ]
    }
   ],
   "source": [
    "steps = 26501365\n",
    "\n",
    "visited = defaultdict(set)\n",
    "visited[0].add(start)\n",
    "\n",
    "prev_len = 0\n",
    "a=[]\n",
    "\n",
    "start_time = time.time()\n",
    "\n",
    "for s in range(steps):\n",
    "    for point in visited[s]:\n",
    "        x, y = point\n",
    "        for n in neighbors:\n",
    "            dx, dy = n\n",
    "            ix, iy = x+dx, y+dy\n",
    "            if grid.get((ix%w, iy%h), None) in ['.', 'S']:\n",
    "                visited[s+1].add((ix, iy))\n",
    "\n",
    "    if s%w == steps%w:\n",
    "        print(s, len(visited.get(s)), len(visited.get(s)) - prev_len, s//w)\n",
    "        prev_len = len(visited.get(s))\n",
    "        a.append(prev_len)\n",
    "\n",
    "    if len(a) == 3:\n",
    "        break\n",
    "\n",
    "\n",
    "def f(n):\n",
    "    b0 = a[0]\n",
    "    b1 = a[1]-a[0]\n",
    "    b2 = a[2]-a[1]\n",
    "    return b0 + b1*n + (n*(n-1)//2)*(b2-b1)\n",
    "\n",
    "print(f(steps//w))\n",
    "print(\"--- %s seconds ---\" % (time.time() - start_time))"
   ]
  },
  {
   "cell_type": "code",
   "execution_count": null,
   "id": "01edb3b1-9b97-425f-83e9-7833e94382b1",
   "metadata": {},
   "outputs": [],
   "source": []
  },
  {
   "cell_type": "code",
   "execution_count": null,
   "id": "8e9afc6f-2a84-4dce-8f9b-391fccab2645",
   "metadata": {},
   "outputs": [],
   "source": []
  },
  {
   "cell_type": "code",
   "execution_count": null,
   "id": "d960a785-ff72-4c45-8e9a-f484d9d55df7",
   "metadata": {},
   "outputs": [],
   "source": []
  }
 ],
 "metadata": {
  "kernelspec": {
   "display_name": "Python 3 (ipykernel)",
   "language": "python",
   "name": "python3"
  },
  "language_info": {
   "codemirror_mode": {
    "name": "ipython",
    "version": 3
   },
   "file_extension": ".py",
   "mimetype": "text/x-python",
   "name": "python",
   "nbconvert_exporter": "python",
   "pygments_lexer": "ipython3",
   "version": "3.9.13"
  }
 },
 "nbformat": 4,
 "nbformat_minor": 5
}
