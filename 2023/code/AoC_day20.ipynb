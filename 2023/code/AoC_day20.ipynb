{
 "cells": [
  {
   "cell_type": "code",
   "execution_count": 1,
   "id": "23fd6f92-518b-4389-bcd2-1264b97a8b70",
   "metadata": {},
   "outputs": [],
   "source": [
    "import pandas as pd\n",
    "import numpy as np\n",
    "import os\n",
    "from aocd import get_data\n",
    "\n",
    "import sys\n",
    "import time\n",
    "from collections import defaultdict, deque\n",
    "from math import lcm"
   ]
  },
  {
   "cell_type": "code",
   "execution_count": 2,
   "id": "227d81e6-cf75-4e55-a10a-3df95bf07059",
   "metadata": {},
   "outputs": [
    {
     "name": "stdout",
     "output_type": "stream",
     "text": [
      "['%vn -> ts, lq', '&ks -> dt', '%zt -> vl', '%xg -> ts, pb', '&xd -> qz, bc, zt, vk, hq, qx, gc', '&pm -> dt', '%gb -> vj, xd', '%qx -> gb', '%rl -> qn', '%lq -> gk', '%qm -> bf', '%zn -> vh, pf', '%lz -> kk, vr', '%bf -> rr', '%gx -> vr', '%zr -> vx, pf', '%lt -> ng, vr', '%hd -> mg, xd', '%mg -> xd', '%tx -> jg, vr', '%gk -> kx, ts', '&vr -> tr, vf, tx, ks, kk, jg', 'broadcaster -> qz, tx, jr, hk', '%bc -> qx', '%xz -> lt, vr', '%jg -> sb', '%qn -> zr, pf', '%gc -> xv', '%vx -> lj, pf', '%vf -> cn', '&dt -> rx', '%sb -> lz, vr', '%kx -> xg', '%hk -> pf, tv', '%cb -> pf', '&dl -> dt', '%vl -> xd, bc', '%fl -> pp, pf', '%ng -> vr, gx', '%jr -> ts, qm', '%cd -> vn, ts', '%mt -> ts', '%rr -> ts, cd', '%tr -> xz', '%hq -> zt', '%xv -> hq, xd', '%vj -> xd, hd', '%pp -> zn', '%vh -> pf, cb', '%cn -> vr, tr', '%kk -> vf', '&pf -> pp, tv, rl, pm, hk', '&ts -> dl, qm, kx, lq, bf, jr', '%tv -> rl', '&vk -> dt', '%pb -> ts, mt', '%lj -> pf, fl', '%qz -> xd, gc']\n"
     ]
    }
   ],
   "source": [
    "puzzle = get_data(day=20, year=2023)\n",
    "\n",
    "file = \"/Users/liesbeth_bogaert/Documents/AoC/2023/input/input_day20.txt\"\n",
    "lines = open(file, \"w\").write(puzzle)\n",
    "\n",
    "puzzle = puzzle.splitlines()\n",
    "print(puzzle)"
   ]
  },
  {
   "cell_type": "code",
   "execution_count": 3,
   "id": "6cb4f7ae-f482-4f82-b2dc-86d0c0725469",
   "metadata": {},
   "outputs": [],
   "source": [
    "# Testing with M input file\n",
    "#file = \"/Users/liesbeth_bogaert/Documents/AoC/2023/input/input_day20_m.txt\"\n",
    "#puzzle = open(file).read().splitlines()"
   ]
  },
  {
   "cell_type": "code",
   "execution_count": 9,
   "id": "e990dddd-b698-4347-9cf3-d50bdcf16776",
   "metadata": {},
   "outputs": [],
   "source": [
    "conjs = {}\n",
    "flips = {}\n",
    "broad = []\n",
    "\n",
    "rx = \"\"\n",
    "\n",
    "for line in puzzle:\n",
    "    module, dest = line.split(' -> ')\n",
    "    dest = dest.split(', ')\n",
    "    type = module[0]\n",
    "    label = module[1:]\n",
    "\n",
    "    if \"rx\" in dest:\n",
    "        rx = label\n",
    "    \n",
    "    if type == '%':\n",
    "        flips[label] = dest\n",
    "    elif type == '&':\n",
    "        conjs[label] = dest\n",
    "    elif module == 'broadcaster':\n",
    "        broad = dest\n",
    "    \n",
    "#print(conjs)\n",
    "#print(flips)\n",
    "#print(broad)"
   ]
  },
  {
   "cell_type": "code",
   "execution_count": 40,
   "id": "07ceaeb8-b924-499c-826e-a92d04f38fd3",
   "metadata": {},
   "outputs": [],
   "source": [
    "def initialise(): \n",
    "    global lows, highs, presses, flip_states, conj_mem\n",
    "\n",
    "    lows = 0\n",
    "    highs = 0\n",
    "    presses = 0\n",
    "\n",
    "    flip_states = {}\n",
    "    conj_mem = defaultdict(dict)\n",
    "\n",
    "    for f in flips.keys():\n",
    "        flip_states[f] = False\n",
    "        for o in flips[f]:\n",
    "            if o in conjs.keys():\n",
    "                conj_mem[o][f] = False\n",
    "\n",
    "    for k, v in conjs.items():\n",
    "        for o in v:\n",
    "            if o in conjs.keys():\n",
    "                conj_mem[o][k] = False\n"
   ]
  },
  {
   "cell_type": "code",
   "execution_count": 48,
   "id": "16650d09-67f8-4e39-9449-39f86aa1b759",
   "metadata": {},
   "outputs": [],
   "source": [
    "def press(part):\n",
    "    global lows, highs, presses\n",
    "    presses += 1\n",
    "    \n",
    "    pulse_queue = [(False, \"button\", \"broadcaster\")]\n",
    "\n",
    "    while pulse_queue:        \n",
    "        pulse, src, dst = pulse_queue.pop(0)\n",
    "        \n",
    "        if part & (dst == 'rx'): # For part 2\n",
    "            continue\n",
    "        \n",
    "        if pulse == True:\n",
    "            highs += 1\n",
    "        else:\n",
    "            lows += 1\n",
    "            \n",
    "        if dst == \"broadcaster\":\n",
    "            for b in broad:\n",
    "                pulse_queue.append((pulse, dst, b))\n",
    "                \n",
    "        elif dst in flips.keys():\n",
    "            if pulse == False:\n",
    "                flip_states[dst] = not flip_states[dst]\n",
    "                for f2 in flips[dst]:\n",
    "                    pulse_queue.append((flip_states[dst], dst, f2))\n",
    "                    \n",
    "        elif dst in conjs.keys():\n",
    "            conj_mem[dst][src] = pulse\n",
    "            snd = not all(v for v in conj_mem[dst].values())\n",
    "            for f2 in conjs[dst]:\n",
    "                pulse_queue.append((snd, dst, f2))\n",
    " \n",
    "        for label, val in conj_mem[rx].items(): # For part 2\n",
    "                if val == True and label not in rx_cons:\n",
    "                    rx_cons[label] = presses"
   ]
  },
  {
   "cell_type": "code",
   "execution_count": 49,
   "id": "d66f710b-1e8d-4d39-b6bf-14619018356a",
   "metadata": {},
   "outputs": [
    {
     "name": "stdout",
     "output_type": "stream",
     "text": [
      "1000 16687 42647\n",
      "711650489\n"
     ]
    }
   ],
   "source": [
    "# Part 1\n",
    "initialise()\n",
    "\n",
    "for _ in range(1000):\n",
    "    press(False)\n",
    "\n",
    "#print(presses, lows, highs)\n",
    "print(lows * highs)"
   ]
  },
  {
   "cell_type": "code",
   "execution_count": 51,
   "id": "e68f5073-321f-41f4-ae57-3a09ff93ec46",
   "metadata": {
    "tags": []
   },
   "outputs": [
    {
     "name": "stdout",
     "output_type": "stream",
     "text": [
      "{'dl': 3769, 'pm': 3833, 'vk': 3877, 'ks': 3917}\n",
      "219388737656593\n"
     ]
    }
   ],
   "source": [
    "# Part 2\n",
    "rx_cons = {}\n",
    "initialise()\n",
    "\n",
    "while len(rx_cons) < 4:\n",
    "    press(True)\n",
    "\n",
    "print(rx_cons)\n",
    "print(lcm(*rx_cons.values()))"
   ]
  },
  {
   "cell_type": "code",
   "execution_count": null,
   "id": "2a177993-3efc-4773-a8f1-4c5dd9026813",
   "metadata": {},
   "outputs": [],
   "source": []
  },
  {
   "cell_type": "code",
   "execution_count": null,
   "id": "b7fee4ff-4434-49de-8995-22b49b42599d",
   "metadata": {},
   "outputs": [],
   "source": []
  },
  {
   "cell_type": "code",
   "execution_count": null,
   "id": "469b3a8c-5674-4004-844a-4851a891cbe0",
   "metadata": {},
   "outputs": [],
   "source": []
  }
 ],
 "metadata": {
  "kernelspec": {
   "display_name": "Python 3 (ipykernel)",
   "language": "python",
   "name": "python3"
  },
  "language_info": {
   "codemirror_mode": {
    "name": "ipython",
    "version": 3
   },
   "file_extension": ".py",
   "mimetype": "text/x-python",
   "name": "python",
   "nbconvert_exporter": "python",
   "pygments_lexer": "ipython3",
   "version": "3.9.13"
  }
 },
 "nbformat": 4,
 "nbformat_minor": 5
}
