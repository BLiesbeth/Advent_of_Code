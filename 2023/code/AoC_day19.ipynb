{
 "cells": [
  {
   "cell_type": "code",
   "execution_count": 77,
   "id": "cee6a119-298b-408d-a797-929834e3c32e",
   "metadata": {},
   "outputs": [],
   "source": [
    "import pandas as pd\n",
    "import numpy as np\n",
    "import os\n",
    "from aocd import get_data\n",
    "\n",
    "import sys\n",
    "import time\n",
    "\n",
    "from copy import deepcopy\n"
   ]
  },
  {
   "cell_type": "code",
   "execution_count": 60,
   "id": "ff2eba41-a511-41bd-be6f-e3c01c774117",
   "metadata": {
    "tags": []
   },
   "outputs": [],
   "source": [
    "puzzle = get_data(day=19, year=2023)\n",
    "\n",
    "file = \"/Users/liesbeth_bogaert/Documents/AoC/2023/input/input_day19.txt\"\n",
    "lines = open(file, \"w\").write(puzzle)\n",
    "\n",
    "#puzzle = puzzle.splitlines()\n",
    "puzzle = puzzle.split('\\n\\n')\n",
    "flows, ratings = puzzle\n",
    "#print(flows)"
   ]
  },
  {
   "cell_type": "code",
   "execution_count": 61,
   "id": "aa9f7813-a472-43e1-a454-573da4f1188c",
   "metadata": {
    "tags": []
   },
   "outputs": [],
   "source": [
    "parts = []\n",
    "for r in ratings.splitlines():\n",
    "    input = r[1:-1].split(',')\n",
    "    part = []\n",
    "    for p in input:\n",
    "        part.append(int(p[2:]))\n",
    "    parts.append(part)\n",
    "\n",
    "#print(parts)"
   ]
  },
  {
   "cell_type": "code",
   "execution_count": 119,
   "id": "d79efc06-5b49-4a6b-ab4f-64bca56b675f",
   "metadata": {
    "tags": []
   },
   "outputs": [],
   "source": [
    "workflows = {}\n",
    "for w in flows.splitlines():\n",
    "    part, rules = w.split('{')\n",
    "    workflows[part] = rules[:-1]\n",
    "\n",
    "#print(workflows)"
   ]
  },
  {
   "cell_type": "markdown",
   "id": "25ca5a17-f0fc-4712-8b2e-6ec2d4e0a60b",
   "metadata": {},
   "source": [
    "Part 1"
   ]
  },
  {
   "cell_type": "code",
   "execution_count": 63,
   "id": "6d6b48cd-29fb-4541-a267-9ff56124552b",
   "metadata": {},
   "outputs": [],
   "source": [
    "def is_A(part, work):\n",
    "    w = workflows[work]\n",
    "    #print(w)\n",
    "    x, m, a, s = part\n",
    "    for item in w.split(','):\n",
    "        if item == 'A':\n",
    "            return True\n",
    "        if item == 'R':\n",
    "            return False\n",
    "\n",
    "        if \":\" not in item:\n",
    "            return is_A(part, item)\n",
    "        \n",
    "        cond = item.split(\":\")[0]\n",
    "        #print(cond)\n",
    "        if eval(cond):\n",
    "            if item.split(\":\")[1] == 'R':\n",
    "                return False\n",
    "            if item.split(\":\")[1] == 'A':\n",
    "                return True\n",
    "            return is_A(part, item.split(\":\")[1])\n",
    "\n",
    "        "
   ]
  },
  {
   "cell_type": "code",
   "execution_count": 64,
   "id": "687574ca-7854-4ad8-b8e2-cb8240d1db7f",
   "metadata": {
    "tags": []
   },
   "outputs": [
    {
     "name": "stdout",
     "output_type": "stream",
     "text": [
      "421983\n"
     ]
    }
   ],
   "source": [
    "total = 0\n",
    "\n",
    "for part in parts:\n",
    "    if is_A(part, 'in'):\n",
    "        total += sum(part)\n",
    "\n",
    "print(total)\n"
   ]
  },
  {
   "cell_type": "markdown",
   "id": "db7f3ca0-bd98-4a89-8b0c-d9864a7a970e",
   "metadata": {},
   "source": [
    "Part 2"
   ]
  },
  {
   "cell_type": "code",
   "execution_count": 120,
   "id": "63b3fa34-4ef1-4672-a3e3-db2072409cbb",
   "metadata": {
    "tags": []
   },
   "outputs": [],
   "source": [
    "workflows = {}\n",
    "for line in flows.splitlines():\n",
    "    l = line.split(\"{\")\n",
    "    name = l[0]\n",
    "    parts = [part.split(\":\") for part in l[1][:-1].split(\",\")]\n",
    "    parts = [\n",
    "        [(part[0][0], part[0][1], int(part[0][2:])), part[1]]\n",
    "        if len(part) == 2\n",
    "        else part\n",
    "        for part in parts\n",
    "    ]\n",
    "    workflows[name] = parts\n",
    "\n",
    "#print(workflows)"
   ]
  },
  {
   "cell_type": "code",
   "execution_count": 115,
   "id": "8d2d9151-5b3b-479c-8cf5-facaa67f4be7",
   "metadata": {},
   "outputs": [],
   "source": [
    "def range_size(range):\n",
    "    result = 1\n",
    "    for val in range.values():\n",
    "        result *= 1 + val[1] - val[0]\n",
    "    return result\n",
    "\n",
    "\n",
    "def solve(workflows, ranges, work):\n",
    "    parts = workflows[work]\n",
    "    val = 0\n",
    "\n",
    "    for part in parts:\n",
    "        if len(part) == 1:\n",
    "            if part[0] == 'A':\n",
    "                val += range_size(ranges)\n",
    "            elif part[0] != 'R':\n",
    "                val += solve(workflows, ranges, part[0])\n",
    "        else:\n",
    "            (xmas, cond, amount) = part[0]\n",
    "            destination = part[1]\n",
    "            range_xmas = ranges[xmas]\n",
    "\n",
    "            if cond == '>':\n",
    "                if range_xmas[1] > amount:\n",
    "                    range_copy = deepcopy(ranges)\n",
    "                    range_copy[xmas] = (max(range_xmas[0], amount + 1), range_xmas[1])\n",
    "\n",
    "                    if destination == 'A':\n",
    "                        val += range_size(range_copy)\n",
    "                    elif destination != 'R':\n",
    "                        val += solve(workflows, range_copy, destination)\n",
    "\n",
    "                ranges[xmas] = (range_xmas[0], amount)\n",
    "            else:\n",
    "                if range_xmas[0] < amount:\n",
    "                    range_copy = deepcopy(ranges)\n",
    "                    range_copy[xmas] = (range_xmas[0], min(range_xmas[1], amount - 1))\n",
    "\n",
    "                    if destination == 'A':\n",
    "                        val += range_size(range_copy)\n",
    "                    elif destination != 'R':\n",
    "                        val += solve(workflows, range_copy, destination)\n",
    "\n",
    "                ranges[xmas] = (amount, range_xmas[1])\n",
    "\n",
    "    return val\n"
   ]
  },
  {
   "cell_type": "code",
   "execution_count": 116,
   "id": "59aff81d-b300-4fe5-9357-70d3326ba2fa",
   "metadata": {},
   "outputs": [
    {
     "name": "stdout",
     "output_type": "stream",
     "text": [
      "129249871135292\n"
     ]
    }
   ],
   "source": [
    "ranges = {}\n",
    "for val in \"xmas\":\n",
    "    ranges[val] = (1, 4000)\n",
    "\n",
    "total = solve(workflows, ranges, \"in\")\n",
    "\n",
    "print(total)"
   ]
  },
  {
   "cell_type": "code",
   "execution_count": null,
   "id": "6030b3f3-1e71-4121-8028-7c19ae6d6b2d",
   "metadata": {},
   "outputs": [],
   "source": []
  }
 ],
 "metadata": {
  "kernelspec": {
   "display_name": "Python 3 (ipykernel)",
   "language": "python",
   "name": "python3"
  },
  "language_info": {
   "codemirror_mode": {
    "name": "ipython",
    "version": 3
   },
   "file_extension": ".py",
   "mimetype": "text/x-python",
   "name": "python",
   "nbconvert_exporter": "python",
   "pygments_lexer": "ipython3",
   "version": "3.9.13"
  }
 },
 "nbformat": 4,
 "nbformat_minor": 5
}
