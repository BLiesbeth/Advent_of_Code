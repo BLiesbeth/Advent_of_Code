{
 "cells": [
  {
   "cell_type": "code",
   "execution_count": 1,
   "id": "da4a6ef6-46da-4e6e-b4a1-ebb945dadde1",
   "metadata": {},
   "outputs": [],
   "source": [
    "import pandas as pd\n",
    "import numpy as np\n",
    "import os\n",
    "from aocd import get_data\n",
    "\n",
    "import sys"
   ]
  },
  {
   "cell_type": "code",
   "execution_count": 2,
   "id": "62244047-3733-4fda-a51e-a48da5b8c3e3",
   "metadata": {
    "tags": []
   },
   "outputs": [],
   "source": [
    "puzzle = get_data(day=16, year=2023)\n",
    "\n",
    "file = \"/Users/liesbeth_bogaert/Documents/AoC/2023/input/input_day16.txt\"\n",
    "lines = open(file, \"w\").write(puzzle)\n",
    "\n",
    "#puzzle = puzzle.splitlines()\n",
    "#print(puzzle)"
   ]
  },
  {
   "cell_type": "code",
   "execution_count": 3,
   "id": "6a9ed6c2-4a46-45d5-a68f-174209a0cf33",
   "metadata": {},
   "outputs": [],
   "source": [
    "puzzle = puzzle.split('\\n')\n",
    "grid = [[c for c in row] for row in puzzle]\n",
    "\n",
    "rows = len(grid)\n",
    "cols = len(grid[0])\n",
    "\n",
    "drows = [-1,0,1,0]\n",
    "dcols = [0,1,0,-1]"
   ]
  },
  {
   "cell_type": "code",
   "execution_count": 4,
   "id": "4c284f96-791b-4e9b-a09d-e91fe67b4f4f",
   "metadata": {},
   "outputs": [],
   "source": [
    "def step(r,c,d):\n",
    "    return (r+drows[d], c+dcols[d], d)"
   ]
  },
  {
   "cell_type": "code",
   "execution_count": 5,
   "id": "f2cb9a53-a719-4706-8dc8-153c8a97d483",
   "metadata": {},
   "outputs": [],
   "source": [
    "def score(sr,sc,sd):\n",
    "    position = [(sr,sc,sd)]\n",
    "    seen = set()\n",
    "    been = set()\n",
    "    while True:\n",
    "        nextpos = []\n",
    "        if not position:\n",
    "            break\n",
    "        for (r,c,d) in position:\n",
    "            #print(r,c,d)\n",
    "            if 0 <= r < rows and 0 <= c < cols:\n",
    "                seen.add((r,c))\n",
    "                if (r,c,d) in been:\n",
    "                    continue\n",
    "                been.add((r,c,d))\n",
    "                ch = grid[r][c]\n",
    "                if ch=='.':\n",
    "                    nextpos.append(step(r,c,d))\n",
    "                elif ch=='/':\n",
    "                    # up right down left\n",
    "                    nextpos.append(step(r,c,{0:1, 1:0, 2:3, 3:2}[d]))\n",
    "                elif ch=='\\\\':\n",
    "                    nextpos.append(step(r,c,{0:3, 1:2, 2:1, 3:0}[d]))\n",
    "                elif ch=='|':\n",
    "                    if d in [0,2]:\n",
    "                        nextpos.append(step(r,c,d))\n",
    "                    else:\n",
    "                        nextpos.append(step(r, c, 0))\n",
    "                        nextpos.append(step(r, c, 2))\n",
    "                elif ch=='-':\n",
    "                    if d in [1,3]:\n",
    "                        nextpos.append(step(r,c,d))\n",
    "                    else:\n",
    "                        nextpos.append(step(r, c, 1))\n",
    "                        nextpos.append(step(r, c, 3))\n",
    "\n",
    "        position = nextpos\n",
    "    return len(seen)\n"
   ]
  },
  {
   "cell_type": "code",
   "execution_count": 6,
   "id": "c675da6a-617a-410a-826b-85a0f5629001",
   "metadata": {},
   "outputs": [
    {
     "name": "stdout",
     "output_type": "stream",
     "text": [
      "7236\n"
     ]
    }
   ],
   "source": [
    "print(score(0,0,1))"
   ]
  },
  {
   "cell_type": "code",
   "execution_count": 7,
   "id": "b3346f38-07d5-4f17-8663-95c7049508c7",
   "metadata": {},
   "outputs": [
    {
     "name": "stdout",
     "output_type": "stream",
     "text": [
      "7521\n"
     ]
    }
   ],
   "source": [
    "ans = 0\n",
    "for r in range(rows):\n",
    "    ans = max(ans, score(r,0,1))\n",
    "    ans = max(ans, score(r,cols-1,3))\n",
    "for c in range(cols):\n",
    "    ans = max(ans, score(0,c,2))\n",
    "    ans = max(ans, score(rows-1,c,0))\n",
    "print(ans)"
   ]
  },
  {
   "cell_type": "code",
   "execution_count": null,
   "id": "e5a3e142-1ca5-4722-aa14-298961aea5c9",
   "metadata": {},
   "outputs": [],
   "source": []
  },
  {
   "cell_type": "code",
   "execution_count": null,
   "id": "b314703e-e4f5-48b9-86a0-5360dfdc4dbd",
   "metadata": {},
   "outputs": [],
   "source": []
  },
  {
   "cell_type": "code",
   "execution_count": null,
   "id": "4a1ca304-886c-45c2-8873-ab061bbddc87",
   "metadata": {},
   "outputs": [],
   "source": []
  }
 ],
 "metadata": {
  "kernelspec": {
   "display_name": "Python 3 (ipykernel)",
   "language": "python",
   "name": "python3"
  },
  "language_info": {
   "codemirror_mode": {
    "name": "ipython",
    "version": 3
   },
   "file_extension": ".py",
   "mimetype": "text/x-python",
   "name": "python",
   "nbconvert_exporter": "python",
   "pygments_lexer": "ipython3",
   "version": "3.9.13"
  }
 },
 "nbformat": 4,
 "nbformat_minor": 5
}
