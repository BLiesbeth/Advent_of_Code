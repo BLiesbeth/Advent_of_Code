{
 "cells": [
  {
   "cell_type": "code",
   "execution_count": 2,
   "id": "6e27213e-8e21-4eee-926b-e219f21fc184",
   "metadata": {},
   "outputs": [],
   "source": [
    "import pandas as pd\n",
    "import numpy as np\n",
    "import os\n",
    "from aocd import get_data\n",
    "\n",
    "import sys"
   ]
  },
  {
   "cell_type": "code",
   "execution_count": 3,
   "id": "2bc6bb8f-79d0-42b5-bec5-4cc1bf5e6ce3",
   "metadata": {
    "tags": []
   },
   "outputs": [],
   "source": [
    "puzzle = get_data(day=9, year=2023)\n",
    "\n",
    "file = \"/Users/liesbeth_bogaert/Documents/AoC/2023/input/input_day9.txt\"\n",
    "lines = open(file, \"w\").write(puzzle)\n",
    "\n",
    "puzzle = puzzle.splitlines()\n",
    "#print(puzzle)"
   ]
  },
  {
   "cell_type": "code",
   "execution_count": 4,
   "id": "7001eb11-8818-4173-8431-096f3efab735",
   "metadata": {},
   "outputs": [],
   "source": [
    "def f(nx):\n",
    "    #print(nx)\n",
    "    N = []\n",
    "    for i in range(len(nx)-1):\n",
    "        N.append(nx[i+1]-nx[i])\n",
    "        \n",
    "    if sum(i != 0 for i in nx) == 0:\n",
    "        return 0\n",
    "    else:\n",
    "        if part1:\n",
    "            return nx[-1] + f(N)\n",
    "        else:\n",
    "            return nx[0] - f(N)"
   ]
  },
  {
   "cell_type": "code",
   "execution_count": 5,
   "id": "817bf855-de7b-4bf4-9c6f-13b809d6f95e",
   "metadata": {
    "tags": []
   },
   "outputs": [
    {
     "name": "stdout",
     "output_type": "stream",
     "text": [
      "2175229206\n"
     ]
    }
   ],
   "source": [
    "part1 = True\n",
    "ts = []\n",
    "for line in puzzle:\n",
    "    nx = [int(x) for x in line.split()]\n",
    "    ts.append(f(nx))\n",
    "    \n",
    "print(sum(ts))"
   ]
  },
  {
   "cell_type": "code",
   "execution_count": 6,
   "id": "34265481-16c7-4445-88a1-fc428cdd7b96",
   "metadata": {},
   "outputs": [
    {
     "name": "stdout",
     "output_type": "stream",
     "text": [
      "942\n"
     ]
    }
   ],
   "source": [
    "total = 0\n",
    "part1 = False\n",
    "\n",
    "for line in puzzle:\n",
    "    nx = [int(x) for x in line.split()]\n",
    "    total += f(nx)\n",
    "    \n",
    "print(total)"
   ]
  }
 ],
 "metadata": {
  "kernelspec": {
   "display_name": "Python 3 (ipykernel)",
   "language": "python",
   "name": "python3"
  },
  "language_info": {
   "codemirror_mode": {
    "name": "ipython",
    "version": 3
   },
   "file_extension": ".py",
   "mimetype": "text/x-python",
   "name": "python",
   "nbconvert_exporter": "python",
   "pygments_lexer": "ipython3",
   "version": "3.9.13"
  }
 },
 "nbformat": 4,
 "nbformat_minor": 5
}
