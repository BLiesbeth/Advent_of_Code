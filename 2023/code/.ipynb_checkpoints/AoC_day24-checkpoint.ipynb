{
 "cells": [
  {
   "cell_type": "code",
   "execution_count": null,
   "id": "353c7014-ed3e-444b-856b-cf602e29e8b5",
   "metadata": {},
   "outputs": [],
   "source": [
    "import pandas as pd\n",
    "import numpy as np\n",
    "import os\n",
    "from aocd import get_data\n",
    "\n",
    "import sys\n",
    "import time\n",
    "\n",
    "import itertools"
   ]
  },
  {
   "cell_type": "code",
   "execution_count": null,
   "id": "77667f82-3b58-4d54-8abf-3340c7d4dce3",
   "metadata": {
    "tags": []
   },
   "outputs": [],
   "source": [
    "puzzle = get_data(day=24, year=2023)\n",
    "\n",
    "file = \"/Users/liesbeth_bogaert/Documents/AoC/2023/input/input_day24.txt\"\n",
    "lines = open(file, \"w\").write(puzzle)\n",
    "\n",
    "puzzle = puzzle.splitlines()\n",
    "print(puzzle)"
   ]
  },
  {
   "cell_type": "code",
   "execution_count": null,
   "id": "cc684306-108c-4905-81a5-450ad6ebc149",
   "metadata": {},
   "outputs": [],
   "source": [
    "hailstones = []\n",
    "for line in puzzle:\n",
    "    pos, vel = line.split('@')\n",
    "    px, py, pz = [int(s) for s in pos.split(', ')]\n",
    "    vx, vy, vz = [int(s) for s in vel.split(', ')]\n",
    "    # create line equations\n",
    "    # y = ax + b\n",
    "    slope = vy / vx\n",
    "    intercept = py - slope * px\n",
    "    hailstones.append([px, py, pz, vx, vy, vz, slope, intercept])"
   ]
  },
  {
   "cell_type": "code",
   "execution_count": null,
   "id": "aedf4533-fd50-493d-8cf3-4b62253c499f",
   "metadata": {},
   "outputs": [],
   "source": [
    "area = (200000000000000, 400000000000000)"
   ]
  },
  {
   "cell_type": "code",
   "execution_count": null,
   "id": "cc604cf1-18e9-4b5c-b57c-feadf64ec053",
   "metadata": {},
   "outputs": [],
   "source": [
    "counter = 0\n",
    "for h1, h2 in itertools.combinations(hailstones, 2):\n",
    "    # find intersection\n",
    "    # ax + b = cx + d\n",
    "    # ax - cx = d - b\n",
    "    # x(a - c) = d - b\n",
    "    # x = (d - b) / (a - c)\n",
    "    \n",
    "    if h1[6] == h2[6]:\n",
    "        continue  # parallel\n",
    "        \n",
    "    ix = (h2[7] - h1[7] ) / (h1[6] - h2[6])\n",
    "    iy = h1[6] * ix + h1[7]\n",
    "    \n",
    "    # ignore if behind starting points\n",
    "    t1 = (ix - h1[0]) / h1[3]\n",
    "    t2 = (ix - h2[0]) / h2[3]\n",
    "    if t1 < 0 or t2 < 0:\n",
    "        continue\n",
    "    if area[0] <= ix <= area[1] and area[0] <= iy <= area[1]:\n",
    "        counter += 1\n",
    "print(counter)"
   ]
  },
  {
   "cell_type": "code",
   "execution_count": null,
   "id": "bc1e5744-7259-4bfd-8806-ff6f49047395",
   "metadata": {
    "tags": []
   },
   "outputs": [],
   "source": [
    "!pip install z3-solver"
   ]
  },
  {
   "cell_type": "code",
   "execution_count": null,
   "id": "717522cb-9be8-4452-aac5-66956563e0fe",
   "metadata": {},
   "outputs": [],
   "source": [
    "import z3-solver as z3"
   ]
  },
  {
   "cell_type": "code",
   "execution_count": null,
   "id": "98624cf0-59f1-4c93-8cc3-80100a5e705d",
   "metadata": {},
   "outputs": [],
   "source": [
    "pxr, pyr, pzr, vxr, vyr, vzr = z3.Reals(\"pxr pyr pzr vxr vyr vzr\")\n",
    "solver = z3.Solver()\n",
    "\n",
    "for k, h in enumerate(hailstones):\n",
    "    tK = z3.Real(f\"t{k}\")\n",
    "    solver.add(tK > 0)\n",
    "    solver.add(pxr + tK * vxr == h[0] + tK * h[3])\n",
    "    solver.add(pyr + tK * vyr == h[1] + tK * h[4])\n",
    "    solver.add(pzr + tK * vzr == h[2] + tK * h[5])\n",
    "\n",
    "solver.check()\n",
    "total = sum(solver.model()[var].as_long() for var in [pxr, pyr, pzr])\n",
    "print(total)"
   ]
  },
  {
   "cell_type": "code",
   "execution_count": null,
   "id": "8328fb5b-3a6b-462b-994a-7f2dfff58fe3",
   "metadata": {},
   "outputs": [],
   "source": []
  }
 ],
 "metadata": {
  "kernelspec": {
   "display_name": "Python 3 (ipykernel)",
   "language": "python",
   "name": "python3"
  },
  "language_info": {
   "codemirror_mode": {
    "name": "ipython",
    "version": 3
   },
   "file_extension": ".py",
   "mimetype": "text/x-python",
   "name": "python",
   "nbconvert_exporter": "python",
   "pygments_lexer": "ipython3",
   "version": "3.9.13"
  }
 },
 "nbformat": 4,
 "nbformat_minor": 5
}
