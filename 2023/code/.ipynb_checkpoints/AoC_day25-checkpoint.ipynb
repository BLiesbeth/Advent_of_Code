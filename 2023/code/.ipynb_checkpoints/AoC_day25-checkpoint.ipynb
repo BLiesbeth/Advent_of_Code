{
 "cells": [
  {
   "cell_type": "code",
   "execution_count": 1,
   "id": "b4760e61-6b64-4113-b3bc-2ab75c88b636",
   "metadata": {},
   "outputs": [],
   "source": [
    "import pandas as pd\n",
    "import numpy as np\n",
    "import os\n",
    "from aocd import get_data\n",
    "\n",
    "import sys\n",
    "import time\n",
    "from networkx import *"
   ]
  },
  {
   "cell_type": "code",
   "execution_count": 2,
   "id": "2921d063-b495-46c2-a699-3eb6b67cf50b",
   "metadata": {
    "tags": []
   },
   "outputs": [],
   "source": [
    "puzzle = get_data(day=25, year=2023)\n",
    "\n",
    "file = \"/Users/liesbeth_bogaert/Documents/AoC/2023/input/input_day25.txt\"\n",
    "lines = open(file, \"w\").write(puzzle)\n",
    "\n",
    "puzzle = puzzle.splitlines()\n",
    "#print(puzzle)"
   ]
  },
  {
   "cell_type": "code",
   "execution_count": null,
   "id": "587f8f7e-b439-4edb-a9ed-1efab20a812f",
   "metadata": {},
   "outputs": [],
   "source": []
  },
  {
   "cell_type": "code",
   "execution_count": 3,
   "id": "24d51cec-ed9f-480a-97ed-7639dd6372ec",
   "metadata": {
    "tags": []
   },
   "outputs": [],
   "source": [
    "nodes = set()\n",
    "edges = set()\n",
    "\n",
    "for line in puzzle:\n",
    "    n, connection = line.split(': ')\n",
    "    nodes.add(n)\n",
    "    \n",
    "    for c in connection.split(' '):\n",
    "        edges.add(tuple(sorted([n, c])))\n",
    "\n",
    "#print(nodes)\n",
    "#print(edges) "
   ]
  },
  {
   "cell_type": "code",
   "execution_count": 4,
   "id": "8f8e6fe0-d374-475b-b469-98c72cf074fc",
   "metadata": {},
   "outputs": [
    {
     "name": "stdout",
     "output_type": "stream",
     "text": [
      "551196\n"
     ]
    }
   ],
   "source": [
    "G = Graph()\n",
    "G.add_nodes_from(nodes)\n",
    "G.add_edges_from(edges)\n",
    "\n",
    "edges_to_cut = minimum_edge_cut(G)\n",
    "\n",
    "for edge in edges_to_cut:\n",
    "    G.remove_edge(*edge)\n",
    "    \n",
    "    \n",
    "connected = list(connected_components(G))\n",
    "\n",
    "product = 1\n",
    "for c in connected:\n",
    "    product *= len(c)\n",
    "print(product)"
   ]
  },
  {
   "cell_type": "code",
   "execution_count": 5,
   "id": "c2df207d-5bdf-43ad-b39a-095eeb0844e2",
   "metadata": {},
   "outputs": [],
   "source": [
    "#print(connected[0])\n",
    "#print(connected[1])"
   ]
  },
  {
   "cell_type": "code",
   "execution_count": null,
   "id": "c1a92bcf-d109-4113-8ade-a88841e3ba7d",
   "metadata": {},
   "outputs": [],
   "source": []
  }
 ],
 "metadata": {
  "kernelspec": {
   "display_name": "Python 3 (ipykernel)",
   "language": "python",
   "name": "python3"
  },
  "language_info": {
   "codemirror_mode": {
    "name": "ipython",
    "version": 3
   },
   "file_extension": ".py",
   "mimetype": "text/x-python",
   "name": "python",
   "nbconvert_exporter": "python",
   "pygments_lexer": "ipython3",
   "version": "3.9.13"
  }
 },
 "nbformat": 4,
 "nbformat_minor": 5
}
