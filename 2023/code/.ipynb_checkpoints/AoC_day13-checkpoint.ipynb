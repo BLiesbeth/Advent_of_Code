{
 "cells": [
  {
   "cell_type": "code",
   "execution_count": 1,
   "id": "ac94790c-c414-4ed4-b54c-6d2d47b54b3e",
   "metadata": {},
   "outputs": [],
   "source": [
    "import pandas as pd\n",
    "import numpy as np\n",
    "import os\n",
    "from aocd import get_data\n",
    "\n",
    "import sys"
   ]
  },
  {
   "cell_type": "code",
   "execution_count": 2,
   "id": "5fef7401-237f-4589-9897-7a975c35bb11",
   "metadata": {
    "tags": []
   },
   "outputs": [],
   "source": [
    "puzzle = get_data(day=13, year=2023)\n",
    "\n",
    "file = \"/Users/liesbeth_bogaert/Documents/AoC/2023/input/input_day13.txt\"\n",
    "lines = open(file, \"w\").write(puzzle)\n",
    "\n",
    "#puzzle = puzzle.splitlines()\n",
    "#print(puzzle)"
   ]
  },
  {
   "cell_type": "code",
   "execution_count": 3,
   "id": "84447de8-d309-4fa9-8b16-5588b7942427",
   "metadata": {},
   "outputs": [],
   "source": [
    "grids = [row for row in [s.splitlines() for s in puzzle.split(\"\\n\\n\")]]\n",
    "transposed = [list(\"\".join(x) for x in zip(*grid)) for grid in grids]"
   ]
  },
  {
   "cell_type": "code",
   "execution_count": 6,
   "id": "ffef24b6-f894-4936-b551-2bc97b462c2b",
   "metadata": {},
   "outputs": [],
   "source": [
    "def check_mirror(grid: list[str], mistakes: int = 0):\n",
    "    rows = len(grid)\n",
    "    cols = len(grid[0])\n",
    "    \n",
    "    for col in range(cols - 1):\n",
    "        errors = 0\n",
    "        for split_col in range(cols):\n",
    "            left = col - split_col\n",
    "            right = col + 1 + split_col\n",
    "            if 0 <= left < right < cols:\n",
    "                for row in range(rows):\n",
    "                    if grid[row][left] != grid[row][right]:\n",
    "                        errors += 1\n",
    "                        \n",
    "        if errors == mistakes:\n",
    "            return col + 1\n",
    "    return 0"
   ]
  },
  {
   "cell_type": "code",
   "execution_count": 5,
   "id": "0c0076ec-6782-4227-bbae-544422ba22bc",
   "metadata": {},
   "outputs": [
    {
     "name": "stdout",
     "output_type": "stream",
     "text": [
      "part 1:  33780\n",
      "part 2:  23479\n"
     ]
    }
   ],
   "source": [
    "p1_total = 0\n",
    "p2_total = 0\n",
    "\n",
    "for grid in grids:\n",
    "    p1_total += check_mirror(grid)\n",
    "    p2_total += check_mirror(grid, 1)\n",
    "    \n",
    "for transposed_grid in transposed:\n",
    "    p1_total += 100 * check_mirror(transposed_grid)\n",
    "    p2_total += 100 * check_mirror(transposed_grid, 1)\n",
    "    \n",
    "print(\"part 1: \", p1_total)\n",
    "print(\"part 2: \", p2_total)"
   ]
  },
  {
   "cell_type": "code",
   "execution_count": null,
   "id": "005ef7a4-af01-4c3b-973d-d8f7f337b4f3",
   "metadata": {},
   "outputs": [],
   "source": []
  },
  {
   "cell_type": "code",
   "execution_count": null,
   "id": "7e27070f-509d-44de-8494-7712f56a408e",
   "metadata": {},
   "outputs": [],
   "source": []
  }
 ],
 "metadata": {
  "kernelspec": {
   "display_name": "Python 3 (ipykernel)",
   "language": "python",
   "name": "python3"
  },
  "language_info": {
   "codemirror_mode": {
    "name": "ipython",
    "version": 3
   },
   "file_extension": ".py",
   "mimetype": "text/x-python",
   "name": "python",
   "nbconvert_exporter": "python",
   "pygments_lexer": "ipython3",
   "version": "3.9.13"
  }
 },
 "nbformat": 4,
 "nbformat_minor": 5
}
