{
 "cells": [
  {
   "cell_type": "code",
   "execution_count": 1,
   "id": "26f26c6e-4369-435c-9635-aedd61de1133",
   "metadata": {},
   "outputs": [],
   "source": [
    "import pandas as pd\n",
    "import numpy as np\n",
    "import os\n",
    "from aocd import get_data\n",
    "\n",
    "import sys"
   ]
  },
  {
   "cell_type": "code",
   "execution_count": 36,
   "id": "810bf16e-faf7-446c-9f54-de076c903552",
   "metadata": {
    "tags": []
   },
   "outputs": [],
   "source": [
    "puzzle = get_data(day=2, year=2023)\n",
    "\n",
    "file = \"/Users/liesbeth_bogaert/Documents/AoC/2023/input/input_day2.txt\"\n",
    "lines = open(file, \"w\").write(puzzle)\n",
    "\n",
    "puzzle = puzzle.splitlines()\n",
    "#print(puzzle)"
   ]
  },
  {
   "cell_type": "code",
   "execution_count": 15,
   "id": "9fb5ef3a-a542-444d-ac5b-f630bec0b3e5",
   "metadata": {},
   "outputs": [],
   "source": [
    "# Cube counts\n",
    "red_cubes = 12\n",
    "green_cubes = 13\n",
    "blue_cubes = 14"
   ]
  },
  {
   "cell_type": "code",
   "execution_count": 29,
   "id": "d2b1f596-947f-4597-8328-86526ee4c789",
   "metadata": {},
   "outputs": [
    {
     "name": "stdout",
     "output_type": "stream",
     "text": [
      "2771\n"
     ]
    }
   ],
   "source": [
    "total = 0\n",
    "\n",
    "for line in puzzle:\n",
    "    game_id, cubes_info = line.split(': ')\n",
    "    game_id = int(game_id.split(' ')[1])\n",
    "    game = cubes_info.split('; ')\n",
    "    #print(game_id, game)\n",
    "    max_count = {}\n",
    "    valid = True\n",
    "    \n",
    "    for subset in game:\n",
    "        counts = {'red': 12, 'green': 13, 'blue': 14}\n",
    "        for entry in subset.split(', '):\n",
    "            count, color = entry.split(' ')\n",
    "            counts[color] -= int(count)\n",
    "            max_count[color] = max(max_count.get(color, 0), int(count))\n",
    "        #print(max_count)\n",
    "        \n",
    "        for value in counts.values():\n",
    "            if value < 0:\n",
    "                valid = False\n",
    "    if valid:\n",
    "        total += game_id\n",
    "        \n",
    "print(total)\n",
    "\n",
    "   "
   ]
  },
  {
   "cell_type": "code",
   "execution_count": 33,
   "id": "b8485d61-4f29-420d-ae27-81c311cf2f78",
   "metadata": {},
   "outputs": [
    {
     "name": "stdout",
     "output_type": "stream",
     "text": [
      "70924\n"
     ]
    }
   ],
   "source": [
    "total = 0\n",
    "\n",
    "for line in puzzle:\n",
    "    game_id, cubes_info = line.split(': ')\n",
    "    game_id = int(game_id.split(' ')[1])\n",
    "    game = cubes_info.split('; ')\n",
    "    #print(game_id, game)\n",
    "    max_count = {}\n",
    "    \n",
    "    for subset in game:\n",
    "        counts = {'red': 12, 'green': 13, 'blue': 14}\n",
    "        for entry in subset.split(', '):\n",
    "            count, color = entry.split(' ')\n",
    "            counts[color] -= int(count)\n",
    "            max_count[color] = max(max_count.get(color, 0), int(count))\n",
    "            \n",
    "    #print(max_count)\n",
    "    temp = 1\n",
    "    for x in max_count.values():\n",
    "        temp *= x\n",
    "    total += temp\n",
    "        \n",
    "print(total)\n",
    "\n",
    "   "
   ]
  }
 ],
 "metadata": {
  "kernelspec": {
   "display_name": "Python 3 (ipykernel)",
   "language": "python",
   "name": "python3"
  },
  "language_info": {
   "codemirror_mode": {
    "name": "ipython",
    "version": 3
   },
   "file_extension": ".py",
   "mimetype": "text/x-python",
   "name": "python",
   "nbconvert_exporter": "python",
   "pygments_lexer": "ipython3",
   "version": "3.9.13"
  }
 },
 "nbformat": 4,
 "nbformat_minor": 5
}
