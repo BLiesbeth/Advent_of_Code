{
 "cells": [
  {
   "cell_type": "code",
   "execution_count": null,
   "id": "7baa538f-66b6-40ed-9c0a-594b0761b9dd",
   "metadata": {},
   "outputs": [],
   "source": [
    "import pandas as pd\n",
    "import numpy as np\n",
    "import os\n",
    "from aocd import get_data\n",
    "\n",
    "import sys\n",
    "import time"
   ]
  },
  {
   "cell_type": "code",
   "execution_count": null,
   "id": "875cff39-ac75-4f0a-8982-299c220f0eb8",
   "metadata": {},
   "outputs": [],
   "source": [
    "puzzle = get_data(day=14, year=2023)\n",
    "\n",
    "file = \"/Users/liesbeth_bogaert/Documents/AoC/2023/input/input_day14.txt\"\n",
    "lines = open(file, \"w\").write(puzzle)\n",
    "\n",
    "puzzle = puzzle.splitlines()\n",
    "#print(puzzle)"
   ]
  },
  {
   "cell_type": "code",
   "execution_count": null,
   "id": "3c28494f-4e2d-4ef2-80f1-3a3997cb2811",
   "metadata": {},
   "outputs": [],
   "source": []
  },
  {
   "cell_type": "code",
   "execution_count": null,
   "id": "6a08b109-7919-4774-9428-c6e6cc29570e",
   "metadata": {},
   "outputs": [],
   "source": [
    "def rotate(grid):\n",
    "    rows = len(grid)\n",
    "    cols = len(grid[0])\n",
    "    rotated = [['?' for _ in range(rows)] for _ in range(cols)]\n",
    "    \n",
    "    for r in range(rows):\n",
    "        for c in range(cols):\n",
    "            rotated[c][rows-1-r] = grid[r][c]\n",
    "    return rotated"
   ]
  },
  {
   "cell_type": "code",
   "execution_count": null,
   "id": "de322ab2-b415-4c6d-92c4-effbe6685041",
   "metadata": {},
   "outputs": [],
   "source": [
    "def roll(grid):\n",
    "    rows = len(grid)\n",
    "    cols = len(grid[0])\n",
    "    \n",
    "    for c in range(cols):\n",
    "        for _ in range(rows):\n",
    "            for r in range(rows):\n",
    "                if grid[r][c]=='O' and r>0 and grid[r-1][c]=='.':\n",
    "                    grid[r][c]='.'\n",
    "                    grid[r-1][c] = 'O'\n",
    "    return grid"
   ]
  },
  {
   "cell_type": "code",
   "execution_count": null,
   "id": "253571c1-7741-44f1-a428-fe0832a8791f",
   "metadata": {},
   "outputs": [],
   "source": [
    "def score(grid):\n",
    "    total = 0\n",
    "    rows = len(grid)\n",
    "    cols = len(grid[0])\n",
    "    for r in range(rows):\n",
    "        for c in range(cols):\n",
    "            if grid[r][c]=='O':\n",
    "                total += len(grid)-r\n",
    "    return total"
   ]
  },
  {
   "cell_type": "code",
   "execution_count": null,
   "id": "6183380a-a4f5-45aa-b1cc-595b8a906609",
   "metadata": {},
   "outputs": [
    {
     "name": "stdout",
     "output_type": "stream",
     "text": [
      "109385\n",
      "--- 0.09475111961364746 seconds ---\n"
     ]
    }
   ],
   "source": [
    "# Part 1\n",
    "start_time = time.time()\n",
    "\n",
    "grid = [[c for c in row] for row in puzzle]\n",
    "\n",
    "grid = roll(grid)\n",
    "print(score(grid))\n",
    "\n",
    "print(\"--- %s seconds ---\" % (time.time() - start_time))"
   ]
  },
  {
   "cell_type": "code",
   "execution_count": 7,
   "id": "24ae1184-7d18-448d-8479-927471a791ee",
   "metadata": {},
   "outputs": [
    {
     "name": "stdout",
     "output_type": "stream",
     "text": [
      "93102\n",
      "--- 62.8620810508728 seconds ---\n"
     ]
    }
   ],
   "source": [
    "# Part 2\n",
    "start_time = time.time()\n",
    "\n",
    "grid = [[c for c in row] for row in puzzle]\n",
    "grid_cycles = {}\n",
    "\n",
    "cycles = 1000000000\n",
    "c = 0\n",
    "\n",
    "while c < cycles:\n",
    "    c += 1\n",
    "    for i in range(4):\n",
    "        grid = roll(grid)\n",
    "        grid = rotate(grid)\n",
    "\n",
    "    g = tuple(tuple(row) for row in grid)\n",
    "    if g in grid_cycles:\n",
    "        cycle_length = c - grid_cycles[g]\n",
    "        amt = (cycles-c) // cycle_length\n",
    "        c += amt * cycle_length\n",
    "    grid_cycles[g] = c\n",
    "    \n",
    "print(score(grid))\n",
    "print(\"--- %s seconds ---\" % (time.time() - start_time))"
   ]
  },
  {
   "cell_type": "code",
   "execution_count": null,
   "id": "5baca01d-e3d9-4c17-9933-96bb6cc991f8",
   "metadata": {},
   "outputs": [],
   "source": []
  },
  {
   "cell_type": "code",
   "execution_count": null,
   "id": "fe4d8515-3360-4386-9c91-ff615e012358",
   "metadata": {},
   "outputs": [],
   "source": []
  }
 ],
 "metadata": {
  "kernelspec": {
   "display_name": "Python 3 (ipykernel)",
   "language": "python",
   "name": "python3"
  },
  "language_info": {
   "codemirror_mode": {
    "name": "ipython",
    "version": 3
   },
   "file_extension": ".py",
   "mimetype": "text/x-python",
   "name": "python",
   "nbconvert_exporter": "python",
   "pygments_lexer": "ipython3",
   "version": "3.9.13"
  }
 },
 "nbformat": 4,
 "nbformat_minor": 5
}
