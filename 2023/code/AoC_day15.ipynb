{
 "cells": [
  {
   "cell_type": "code",
   "execution_count": 1,
   "id": "0b385848-1c1a-4f64-a506-37ad4aa7b06a",
   "metadata": {},
   "outputs": [],
   "source": [
    "import pandas as pd\n",
    "import numpy as np\n",
    "import os\n",
    "from aocd import get_data\n",
    "\n",
    "import sys"
   ]
  },
  {
   "cell_type": "code",
   "execution_count": 47,
   "id": "bd5e9986-6ac9-471f-8c53-c015805be0e9",
   "metadata": {
    "tags": []
   },
   "outputs": [],
   "source": [
    "puzzle = get_data(day=15, year=2023)\n",
    "\n",
    "file = \"/Users/liesbeth_bogaert/Documents/AoC/2023/input/input_day15.txt\"\n",
    "lines = open(file, \"w\").write(puzzle)\n",
    "\n",
    "#print(puzzle)\n",
    "#puzzle = puzzle.splitlines()\n",
    "#print(puzzle)\n",
    "puzzle = puzzle.split(',')"
   ]
  },
  {
   "cell_type": "code",
   "execution_count": 48,
   "id": "de4a0f4c-14c8-4967-afb6-2710fcf524d6",
   "metadata": {},
   "outputs": [],
   "source": [
    "test = \"rn=1,cm-,qp=3,cm=2,qp-,pc=4,ot=9,ab=5,pc-,pc=6,ot=7\"\n",
    "#puzzle = test.split(',')"
   ]
  },
  {
   "cell_type": "code",
   "execution_count": 49,
   "id": "75d9e62f-a1c1-42e4-8506-ffb286702ef1",
   "metadata": {},
   "outputs": [],
   "source": [
    "def hash(s):\n",
    "    h = 0\n",
    "    for c in s:\n",
    "        h = ((h+ord(c))*17)%256\n",
    "    return h"
   ]
  },
  {
   "cell_type": "code",
   "execution_count": 50,
   "id": "abd42520-d76c-4597-99fa-951ff716bc6c",
   "metadata": {},
   "outputs": [
    {
     "name": "stdout",
     "output_type": "stream",
     "text": [
      "507666\n"
     ]
    }
   ],
   "source": [
    "# Part 1\n",
    "total = 0\n",
    "for line in puzzle:\n",
    "    total += hash(line)\n",
    "print(total)"
   ]
  },
  {
   "cell_type": "code",
   "execution_count": 51,
   "id": "75143d48-4daa-4886-9762-134b9d6ef961",
   "metadata": {},
   "outputs": [
    {
     "name": "stdout",
     "output_type": "stream",
     "text": [
      "233537\n"
     ]
    }
   ],
   "source": [
    "# Part 2\n",
    "boxes = [[] for _ in range(256)]\n",
    "\n",
    "for line in puzzle:\n",
    "    if line[-1]=='-':\n",
    "        name = line[:-1]\n",
    "        h = hash(name)\n",
    "        boxes[h] = [(n,v) for (n,v) in boxes[h] if n!=name]\n",
    "        \n",
    "    elif line[-2]=='=':\n",
    "        name = line[:-2]\n",
    "        h = hash(name)\n",
    "        num = int(line[-1])\n",
    "        if name in [n for (n,v) in boxes[h]]:\n",
    "            boxes[h] = [(n, num if name==n else v) for (n,v) in boxes[h]]\n",
    "        else:\n",
    "            boxes[h].append((name, num))\n",
    "\n",
    "total = 0\n",
    "for i,box in enumerate(boxes):\n",
    "    for j,(n,v) in enumerate(box):\n",
    "        total += (i+1)*(j+1)*v\n",
    "print(total)"
   ]
  },
  {
   "cell_type": "code",
   "execution_count": null,
   "id": "677bbddd-615f-4a1b-aa0e-3b66bd48d838",
   "metadata": {},
   "outputs": [],
   "source": []
  }
 ],
 "metadata": {
  "kernelspec": {
   "display_name": "Python 3 (ipykernel)",
   "language": "python",
   "name": "python3"
  },
  "language_info": {
   "codemirror_mode": {
    "name": "ipython",
    "version": 3
   },
   "file_extension": ".py",
   "mimetype": "text/x-python",
   "name": "python",
   "nbconvert_exporter": "python",
   "pygments_lexer": "ipython3",
   "version": "3.9.13"
  }
 },
 "nbformat": 4,
 "nbformat_minor": 5
}
