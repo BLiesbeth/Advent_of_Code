{
 "cells": [
  {
   "cell_type": "code",
   "execution_count": 1,
   "id": "6552a4d5-8f2f-46df-a6ca-71ff7c1cf900",
   "metadata": {},
   "outputs": [],
   "source": [
    "import pandas as pd\n",
    "import numpy as np\n",
    "import os\n",
    "from aocd import get_data\n",
    "\n",
    "import sys\n",
    "import time\n",
    "\n",
    "from collections import defaultdict"
   ]
  },
  {
   "cell_type": "code",
   "execution_count": 2,
   "id": "0ad7316c-6ea9-47a9-99e4-e0262042c437",
   "metadata": {},
   "outputs": [],
   "source": [
    "puzzle = get_data(day=22, year=2023)\n",
    "\n",
    "file = \"/Users/liesbeth_bogaert/Documents/AoC/2023/input/input_day22.txt\"\n",
    "lines = open(file, \"w\").write(puzzle)\n",
    "\n",
    "puzzle = puzzle.splitlines()\n",
    "#print(puzzle)"
   ]
  },
  {
   "cell_type": "code",
   "execution_count": 3,
   "id": "2ea671e5-7220-4b3b-83a1-2d7252917973",
   "metadata": {
    "tags": []
   },
   "outputs": [],
   "source": [
    "bricks = []\n",
    "\n",
    "for line in puzzle:\n",
    "    #print(line)\n",
    "    start, end = line.split(\"~\")\n",
    "    start = tuple(int(n) for n in start.split(\",\"))\n",
    "    end = tuple(int(n) for n in end.split(\",\"))\n",
    "\n",
    "    cubes = [start, end]\n",
    "    \n",
    "    for i in range(2):\n",
    "        if start[i] != end[i]:\n",
    "            for j in range(min(start[i], end[i]) + 1, max(start[i], end[i])):\n",
    "                to_add = list(start)\n",
    "                to_add[i] = j\n",
    "                cubes.append(tuple(to_add))\n",
    "            break\n",
    "    #print(cubes)\n",
    "    bricks.append(cubes)\n",
    "\n",
    "bricks = sorted(bricks, key=lambda bs: min(b[2] for b in bs))\n",
    "#print(bricks)"
   ]
  },
  {
   "cell_type": "code",
   "execution_count": 4,
   "id": "6a5d9b8d-e330-45cf-833a-6cb9850e666e",
   "metadata": {},
   "outputs": [],
   "source": [
    "def drop(bricks):\n",
    "    settled = set()\n",
    "    fallen_bricks = []\n",
    "    fallen = 0\n",
    "    \n",
    "    for brick in bricks:\n",
    "        did_move = False\n",
    "        while True:\n",
    "            next = []\n",
    "            for cx, cy, cz in brick:\n",
    "                next.append((cx, cy, cz - 1))\n",
    "\n",
    "            if any((c[2] == 0 or (c in settled)) for c in next):\n",
    "                break\n",
    "            else:\n",
    "                brick = next\n",
    "                did_move = True\n",
    "\n",
    "        for cube in brick:\n",
    "            settled.add(cube)\n",
    "            \n",
    "        fallen_bricks.append(brick)\n",
    "        if did_move:\n",
    "            fallen += 1\n",
    "\n",
    "    return fallen_bricks, fallen"
   ]
  },
  {
   "cell_type": "code",
   "execution_count": 5,
   "id": "f65e95d4-59e0-451c-a7cd-f9ff90ae0603",
   "metadata": {
    "tags": []
   },
   "outputs": [],
   "source": [
    "dropped, x = drop(bricks)\n",
    "#print(dropped)"
   ]
  },
  {
   "cell_type": "code",
   "execution_count": 6,
   "id": "dae2751d-c5fe-4c6b-8959-24ace862c1dd",
   "metadata": {},
   "outputs": [
    {
     "name": "stdout",
     "output_type": "stream",
     "text": [
      "407\n"
     ]
    }
   ],
   "source": [
    "# Part 1\n",
    "\n",
    "total = 0\n",
    "for i in range(len(dropped)):\n",
    "    without = dropped.copy()\n",
    "    without.pop(i)\n",
    "    x, fallen = drop(without)\n",
    "    if fallen == 0:\n",
    "        total += 1\n",
    "\n",
    "print(total)\n"
   ]
  },
  {
   "cell_type": "code",
   "execution_count": 7,
   "id": "f161f9ba-bd1b-4ca9-bd47-0e5c8f829ba3",
   "metadata": {},
   "outputs": [
    {
     "name": "stdout",
     "output_type": "stream",
     "text": [
      "59266\n"
     ]
    }
   ],
   "source": [
    "# Part 2\n",
    "\n",
    "total = 0\n",
    "for i in range(len(dropped)):\n",
    "    without = dropped.copy()\n",
    "    without.pop(i)\n",
    "    x, fallen = drop(without)\n",
    "    total += fallen\n",
    "\n",
    "print(total)"
   ]
  },
  {
   "cell_type": "code",
   "execution_count": null,
   "id": "b96fa908-d1c4-4564-ac93-a4b75c101a3e",
   "metadata": {
    "tags": []
   },
   "outputs": [],
   "source": []
  }
 ],
 "metadata": {
  "kernelspec": {
   "display_name": "Python 3 (ipykernel)",
   "language": "python",
   "name": "python3"
  },
  "language_info": {
   "codemirror_mode": {
    "name": "ipython",
    "version": 3
   },
   "file_extension": ".py",
   "mimetype": "text/x-python",
   "name": "python",
   "nbconvert_exporter": "python",
   "pygments_lexer": "ipython3",
   "version": "3.9.13"
  }
 },
 "nbformat": 4,
 "nbformat_minor": 5
}
