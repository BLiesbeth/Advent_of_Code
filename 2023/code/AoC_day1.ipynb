{
 "cells": [
  {
   "cell_type": "code",
   "execution_count": 1,
   "id": "73bd07c4-67db-405a-b30a-01e5b023a105",
   "metadata": {
    "collapsed": true,
    "jupyter": {
     "outputs_hidden": true
    },
    "tags": []
   },
   "outputs": [
    {
     "name": "stdout",
     "output_type": "stream",
     "text": [
      "Requirement already satisfied: advent-of-code-data[nb] in /Users/liesbeth_bogaert/opt/anaconda3/lib/python3.9/site-packages (2.0.1)\n",
      "Requirement already satisfied: beautifulsoup4 in /Users/liesbeth_bogaert/opt/anaconda3/lib/python3.9/site-packages (from advent-of-code-data[nb]) (4.11.1)\n",
      "Requirement already satisfied: pebble in /Users/liesbeth_bogaert/opt/anaconda3/lib/python3.9/site-packages (from advent-of-code-data[nb]) (5.0.4)\n",
      "Requirement already satisfied: urllib3 in /Users/liesbeth_bogaert/opt/anaconda3/lib/python3.9/site-packages (from advent-of-code-data[nb]) (1.26.11)\n",
      "Requirement already satisfied: aocd-example-parser>=2023.2 in /Users/liesbeth_bogaert/opt/anaconda3/lib/python3.9/site-packages (from advent-of-code-data[nb]) (2023.2)\n",
      "Requirement already satisfied: IPython in /Users/liesbeth_bogaert/opt/anaconda3/lib/python3.9/site-packages (from advent-of-code-data[nb]) (7.31.1)\n",
      "Requirement already satisfied: jupyter-server in /Users/liesbeth_bogaert/opt/anaconda3/lib/python3.9/site-packages (from advent-of-code-data[nb]) (1.18.1)\n",
      "Requirement already satisfied: soupsieve>1.2 in /Users/liesbeth_bogaert/opt/anaconda3/lib/python3.9/site-packages (from beautifulsoup4->advent-of-code-data[nb]) (2.3.1)\n",
      "Requirement already satisfied: setuptools>=18.5 in /Users/liesbeth_bogaert/opt/anaconda3/lib/python3.9/site-packages (from IPython->advent-of-code-data[nb]) (63.4.1)\n",
      "Requirement already satisfied: jedi>=0.16 in /Users/liesbeth_bogaert/opt/anaconda3/lib/python3.9/site-packages (from IPython->advent-of-code-data[nb]) (0.18.1)\n",
      "Requirement already satisfied: decorator in /Users/liesbeth_bogaert/opt/anaconda3/lib/python3.9/site-packages (from IPython->advent-of-code-data[nb]) (5.1.1)\n",
      "Requirement already satisfied: pickleshare in /Users/liesbeth_bogaert/opt/anaconda3/lib/python3.9/site-packages (from IPython->advent-of-code-data[nb]) (0.7.5)\n",
      "Requirement already satisfied: traitlets>=4.2 in /Users/liesbeth_bogaert/opt/anaconda3/lib/python3.9/site-packages (from IPython->advent-of-code-data[nb]) (5.1.1)\n",
      "Requirement already satisfied: prompt-toolkit!=3.0.0,!=3.0.1,<3.1.0,>=2.0.0 in /Users/liesbeth_bogaert/opt/anaconda3/lib/python3.9/site-packages (from IPython->advent-of-code-data[nb]) (3.0.20)\n",
      "Requirement already satisfied: pygments in /Users/liesbeth_bogaert/opt/anaconda3/lib/python3.9/site-packages (from IPython->advent-of-code-data[nb]) (2.14.0)\n",
      "Requirement already satisfied: backcall in /Users/liesbeth_bogaert/opt/anaconda3/lib/python3.9/site-packages (from IPython->advent-of-code-data[nb]) (0.2.0)\n",
      "Requirement already satisfied: matplotlib-inline in /Users/liesbeth_bogaert/opt/anaconda3/lib/python3.9/site-packages (from IPython->advent-of-code-data[nb]) (0.1.6)\n",
      "Requirement already satisfied: pexpect>4.3 in /Users/liesbeth_bogaert/opt/anaconda3/lib/python3.9/site-packages (from IPython->advent-of-code-data[nb]) (4.8.0)\n",
      "Requirement already satisfied: appnope in /Users/liesbeth_bogaert/opt/anaconda3/lib/python3.9/site-packages (from IPython->advent-of-code-data[nb]) (0.1.2)\n",
      "Requirement already satisfied: anyio<4,>=3.1.0 in /Users/liesbeth_bogaert/opt/anaconda3/lib/python3.9/site-packages (from jupyter-server->advent-of-code-data[nb]) (3.5.0)\n",
      "Requirement already satisfied: argon2-cffi in /Users/liesbeth_bogaert/opt/anaconda3/lib/python3.9/site-packages (from jupyter-server->advent-of-code-data[nb]) (21.3.0)\n",
      "Requirement already satisfied: jinja2 in /Users/liesbeth_bogaert/opt/anaconda3/lib/python3.9/site-packages (from jupyter-server->advent-of-code-data[nb]) (3.1.2)\n",
      "Requirement already satisfied: jupyter-client>=6.1.12 in /Users/liesbeth_bogaert/opt/anaconda3/lib/python3.9/site-packages (from jupyter-server->advent-of-code-data[nb]) (7.3.4)\n",
      "Requirement already satisfied: jupyter-core>=4.7.0 in /Users/liesbeth_bogaert/opt/anaconda3/lib/python3.9/site-packages (from jupyter-server->advent-of-code-data[nb]) (4.11.1)\n",
      "Requirement already satisfied: nbconvert>=6.4.4 in /Users/liesbeth_bogaert/opt/anaconda3/lib/python3.9/site-packages (from jupyter-server->advent-of-code-data[nb]) (6.4.4)\n",
      "Requirement already satisfied: nbformat>=5.2.0 in /Users/liesbeth_bogaert/opt/anaconda3/lib/python3.9/site-packages (from jupyter-server->advent-of-code-data[nb]) (5.5.0)\n",
      "Requirement already satisfied: packaging in /Users/liesbeth_bogaert/opt/anaconda3/lib/python3.9/site-packages (from jupyter-server->advent-of-code-data[nb]) (21.3)\n",
      "Requirement already satisfied: prometheus-client in /Users/liesbeth_bogaert/opt/anaconda3/lib/python3.9/site-packages (from jupyter-server->advent-of-code-data[nb]) (0.14.1)\n",
      "Requirement already satisfied: pyzmq>=17 in /Users/liesbeth_bogaert/opt/anaconda3/lib/python3.9/site-packages (from jupyter-server->advent-of-code-data[nb]) (23.2.0)\n",
      "Requirement already satisfied: Send2Trash in /Users/liesbeth_bogaert/opt/anaconda3/lib/python3.9/site-packages (from jupyter-server->advent-of-code-data[nb]) (1.8.0)\n",
      "Requirement already satisfied: terminado>=0.8.3 in /Users/liesbeth_bogaert/opt/anaconda3/lib/python3.9/site-packages (from jupyter-server->advent-of-code-data[nb]) (0.13.1)\n",
      "Requirement already satisfied: tornado>=6.1.0 in /Users/liesbeth_bogaert/opt/anaconda3/lib/python3.9/site-packages (from jupyter-server->advent-of-code-data[nb]) (6.1)\n",
      "Requirement already satisfied: websocket-client in /Users/liesbeth_bogaert/opt/anaconda3/lib/python3.9/site-packages (from jupyter-server->advent-of-code-data[nb]) (0.58.0)\n",
      "Requirement already satisfied: idna>=2.8 in /Users/liesbeth_bogaert/opt/anaconda3/lib/python3.9/site-packages (from anyio<4,>=3.1.0->jupyter-server->advent-of-code-data[nb]) (3.3)\n",
      "Requirement already satisfied: sniffio>=1.1 in /Users/liesbeth_bogaert/opt/anaconda3/lib/python3.9/site-packages (from anyio<4,>=3.1.0->jupyter-server->advent-of-code-data[nb]) (1.2.0)\n",
      "Requirement already satisfied: parso<0.9.0,>=0.8.0 in /Users/liesbeth_bogaert/opt/anaconda3/lib/python3.9/site-packages (from jedi>=0.16->IPython->advent-of-code-data[nb]) (0.8.3)\n",
      "Requirement already satisfied: entrypoints in /Users/liesbeth_bogaert/opt/anaconda3/lib/python3.9/site-packages (from jupyter-client>=6.1.12->jupyter-server->advent-of-code-data[nb]) (0.4)\n",
      "Requirement already satisfied: nest-asyncio>=1.5.4 in /Users/liesbeth_bogaert/opt/anaconda3/lib/python3.9/site-packages (from jupyter-client>=6.1.12->jupyter-server->advent-of-code-data[nb]) (1.5.5)\n",
      "Requirement already satisfied: python-dateutil>=2.8.2 in /Users/liesbeth_bogaert/opt/anaconda3/lib/python3.9/site-packages (from jupyter-client>=6.1.12->jupyter-server->advent-of-code-data[nb]) (2.8.2)\n",
      "Requirement already satisfied: mistune<2,>=0.8.1 in /Users/liesbeth_bogaert/opt/anaconda3/lib/python3.9/site-packages (from nbconvert>=6.4.4->jupyter-server->advent-of-code-data[nb]) (0.8.4)\n",
      "Requirement already satisfied: jupyterlab-pygments in /Users/liesbeth_bogaert/opt/anaconda3/lib/python3.9/site-packages (from nbconvert>=6.4.4->jupyter-server->advent-of-code-data[nb]) (0.1.2)\n",
      "Requirement already satisfied: bleach in /Users/liesbeth_bogaert/opt/anaconda3/lib/python3.9/site-packages (from nbconvert>=6.4.4->jupyter-server->advent-of-code-data[nb]) (4.1.0)\n",
      "Requirement already satisfied: pandocfilters>=1.4.1 in /Users/liesbeth_bogaert/opt/anaconda3/lib/python3.9/site-packages (from nbconvert>=6.4.4->jupyter-server->advent-of-code-data[nb]) (1.5.0)\n",
      "Requirement already satisfied: testpath in /Users/liesbeth_bogaert/opt/anaconda3/lib/python3.9/site-packages (from nbconvert>=6.4.4->jupyter-server->advent-of-code-data[nb]) (0.6.0)\n",
      "Requirement already satisfied: defusedxml in /Users/liesbeth_bogaert/opt/anaconda3/lib/python3.9/site-packages (from nbconvert>=6.4.4->jupyter-server->advent-of-code-data[nb]) (0.7.1)\n",
      "Requirement already satisfied: nbclient<0.6.0,>=0.5.0 in /Users/liesbeth_bogaert/opt/anaconda3/lib/python3.9/site-packages (from nbconvert>=6.4.4->jupyter-server->advent-of-code-data[nb]) (0.5.13)\n",
      "Requirement already satisfied: MarkupSafe>=2.0 in /Users/liesbeth_bogaert/opt/anaconda3/lib/python3.9/site-packages (from jinja2->jupyter-server->advent-of-code-data[nb]) (2.0.1)\n",
      "Requirement already satisfied: fastjsonschema in /Users/liesbeth_bogaert/opt/anaconda3/lib/python3.9/site-packages (from nbformat>=5.2.0->jupyter-server->advent-of-code-data[nb]) (2.16.2)\n",
      "Requirement already satisfied: jsonschema>=2.6 in /Users/liesbeth_bogaert/opt/anaconda3/lib/python3.9/site-packages (from nbformat>=5.2.0->jupyter-server->advent-of-code-data[nb]) (4.16.0)\n",
      "Requirement already satisfied: ptyprocess>=0.5 in /Users/liesbeth_bogaert/opt/anaconda3/lib/python3.9/site-packages (from pexpect>4.3->IPython->advent-of-code-data[nb]) (0.7.0)\n",
      "Requirement already satisfied: wcwidth in /Users/liesbeth_bogaert/opt/anaconda3/lib/python3.9/site-packages (from prompt-toolkit!=3.0.0,!=3.0.1,<3.1.0,>=2.0.0->IPython->advent-of-code-data[nb]) (0.2.5)\n",
      "Requirement already satisfied: argon2-cffi-bindings in /Users/liesbeth_bogaert/opt/anaconda3/lib/python3.9/site-packages (from argon2-cffi->jupyter-server->advent-of-code-data[nb]) (21.2.0)\n",
      "Requirement already satisfied: pyparsing!=3.0.5,>=2.0.2 in /Users/liesbeth_bogaert/opt/anaconda3/lib/python3.9/site-packages (from packaging->jupyter-server->advent-of-code-data[nb]) (3.0.9)\n",
      "Requirement already satisfied: six in /Users/liesbeth_bogaert/opt/anaconda3/lib/python3.9/site-packages (from websocket-client->jupyter-server->advent-of-code-data[nb]) (1.16.0)\n",
      "Requirement already satisfied: attrs>=17.4.0 in /Users/liesbeth_bogaert/opt/anaconda3/lib/python3.9/site-packages (from jsonschema>=2.6->nbformat>=5.2.0->jupyter-server->advent-of-code-data[nb]) (21.4.0)\n",
      "Requirement already satisfied: pyrsistent!=0.17.0,!=0.17.1,!=0.17.2,>=0.14.0 in /Users/liesbeth_bogaert/opt/anaconda3/lib/python3.9/site-packages (from jsonschema>=2.6->nbformat>=5.2.0->jupyter-server->advent-of-code-data[nb]) (0.18.0)\n",
      "Requirement already satisfied: cffi>=1.0.1 in /Users/liesbeth_bogaert/opt/anaconda3/lib/python3.9/site-packages (from argon2-cffi-bindings->argon2-cffi->jupyter-server->advent-of-code-data[nb]) (1.15.1)\n",
      "Requirement already satisfied: webencodings in /Users/liesbeth_bogaert/opt/anaconda3/lib/python3.9/site-packages (from bleach->nbconvert>=6.4.4->jupyter-server->advent-of-code-data[nb]) (0.5.1)\n",
      "Requirement already satisfied: pycparser in /Users/liesbeth_bogaert/opt/anaconda3/lib/python3.9/site-packages (from cffi>=1.0.1->argon2-cffi-bindings->argon2-cffi->jupyter-server->advent-of-code-data[nb]) (2.21)\n",
      "\n",
      "\u001b[1m[\u001b[0m\u001b[34;49mnotice\u001b[0m\u001b[1;39;49m]\u001b[0m\u001b[39;49m A new release of pip is available: \u001b[0m\u001b[31;49m23.2.1\u001b[0m\u001b[39;49m -> \u001b[0m\u001b[32;49m23.3.1\u001b[0m\n",
      "\u001b[1m[\u001b[0m\u001b[34;49mnotice\u001b[0m\u001b[1;39;49m]\u001b[0m\u001b[39;49m To update, run: \u001b[0m\u001b[32;49mpip install --upgrade pip\u001b[0m\n",
      "Note: you may need to restart the kernel to use updated packages.\n"
     ]
    }
   ],
   "source": [
    "pip install 'advent-of-code-data[nb]'"
   ]
  },
  {
   "cell_type": "code",
   "execution_count": 35,
   "id": "e224875e-97fe-48c0-98aa-e63fda1e45d8",
   "metadata": {},
   "outputs": [],
   "source": [
    "import pandas as pd\n",
    "import numpy as np\n",
    "import os\n",
    "from aocd import get_data\n",
    "\n",
    "import sys"
   ]
  },
  {
   "cell_type": "code",
   "execution_count": 110,
   "id": "73518be8-7778-48f1-b7af-53c21a865603",
   "metadata": {
    "tags": []
   },
   "outputs": [],
   "source": [
    "puzzle = get_data(day=1, year=2023)"
   ]
  },
  {
   "cell_type": "code",
   "execution_count": 112,
   "id": "c1bf1b58-67be-49b4-902f-3ef0d6d2c28f",
   "metadata": {},
   "outputs": [],
   "source": [
    "file = \"/Users/liesbeth_bogaert/Documents/AoC/2023/input/input_day1.txt\"\n",
    "lines = open(file, \"w\").write(puzzle)"
   ]
  },
  {
   "cell_type": "code",
   "execution_count": 97,
   "id": "51c63b1e-eed8-4b3f-937a-c9a89b0e430d",
   "metadata": {
    "collapsed": true,
    "jupyter": {
     "outputs_hidden": true
    },
    "tags": []
   },
   "outputs": [
    {
     "name": "stdout",
     "output_type": "stream",
     "text": [
      "['dqfournine5four2jmlqcgv', '7ggzdnjxndfive', 'twofive4threenine', 'dttwonezbgmcseven5seven', '5vsrcnine', '95zzbjck', 'gkoneight4fivekvktltnine', 'fiverckdmgbfthjdqpmpgdkmcklqtqc365mqtwo', '44sevenhvstcbgkhm5foureight11', 'dprrtrngrfccz4eight4two8sthmfive', '6twofive4seven7nine', 'four1sevenbfbnqvkbfoursix7', '12xpdghpeightqvztrsslgsix5smlgfjhcpst', '8dhzdtbeightfour3', 'pttdtmhg4', '6eightsevendbtbxnqzxds6', 'twothree5nxglqlc9', 'nine6lqhnvbpxoneseveneightsxjfkz4vr', 'three28jxdmlqfmc619eightwol', '26jtdpgqjzshncxvlljfour', 'qxvpsctgx1', '28286qdjjlgtdtnsm3hk', '9hcj6nine', 'nineseven9sqtrpfour', 'one1eight4sixzltzrkthree', 'threevlgfxhnf6seven6nine68', 'sixonesxxbxvfnkt8', '8fivefivefour7sxsrvdrz', 'oneone7', 'ndtkjbsix6three9gdsjlljtj6six', 'cfmrfgjqgrzcmsix5', '3threefour62three3vrmnmgx', 'kckdghseventwo1758', 'mdbqqjmpvonetwo1six31fourntbfb', 'lkjhjdthree3', 'qthseven61mpfnnhm6fivecnhz2', 'twojrfgzjstjvlngnpqcj8grtnvxmzbxkfrvqmvnmvmbdr', 'sloneightkqbgcpnv8kqcmzfouronesevenmrfjeight', 'xdxdxg9seventwo8xcq1', 'dpdgxzk7', '18six3twoone', '1twoseven3five', '46tkbclbkleight64', 'tjprpjbshr2seven1pgfqmbmjlvsv', '3mbjccssjgtdttvbdhdfxvldpmhcpc', 'lgfrkpsfvz5ppgqphtwoznjtgxdjpm3', 'mjmlsevenggsbjbtsix9nineone', 'jqfqjqhthreenine7eightklkttdkbtmpp1', 'trptrkbone52eight6', 'onetmvsrjlbqlninesix8', 'rone9ktvdqkdgl1', 'twosix5sixgrfdft54klf4', 'thrmone3eightsixfive', 'three4one', 'ppthg2three1one', '7vt426', '22foureight6', 'fourxbhmone56seven8eightnine', 'vhmsd171rgkhpgfhffnhkvt', 'xgbzxszsgtthree4', 'rclzfsn5twoeight', '989nine2seven', 'eighteight5fivensix8', 'dfxzz5qcqzsjsg', 'd3eight54', '5knflhntzthreeseventwo', 'threeonefour9oneninebsfpq', 'hjhgtjgtwotrsffive8hfntm', 'sixpmhzqrlkrthreefour1pcgvz96', '5three31xqcsshkkqtfblffcmcntfour', 'zghcfvjsfz29nine', '3vvvrlrjdztlhqqm88', '39nine3seven93', '1fqsgnjzrl6lrzsczc', 'threepldztlnvnzdntqllpr19', 'ninekgqqrgttfntrhjzlvninelr3', '94eighteighteight', 'two13txmtlqxskhltkrvbjrzm97five', 'dbmjvszjtb17', 'twogpfttmhp8two13', 'four4bqzqscdbctssgxfzjjntwonfcktjrtnxskjpkhvlfjt', 'ctxxvdsvsvjzchmxvxceightthreembnlg5ninevmcbgsvbh', 'fpbrpfourqmrfcnpvxg8onehkbbgbsnnt', '4zrrgsevenfour', '6eight9foureightxlgdn', '693rzcnvlfrv', 'bcftntcfl4jxbccpcmjeightcrxsjscmxdeightmhqbnpdvcfour', 'six83', 'xl4', 'njslckcbdfvkmkdk9eight', 'ninenineeight4nine', 'jkzvq3fourzzvdzdft', 'bfqpb9', 'eight6nlzdskjfourbmdvcrcgrshbjcxfour2', '7zhlxtqtbjxqbszdtwonineeightjcl9', 'fvcjzxd5sevenfivefqnvkjthreeseven', '3cxmpzkng3', '8x2', 'nineeightsevenfourpfzzflnp97', '2lkjpfhnpn7gbtztgxtnmclzdtdh33eightstbfrvxqz', 'nv8', '3one7eight', 'ninetwortwoeightfive8ls', 'shncxrjqnjttvvzvnl6', 'ninethree963', 'mjcfrzjhr33csjxrtmm', 'five17', '84bdfnptmffourfbqslsqeight', 'onegrzpdj8three2one6fsk', 'eight33gxpcqvpmeightk', '6fbsfclhninetqj5twobxcz', '119sixnjmxmvv', '825bhceightone4jjdbvrzt2', 'xjchvkxxhg3sevensixseven3kmgqfmbgmbjnrq', 'l2', '36hcmfnbmsevenfivetxhhgjdlq1khkk', 'eightj47five4sqtwo', '6nineeight9', 'g2drvxqvpnbjfqxhl', 'vglkfour9rlmhsnine', 'onefivezr6rrtddnrg', '3threellcbhjhjzqfive5', 'ggbmhzkcone2', '23nclcqvjdzqcrpvsmnpzsfg3five', 'two5eightddxqgpm8twoseven', 'nrvtvlhrlr3tvpck1ghbvzxhjkneightgzxgtcddk', '7lsxfjhqz', '28four', 'mninetwo3', '1fourfxqjpggbpb9threelj', 'seven3pzkfbqdstdgkrskqrlbg7fzfour4n', 'btctmct9three6threegkqqkcskfs8chvmcl', 'threefourskdp6twob', '7three6five6eight3', '5spkb6', '34msnt', '5bkqbzpgmjzeight', '7g2onefour29fourfour', '9fgsixzkbscvbxdsfive6spjfhzxbzvgbvrthreeoneightn', 'rpbd255fournine', '277five', 'eightseven7sevenllninefive', 'rpjcmzkthbvdflbhxxkpv3oneplglgmv', 'xqktwone5jkpxvnptjeight', '67one', 'cgxfhzsnrsjp3kjgzrlbhzh', 'fiveqqjljzfcmbfqvkscpzscpseven4nine1xvjlgk', 'tflkxnml5vptclnhkgdg11c2seven', 'sixeighttdbczshg82threepmjnxrvcnine6', 'nineone81mkltdkfgxtsevenfive', '8zgx', 'cvb4kv22gp', '61bjllhkblllqx8bmr5threesix', '9cjfgb1bxncrgfhtmg973', 'eightninefour5twosixbsvnsndhtghtmfive', 'seven1bbfrvdcsthree2', 'cfzd8hvqscjxqf9', 'sixvfkcgmvqn9vmbzccdmqqgxmfxmnqc95', 'qqrqnd8twofive7czxtjnmxx', 'threebdmrlnxnlmdbzbv4', 'nm91vblgfourtsjp6', 'six96', 'sevenrjvbxptl9onecrlz', 'dvdbrmchgpninenine4onedjcfoneninetwo', 'hcrrgnlxftwo6four', 'threehcrfknsnqmg49', '2tqbrkxgtdztjkdcnsix6three', 'mktnzjn58qspzpqdr7', 'dphvck5fourbmfnskkh72five78', 'one7seven7', 'bmpnljsxhfmtwozrhvdv8sjsrmnzlcjvjqcfgffhkjcbx', '7one6874', 'three9tfx4', 'eight9pqhseightndgbv6', '39jgmbzrzkctsix', '1676', '8xtpdhzfd8three44four8two', 'sixkvlppxqktkdqjsgjgz5', 'twoonehbgsdhpxkdvnpr3ncrgbqzfvsbcdsix4', '39kpdxsp368seven2', 'xfljqfbz5tzpldspxvgc', 'fourqb6twocfljflzqqd', '5889cxvxkstlld75rnlgzpgmhcmnx', '84zxqsqvb', 'fiveksvtbqz9934', 'onefour96four78fourkbkhdhg', 'h61three2v', 'nine9jlbrfmgjv2kkfive', 'bjhktrjmfninexxnjhrvq7', 'fbcxlvgkkjcmpdcz7', 'mnleight3oneqqttlp', 'eighttwolffour1', 'onetqfghfourbmf5', 'four1qfive4', '9fvp', 'cxxn5qzcm', 'one7hzjpnvhtdq', 'pxmht4fprcftwofive7gsixcqbmrd', 'three9fivesixrdqrhcqrqbl', '6fggvr', 'ninesixmxvdcqgxcmskl115lskkp', 'sevenqkmqxltfive191lfbtfvzsixseven', 'ninemjnjgrlmnlseven5eight9', 'fhjjtxzksseven7fourthree', 'rfjksvfour26vqbdrbxc', '6zgkfive8mhgxbsm', '1njpjv696', '4lrthsevendnsmseven', 'l4hxvjvlfpjmdbvdjzrhkhpmklnine7fourfour', '2qtkhnineeightone', 'fivexhrxrzxht1foursix', 'sixlzcgllrqlhghzn1hdhgltcntfivefourfive1', 'dpkzdbzsgq9threecst7znsjgdmmhx1', 'three497lp388', 'llnklrkfr3', 'ltkkv481pzhqzkmhskxlznineninekcbrphlp', 'fivetwoseven71nineljsbc49', 'bvqsxnkpmzsevenhdpvfvlb2eight2bdxp3', 'onefour64', '8xfdtfnqvhzkhvszeight5', 'threethree4two', 'z5two2fp', 'fourvjmcghrcfoureight3', 'lhztwo9dzhpdgn675', 'jnine4two49sixskv', '9phbnnsoneqtpvvzbx5xzc', 'mtjfxzzhzdjvfmrc1', '4ccszl3fiveseven55lfmktz', 'five27three9mgrnjcsbpd', '6eight115five4c', 'two63fjlkgninepthmone', '22ddxpbbpdseven', 'zg7', 'five3gvbthree6hjseven', 'x6six58nine', 'seveneighteight75three9two9', 'onevlpdgsnl3', 'sevenmbvqmjhfnzmgsqp8qnskjzptpppbcfhck2', '7bpldrqr6fourpsntqbcqhfive', 'twothvddvmlbqknrj9pgpsjndbrmrgkgf', 'sixthree38onefoureightmvdtnn', 'vkqcnfkkc6', 'sixeight9', '65fouronemklfgqbpgnvlvcvhjcdkq', 'three5five', '981gxpsgqxjktwogninezgnf', 'cfnnzfnlmfqtwofour8fourxg5', '45mpgbgzctwoqlsxmgs8', '5nhzlcb6four6pzjjlr4ninej', 'gnkoneightprhlrseven7', '1rzsq1seven3eight', 'sixnine9eight8eight', 'lcszz858', 'pdgbgjxthreethree3threeonengk', '8zpzpttrqtwoninek895', '634jgvbvr', 'nine8mvr', '5seven2psmtnmzdfivesix', '56ninerqrlzqvszrght6zkgtvrphpnvthree', '5fiveone', '43three', '9mdtghvfjdqqbrmeightfour92tlstxvrhthree', 'b8', 'ninehpnmdhjqjl5ppptrd', '41fournineeightvxxjdthreeeight', 'ntwonefnsdpnine8sevenbjzxpfive', '6oneclxflmxvtwo1', '9jbpfnvfsjblmxrprml5', '68five7sfgxjqxrcjmninerzgxnhjpzkdhxzbg', '1vztdlnone2lhrhx', '6lrmdrxqlsttwovsr9eightpbmqcxn', '2zjchhdbzhc', 'tsgntwomdtsjtdrthree9', '7threethreedprbrvngxpfour', 'fivestvv3six', '6one9sjlzjtxxnkbckdmc', 'zxqzmcz3eight', 'lndh86xphvbnine', 'fivesix3sixf93hbbptwo', '3cxpbl', 'gsnqeight8kthxzrdkskjkmcmsknine5', '67twoxdqninefour', 'fivefivehtczfmrhvlsevensevennbjkvhz84', 'cmbgm3eightpbmgjhsp2', 'fivepdhtcpvg3ninenlhpgdlnnine6fblsmlz', 'kcnsfsfhjbcffctznvp1', 'qzrkvhcds4gklftv', 'xslgkktct7snbxnplbk3five', 'zspb1sevennine76one', 'twonxtngxlrftltqggpftj3eight1gsrkbbclll', '474jxtncx', 'bxsqsb8', 'svsvvtzddklkrxmpd2', 'xbvjfmcnine2znbqn5eight2smvkgpclvs6', 'tnlpfivem7', '7seveneight2dfiveonesix6', 'fspcrlcthreej1seven4', '7nineeight3hzfour', '9fivethree', 'four5ggbseven', '5hsv', '1ppkkkhfzn', 'pkfzkpv9mtktjvrssdftslonebpmhf', '8fhfqmzseven', 'six89htmnpmqsixzvxl', '9mbkcbnmptpkhqvvzxftss7', '48five', 'eight8118four7qsjb', 'cpghtgncpkkxtrvrsgl81eightcfzsjfq6', 'ninecsthl8onefgpmc', '3threehnrone5dzcfdtpf2hdlnrxnmnhjqqqn', '5ninesix54', 'lnzhtwo9446onefivefour', '8two427bvcdkckdgz8', '6six35seven', 'six2fcpzhbn6fivekm34', 'httmgldjfqnnhktmnhj4dsmffzknbq674', '9nxrtsmqbcrgghqtx6kdnrfjq', 'thhmbpjldslpthkfxcfive1zrjqtpvjs8', 'cjtbcn7five9nlpgsoneone8', 'seven6eightx176ffrvml8', 'eight9jntmr4sevenmzjb', 'mxk51gt', 'three21foursevendbvm', 'zqtdz1ninemmhkjfiveeight', '98xlpkzb', '34two5four2cvtcjfdh', 'jvndgrtjonethree6', 'ninefivefive1lfqjqmptxvthree', 'kkxfqqkf49', '3sixseven3dzpvnvt51rnzljdprb', 'hpzpdrnkthreekct1mqdvljhrls3', 'six6sjsljgvgzhrzqpsznh3fivejpxsvqccrc', 'cpvlr7', 'tdgthree8twofivexxrvct', '62sixmt9ninefour', 'ninesevenfourzfzl43qssqrkktpnzjv', '8mfztzthreeldnjgsfseven', '356', '6vrlthreer9sone6', 'sixs8six5sevenvnkgbmxj2two', '8eightpglsknpxmsixjgqcftmvprjlcdsfks', '3dlkbc1', 'five5eight1', '7seven49', 'ggoneeightgcfnfkgbmlfourdls23', 'seven6jdpxxkfone', 'lfive715', '2ninefivej2sixeight', 'ttwonethreethreesixzbqz7', 'zmbqqcd8ztp46567', 'nineeight11', 'zhgsixthreejffqhzdfvfxjpfmjqqkm36one', '5vgftjvqkxj6pnctdcrktwoneq', '9ptmkf8six', 'lbjxvnfiverjppbtrhf6xbdnsltlnrqsgmx8q', '365pxj63gshpg', 'vlq5zhgj4', '98hc13nnrzfzschg64', '2twopq76kpmjdjflkqzxlvjhr', 'rnvmblqhq1', '8j273qfpfkz', 'dsevenvvdmxhhcd1dkz', 'lkqhrxkmp96fppvsdtwombkfour', '3one7dzpbhsrdf5', '159ckggpfzlgntfrddvfiveeightthree9eightwodnp', 'eightseventhreeseven1', 'mrzpk8', 'fmvxth2eight8hjmfkdxjh', '3threeone', 'nine5sixsixnzlqhsc', 'xtxbgtntwosixfour85', '3eighthz4twoqmlhrzsevenkcqhgrghrd', '12ldchpqzm', 'zcfjz5sixmqqmfsv9six6', 'sixlzcdtd3qlcjqzrtthnine', '1one6nine', '11xqblttcrdvgb7mdqkphrbdx', 'xbcc4mtgf5', 'sevenfourmthree1hgpnmvcvgshzvcsjdbqqgmt', 'v5xmghdgbkvnine', '29mkpfz7', 'jptwo4lqlrh2onefive7jhcngr', 'four6twosixsthjqpgh2', 'pctrvkmc82four2958', '12eight3', '7jbqeightlbbnpsvvdfrqccb', 'peightwo6sevenfoursixdmchsd1', '53dhphzvhnknt65ninefive', '86fivegpnhl', 'tpcspvvncglcsqjzlqrfivejgfl8zspdltrd7', 'mhpskcvhn3bkjlmqd', 'onetwo4lxmsnddzfbxcdcscjxxrzsvvzg3nvtrpncvpmc', 'fprqq1bpqxvjmblc17', 'four7ninenineksjcktcbtzsmrfr', '3nineccrnhtgg2knczqnnineoneqsgm', '4xnkljmg7lmfvrhxm96', 'five458eighteightxcgrnine', 'klrzfbrpkmtptdscktmcsqg5xonesix', 'vtmh1glhzlkmrlgfourpsbhtbrvdz57one', '9eight53threethreepgnc', 'fourseven3fivefq57', '5sixsixthreegdsrhkhdlk3six', 'v9xqhpzkfivebnjslbzh548', 'jssdslcxxv3sdhbqnine5sixeight2', 'vr1', 'eightsoneqrrqfoursixzngsths9three', 'ltwoltrplmlkzz5sssjmzgcjsixfivejhms', '49one', '2sevenfivethlgxmxssnvlsfst4', '8slfnfsfk', 'fourszbtpvvlvppsqbsprthreexgrlp3zt4', 'seveneight8rhonectrmxrjvnnthreetxmfbvxtlt9', 'twofive6eight9', 'zqxpxlzjm3hmzjzgoneeight1seventwo', '9xbmqqtkstflg6onem2tdfsfjnxdmmzlrcnpm', 'pgcxbqvvj6', 'xfsix893', '7four1', '63five', 'tr9chvmlhhv6', 'jxc2six452', '11zvz', 'oneqkhstmkhb11fourninezs37', '3mxf3slhhs', 'sixgdnljsfkfnffp67789nvgc', 'sxptjdmqfv1eightsevenfpxpdnrtnqkdxhnzdm', 'grdgt9ninedxnqhrts', '8sevenxcsl1', 'fiveeighttwo5', 'bgroneight2pgzdpnzgchkq1', '5twozc62foursixeight', 'six61', 'cbxzoneeight1', 'hntwonebmslklfkfgpngvffour5', '1262ninemdjsrdk', 'roneightqnjseven2', 'rmnpjzflcmqdrdseven3', 'ltwollzgvr1fiveeightjvv7', 'kkc5fourfive89', 'cqnnhjxp4dtt', 'jeightwo1fgtlfpsixtwo9pptcpmjjsixone', '832', '9eightkhlprvq7seven', 'ninegeightbfvnvvnpslspcmscvqcqb6', 'jgksh2lkss6onexznvfhq', 'flqhlpkzjvq3qvvgvjscr6v9eight', 'hrgeightwo8', '3fvpkbrhqchlbsxhlqfone3eightmhtxbrninerbkrsnxbjg', '871eightnineq5f2', '6jnonergcjfvkhfive', 'one47fxgvgmoneoneoneg', '5xktmbkqftrlvztctxnqprpnine', 'eight4tfvsbtmhtwol', 'rbjdrmbcrs9chvcj7s', 'eight12bdzqtvnqeight27rpt', 'fq713oneone6rgrnd', 'cdt96', 'dbfrd4rczmbgnmfrltdlpbseven7lqhfive', 'fourdxxkqjfpjxbcthzhbl67eightzks19', '2four5ntghsdcsdrjpbrtrt3bzgbtfnknine', 'tvmnjgcsixnine8zrc39five', '5kcbfkj61three9tsqpvzdd', 'qsmseventhreeone4twosix', 'twosix2', 'jzsmxs9plpsixpqxffive', 'sixthreeseven4flbct', 'mpplmsrjvz9', '8ttgt9ninesevensevengnprjnvxpjz', '8gmpgvbfjcdsnkcth9bbnqsqhqqzeight42', 'nk5b', 'four98six83five', '415rqgdfsix', 'mqrkmbvtm668', '6453twoone', '9fiveeightseven4gsshznxbkb5', 'seven3ninedgthree', 'jckgvtvrs3six3trrzfrxfnm8', '98fivexxdqpmv74fbthtqqfourvttxnck', 'fivenineonefour46tccfkrsrpqnxhtm', 'twobdsqhnscrkbzt19', 'llmccgn8', '6eightoneonen57', 'meightwo1cjqsm3sixlrr', '98842', 'twofnsvbsxkxrzghhrz29', 'tzfjthreebkkljhninetwoone6zgpgsgxq', 'fournkcgf85seventwo', '642', 'four1oneninejbstfcdgjkjtppskglj1', '4four9eight2tnphxvfour', 'sixjhcnxkksxthreeseven1four1', 'rb34pqtnnfive2sevenone', '33sevennlnhrkkbshonefnrqq72', '3sevenfourlmqzfdjrq', 'tmttpfb4mghtcpnine', 'nhlqlcxff8', 'fiveone5gxg', 'fivecrjmsgljxb1mqmffour8mgtdxsjsix', '1jdkvzfmbq', 'ndzqgk6', 'threeg7twofour2twossldnmthree', '5rsltvdtworrglclfpctml3', 'nine6fourmcqbhbvlmzgnfqtbcs', '5eight92', 'ninefivefour3kbnmrdmxjg2', '73vprclhthzz8', 'ninettjnnkrsix9kvxjknzkmsxtvdn', 'bgzfv59fhsvcjvlgmhhzph58', 'threeonefivecgjstcmp57', '9onefoursix', 'sjqjvd4three91', '9ccdjqfivefourfive6mrnkjqf', '7lzdrzjheightthree6', '43', 'nineb8sixqqsxrpn', 'fgkj15eight6gggndbjxvthree', 'one3sevenlfjqmbmssgbzs8pzjptxgvq', '77fiveqpjpfdqteighttpfh', '2333twonezrr', '8p4cxnjvbjlh9ninesix6', 'ninefour95', '67twosevencktwopjcmcxr', '9four1threejbrdmtkzn', 'ninenjhstmmmj3four', '4lnqjqtwo3zxfznvp', 'sixfivesrxnttwochrkdrr7', '4three1', 'tfeightwo9two69five', 'oneseven3sixfournnpkhhx9', 'mdl8kfpvthree', 'fxcxgmq5three3ninehdc8', 'one9eightfiveonernhbcxjninethree', '9three3fcpgxksix', 'nine346946one', 'hzkpbmdzdmsfkrbxvs6pnmqsevenlnr', 'kzsgmsix5', 'kdjdvvdl2', '8lcpfkhdltwo', 'xjzfbgrmvxprqpflpbk9cnpxdkgmvvjz8vbrjhxvthfsjkk', 'onefive7', 'tjqmxncdbmsjznine1zlr', '648bhzlqnlvrshdgzonefive', 'eight2sixtdzznchf1seventwo4', 'sevenzcmpbfbzdvjlztpx62', '5961', '97192fivethree', 'seven1mcxnqqzvpp5', '8qn1eightseven', 'hcrrthreesevenlkvhfbj96twonine9', 'two8four', 'hpkttfdpgb16', '19oneseven2onerl', '347seventwo', 'eight4threempfbxbssrrkscnc4eight', '555qrppcplpgtworxgbgdjdhltwothree', 'v9627', 'twoninenine72tkcbk', 'one5jhczrlqmhr', 'qnhr4xlckprn9x3bzrdbfrdql9', 'lgtdv99kmgjjkzfive', 'lrclbljqqpninerrjptvpfour2', 'fiveltkcgdvgkeight7seven', 'twongdsevenfivefive3foureightwonn', '8svdmkflj', 'rlbf4sevennc4jxsskjgktwodsxgtlkthree', 'seven4nine4fivezjfsjghbcninefk', 'drghcjthreevstpdfth6sgqtx', 'zkfthreefptvnvb9five', 'gjcqspnkztlqdnzl6', '6nineqzgvhcnhjxbmtkcfm8one5five5', 'threesevenseventwoqrcvpvvrdljfone3', 'v44nlcdx8eight', 'eightseven3bmfzeightzccxqk6ftlsmfp', 'seventhreeseven3', '7eightgvxcdxzplrthreelqgbhvpqffivefour5', '8coneckchx5pfive', 'xhbbmsvjnonethree4', 'lnktfknbqfive4seven', '8prvncdq97hjjltzreight', '2dfktgjgdrvfour', '9onesixone', '873lsmllvsvp', '61dcjgpjvqxj', 'xtwosixfiveseven2two', 'p4', 'threescgqlmkt43one', 'plffdq4pcqfoureight9one', '357qzoneztwo6', '6ztllqsixgtfgcr', '4nineoneighthch', 'fivesevenninesevenvpnfkjpeightjsvtqxgrx35', '8nsbjtjrhnv36', '4eightseven', '5rksnms6fgcnrttgl27four9l', '3gknvvffflfgdg', '8ts98n32one', '4vmvthreefourmttwo', 'sevenskfmmmsjone95', 'seven4fmnxskg2516four', 'seveneightzjdnjthreethreefourpj3three', 'two8one44three3', 'bffeightwo3twosxljzljbllrtttzsevenxfonetwofive', '5eight5sevenfour', '4fkxqm', '7nine4seven', '6eight3sevenfive6pxjlschvhm', '5nine7spbqddhrqcbzrvhkrt88', 'cnpbkmbfour88', '41twoeightlgcjfvms', 'hktvctnine6mzccvthreefournine', '1dr66mg5one', 'five74', 'bsrrldft858six2oneightm', 'mmsvhxsm68seven', 'lnjcnn4fiveninerlsqkcn3', 'fgzjrlmfjktwofournine5782three', '1two8fiveninegndtnzndf41one', 'kstskp4one9ponejlcqdvgkkdfive', 'four7two', 'mzcbhhxgkfourfour34', 'qvhnpbmvdbgxbnhcgthreesq7dvmdnhl9', '1jhmkdmmmjg', '6xzpvzvqbrnine8gg1771', 'sixone9qvfft', '6eight152two6sdbl', 'sevenjlpmzv7', 'jntrfc5', 'ztspfjhk4', '9fournlslrmlr3', '2kqsxx5', '3nineshlmjsevenfiveonellrtr', '7hcxxjkbsvknbmtwotninesrpsszktzjlntwo', 'fv1six81', 'onetwo4eightsixjkgmtvxptnxltqtptncfsix', 'eightzvmmone3eight9dglsqq5', 'jvqs4sevendl', '551six3oneseveneight', '5jtcbrmtbjmrb4sevensmmrctntvz7five', '9lrnfive4', 'twoxfltgdg5six', 'one4threeeight3eight4stlp', '2rpxk95sixslsc895', 'seven15', '1sixsix9sevenkhlnhqtzptwovzrmbr', 'two55six', 'twofour3', 'eight6fiveeightbmrr1sevenk3', '4flbntjtfivepzkjplzxn7', 'ljnpmnskjsixthreehpqdkccffg4sixfszddbz', '9gfsqhmonelgvxpkmnhldmthree7', '5vthvsrcbxbcrgqnine', 'six6nine2v', 'htnvsfmz7dtvthree6sevenfourfourrmsdfhkd', 'pb24', 'sbmmdnfvmlfourfivenvcnb3jrctctmrhm', '2fourone52hkjvd4', '1bhpbmxhtr4eightwolkd', '5qrqbxtgppvvcms', 'mgcgxpmj4dl3zfckcskbqnsknlctwonxsddvhl', '6zfv66onetwosixtwoxdx', '676jmzcdbcjnfrlrgqzfkmdxz', 'oneqhgcqjmjq4', 'three6qvlkksf98', 'fivesix614s83', 'threeone9kplvzq28threegcmtrzzlsix', '5lxcjrvbthreednttcxfnfiveseven', 'threeeight5seven5jlhhfour2', 'xcppxkxqffc6six', 'fouroneseven1xrdtbvdsix', 'vfqzhvzclbpj2', '5seven8xlhfivetwofivedvlbtvzvs', '7bjlrvnncgsseven7six', '3qsnhs', '2fivefour5', 'gjgzjs1s', 'vxhlxvgj39', 'three1lvnrfrbzj6nine', 'oneftpcjskxzhv21one2twomshxlh', 'nine36', 'ninetwojfqbjkbtrfseven4nkszvtjnffeightwoxdd', 'eight1eightfiveonerzr4', 'sevengtwokzcxvvg4', 'qxkmfdznfive98eightfourprmsixthree', '1two743six', '274sixqqq62j', 'sixfour4fourstxrskpxc1eight7', '2fourrzngcnlm112twoone8', 'nnqfmonerrpxeightfive9', 'klzrfbxjnznzkt24pjngplcdlftjz', '66gbsllhhgxn38', 'threelzzrxspvq8four', 'qtvtpqspqflonetfrzvkthreeone8gsjqzgnv', '9vhlxrqtdmzrpfqh74zsgnmsdlqgcp2', 'qkkkhxbrk35eightjpnmb761one', '4vp4four49two', 'five6nrmvcfzlt665', 'skkqlzl1mrkgncmqnine68xvhfcsc', 'two17kbjcdsstlxst6', 'foureight3twonglgrv', '6nine5', 'pgcmqzcfninepbgcrbzseven5zplhhbrjbpxj', 'sevensix6fourtwonpninebt', 'eight7951one', 'glvndtgdfkzzcbsmt36sevenfour3eight5', 'dtvgrkkzvhflhcsknhsccmxzgfivetcpz4zrcl9one', 'jpg3onenineqzjseven8phltdpjrsr8', '68one', 'gctzfjksevenszfblxone2seven6pd', '93nine42', 'two19four97crzhqndbqpmpvj', '3six4mrntvlzntmqgcmms', '1gmpdqpfkkz', 'xmsv3eightmdnqkdtzn814', '395zqfqrgzs', '9eight81cpnvrkkl', '7rddzbqfm5fouronekxkhlgf1', 'fkclxddmxrpqzhqeight697', '2mtvxtgq5six', '3one9qvnpnmhzj6', 'rvvf3six9fourrq', 'r2eight55gvgpfs', 'dtztwofivefive12', 'three6zfqhnjzvr2twosevenoneightqp', 'sgleightwo2974c24', 'pplpgxnvzfpv4xlfive11four', '58one', '61four29', 'eightgxcgbrzd8five8', 'jxdzbxcc1one6pfivesixfiveg', 'two542cvjxvmhhthreexkl', 'three8nhzz4', 'sevenseven1seven14pxtwothree', 'mpdcbdjkp8ninethree', 'fourthreeg9pnine', 'onesixfourtckbkjdkqbfjkgpk54', 'qxh1twoclvzvsvgk2dvpkncltdt', 'fivefourhjckmndtdp98jzgqvrhbhxeighttdxkjltrdq', '296dvxdxhdb4qbnmkzxh', 'djsrgct28vjkvsttnlf4', '7rhdkfvqbxninegnkbgcqv1four42', 'seveneightdcb7sevenpdvqlmkvfive', '39lr83hhhrfivexbhr', 'zx32sixeight', '7hsxxzjjdh4rc55threeseven', '5oneseven2sevenfourtwothree', '9oneqc3seventwofive5', 'five2hnfkvsxmhjfivefivesix', '3sixnine59three6mncxxxhkgxzlxscdzplm', 'eight9three62sixfour', '26hfc4four1', 'jrnxgrvrctbg3nine', 'four73dqfiveeighttwosevenknq', '94nine8fivevnvlnf', 'twopg79nine6kkpfgmpdlqhfc5', '511twogghonefour', 'bvdneightsevenfcjnhccrlb7nine', 'lpfoneightfrnsrpgkzsixv8', '1sevenseven981', '53kvftth53fourc', 'zcmkkshveighteight1', '9sixcrfzhfxzzrrdtkscp', '8fhslkqzsc5jlpthreeninemjftx', 'rsfourfkglt1hfvhgeightfourvbmsnine', 'sixninefive5', '2jqdfddkzzqxnkv8two', 'sevensevenmxhpqvmngfivecnhvg18', 'threesxrninenine31sixnmnssk', 'kzvvsvbjrfoursix6four', 'ckvmxptpxrvpsfvt9nine', '66ninezgxttq1nineninexggjrtzgg7', 'two2eighthsrnine5pmptccfkfcpcmkn', 'seventqsqhbftscfonekdhrctnlcfdgzhvshsjgsbq7', 'nine1mdpxvlxkdx', 'pm4eighttwo', '81ggljdxsthreeninefive', 'twofivenine39three', 'six152sixp', 'threemztwotwo5fiveseven', '31twoninefsxmpsjx6eight', 'seven2deightone5threethree', 'hxmthvjphjdgctfpt4dfhxseven', '4twoeightzx8', '9dzbjqnnmbseven7', 'crdtprqs455onedmzvkzmmm', 'jqcxsxblgml1', '9sbqzndbsx3twoseven7', 'eight8threezvvqbrsix34', 'ztzlrsg4qghxkvspvcsix2jndhxzfrm', '6twovjkjgptwo43lg', '1psnbrkbhb8seven', 'xfxqjrggpmtf4fivenine79', '6pdv1xpsgr', 'zb4rqrqxsevenvklzmslqls', 'fourlstone7', '53joneeight8ninef', '1315', '1qj4', 'djeightwocxrnf5fourone4eightbqj', 'jrgxvsmnzg5', 'twonsjbzvtqhgfivejdhxstbzrbtpndnjlvb7hhxfmrxtfxrcmjs', '67xbctwo', '7nbsrhcvrqj', 'fqnl9foursixtdgbcncr85three9', 'gmg4mr3rvdt', '19qhmhvpzfour', 'pkptr6lssnqxncztpbt8', 'sjqtxbxp5twoseven1onerrsqghcfpncgkfour', '7four8spgzfoureightthreedqp', 'two9bxlqs', 'deightwoninethree8', '3plpprmmhvvsnvdzjzr9sqgbddpghthreejjmldhdqqm', 'sevenfiveseven4bkvxkzqbtxjvdsltfkn', 'sevenssfkdmvmntpxjpqlj8px', '4hk9', 'fivenxcmhf78pmdd6mmqfvdxqbh7', 'five9hvfive7', 'eightfourrpflnfourtwo61', 'threenine2', 'ncdpjqcnine1twoonehglvzpzf', 'jmtpbhbshrvmhvqt38brsqpxn4one6', 'onesixvmmhsevenfoureight2six', 'ttwosix5nineb3eightthree', 'cmkdmhkdf3zdhjfmb', 'three5fiveqrrxrdtsixtwogntmvxsggqfive', 'oneeight5eightfive38twonegv', 'cqlfhlch924mpmqfvtwo', 'jrnzg5four3fivetwokxphktf', 'seveneightmzmzftx9gsmxjkj1stjbvxlvmlcdgnine', 'twonineeightninethree6blhm', '3kskponetfgjgzphqtr', 'ntwo2', '5six1vksjzrlgjnxtwovbkrdlhjsmzdxcf', 'twosixkfmcfndlj453two', 'six5twotzbzqtwo', 'fivenpcqfour5twonej', 'nineninefouroneztvqspscnk4twoklbht', 'bqcbm19hckcgtcfkb44eighttwo', '52jcrbqbkhjx5nine8', '5threethree', '3twotrnnlstrndthree9', '15zsnrfshn7twoeightsmvsfztx', '789ckpxflvkr', 'skxlnpxxdgbhqnineninejsltrx8three', '1sixone724', '2seven4', '7knspxrzszdbgc3seven', 'vsqmpf5sixsix9eightdtgmpxrksb', 'three6btwo11fived', 'bckqdndnine7bpzvkxkdqtwoseventxpzqg2', 'one6ntmlmfkfmjfourmgddpzfr5scjhhmgsix', 'four12mlhdscsxfiveonesevenlone', '9rdlctlkc', '11vjvjsllfivenv', '2four6fourfive', '5czmqmdkkthree3', 'sevenfive9', 'sevenfivemqjhqh9mvdkgtr', 'glvpdbbhxs9', 'four2three', 'six6gtdbttnhvkvh', '5fcsbnpsixeightonetwo3', '5psvznthreethreefive5qrkftfkqsix', '36lmm', 'seven33onefournlr2', '13seven', 'onejdxgxjpcsix1sevenpzbzthree', 'sevenqcjsxz6twokkpzllzqninetwo', '1367mtsldgrdeightp', 'five111hbp9tlqp', 'threebbnine7onesix2twoneg', 'mxmpnxmpqponeeightktxvgkcdr7', '411fourdhrdvrz', 'zxkmcr5eightkzqsixsix7', 'six972zleighttwonvgvth', 'vnmmbzfpttwofnjd76', 'twopnthreeqzlvkptmph9vnkbxghnone66', 'nine1fiveninethree4', 'mdrdpbsfcjsixpnxfour2four2', 'sgjrdtmzcj2mbnlbtqsdboneeight', '9jbmhchfrnfqvxcjtwokrbjvzmcxrj', '4jhjksqvnqsevennfrtslcgjbrhfour', '6eightlzrrxfbcjeight5six1kzhtpbz', 'jqsmqbzpntxdfvdthreezrqzdhthreefmvslxk6', 'eight82two82zqghmbd', 'qtwone4d', '6three16', '9eightdmtkznh6', 'znc1185', 'eighteight665bxbngx5dvht2', '9seven83three', 'mqdnhqfdgzfshjttvfour3hq92qtpdblnvdsxcskz', 'twofourfivedfffknb6ljxjlsq48', '6pbdfrqpfour', 'vmtkqpjftc9twonej', 'rhcstmvxdnjgldpmlmsnineglmkntfiveeight3lgnlqmjkzl', 'rxzbjxjhkvhtxps2twohlcdgkrbdbmxvpf4five', '1three9two', 'bp234jszvspdq', 'rcmhnmb3lpxneightfivetn7', 'srdh461fourcrhhkbxftghxqrptn', 'rlhlrm894', 'jtmmljgmmppknktqrbjtwod9', '75kvnbm', 'psbcdponesix218', 'ndx5zthreetwokjjvzkjk', 'onerhnmsxmseven7two2snn34', 'nvmfj6hqdspmndlzqhrrznrpcgn', 'lqqgdmn5fivesfbqhveight1', 'one5pjpskd25four3', '91dxxjkrthreethreefourfiverrdhqtwo', '3sevenhbrznfcqmfivepqnmzxvlldhfdrvkqfmxzx8', 'lrfflx9pvrfctxkxk432', 'ninerhjlqfzg3fourbvfkbmxbntz1', '6dkgtthreebjfgjqnv6lveight', 'seven527rgztslznxdkgrgf6one', 'npchxbnb5zpzrllhx777', 'rfour4qkvcxsbjnveightwogm', 'foursixsevenppnrdgpnrkbr5', '3three4lm', '1dmxvfour7', 'fiveh1eight', '643', 'fivelsffmhsldlfkqkb2threek6three', '23dpbpjcsqslnine4799', 'shvkdvntpmvt52dvclb5bjdj', 'eight5sevenfbjrpbdsdzhnc', 'dv2vqtqghlkprxx6three', 'four1six4fnznbcdghfzpd', 'eightfiveone4fourone', 'two75four85', '3331', '9eight1seven', '9threexbsevenfour', '22meight1', '75two', 'five6onetwordjsgltj', 'oneseven9one', 'djljfzv7cnpnvhmqkjgn5eightsix97', 'three8xpskzk', 'nzgpp7fdcl6twotwochsgztwo', '1tfvvmzfd4threekgqdthreesfxjggmszz', '7krlgg8864gfp94', '3xxpkqxfxcn', 'eighthl4cctb26bppqpsc', 'eight5rq', 'hncmdrmfive4', 'qml6mmx', 'qpckxnrjbdlprhmrqeight3bcjtghrrfvczqxeight', 'nine6five', 'fourmnzrtwocvdkmlc6', '3sixseven1mnbdqfgcqqcpsix', 'ninekvxrhk2jjjrdlqf49', '7seven743', 'xnrz1m5', 'cseven8pg2', 'hxbfzndh6nltvbv', '7zxdkghnzrzljlqftwo7hfmptrgd', '5jltxrmxn', '9eightqskgfndxsgmsrprhsvnninellts', 'dz88', '99nine', 'rphppqzzxk2four', '2nzeight', 'four44two', 'qtwonetwodgbhqmtzf82onefive48', '6fivedhmv', 'xsvpdrtvr28ltsjseven', 'foursixfour61nrseven', 'qrhtwone3tmtsixf', 'sqjvg2pzbzpgthreenine6cpsq', 'jlvnsbshjmxnxfouronesix2zlff5', 'rzxkpczkn1bkcfbpbcb', '9nmkljlqmd9fivenine7fivexndtdghpc', '6twovgpsevenmzcbjtnd3threegmsltfhrgq', 'fourmktnjsk4839ljqvqf', '47hcbcnhjgxhdfn7rrbonehvlmddbone', '26fchgtdnbtwo8jpqxkb', '7dxtslxqkbqfivefive', 'sixnineqnjmseventwo5gh2c', 'three1eightvxeightwogrd', 'twotwoninesixxdvrxv5', 'sixonetqddfmone1seven7', 'fourseven9ninefoursxnnnfcbtb88', 'twonpbnblrh3qckkxckflprdnr4', '6eighttwo2sevenqml', 'three1twotwon1cjfnnnlptc', 'tlqtgktgjtgfour24four91', 'ghseven56sevensixhfstvk', 'qd8fourvmvgmssixsix8oneightps', 'jjvhthplcgzdndmrnxmctrtnndmzztnggr9rspflsix', 'jqk39fivetwo', 'nine2sixrtwothree', 'gccjpxtcxfone6six6nine5', '7twoeight8flzqk77', 'mjljctdbg8', 'sixthree8', 'bbdlvtsjhjst88', 'dklhhhlpqqxlgdzzheightjntbmlfour4', 'ggrbl5cthnzlsbjssixpt']\n"
     ]
    }
   ],
   "source": [
    "puzzle = puzzle.splitlines()\n",
    "#print(puzzle)"
   ]
  },
  {
   "cell_type": "code",
   "execution_count": 92,
   "id": "7fa50d95-2ca3-453d-b6a7-c61ea16be3f8",
   "metadata": {
    "tags": []
   },
   "outputs": [
    {
     "name": "stdout",
     "output_type": "stream",
     "text": [
      "54708\n"
     ]
    }
   ],
   "source": [
    "#Part 1\n",
    "\n",
    "total = 0\n",
    "for line in puzzle:\n",
    "    numbers = []\n",
    "    for i,c in enumerate(line):\n",
    "        if c.isdigit():\n",
    "            numbers.append(c)\n",
    "    total += int(numbers[0]+numbers[-1])\n",
    "print(total)\n"
   ]
  },
  {
   "cell_type": "code",
   "execution_count": 109,
   "id": "0b5f6a54-591a-485d-bcfa-11e5406d2631",
   "metadata": {},
   "outputs": [
    {
     "name": "stdout",
     "output_type": "stream",
     "text": [
      "54087\n"
     ]
    }
   ],
   "source": [
    "patterns = [(\"one\", \"o1e\"), (\"two\", \"t2o\"), (\"three\", \"t3e\"),\n",
    "            (\"four\", \"f4r\"), (\"five\", \"f5e\"), (\"six\", \"s6x\"),\n",
    "            (\"seven\", \"s7n\"), (\"eight\", \"e8t\"), (\"nine\", \"n9e\")]\n",
    "\n",
    "values = []\n",
    "for l in puzzle:\n",
    "    for p in patterns:\n",
    "        l = l.replace(*p)\n",
    "    ds = [d for d in l if d.isdigit()]\n",
    "    values.append(int(ds[0]+ds[-1]))\n",
    "        \n",
    "print(sum(values))\n"
   ]
  },
  {
   "cell_type": "code",
   "execution_count": 75,
   "id": "4d8ab740-8925-4250-945e-5dd9ada607be",
   "metadata": {
    "tags": []
   },
   "outputs": [
    {
     "name": "stdout",
     "output_type": "stream",
     "text": [
      "54087\n"
     ]
    }
   ],
   "source": [
    "#Part 2\n",
    "\n",
    "total = 0\n",
    "for line in puzzle:\n",
    "    numbers = []\n",
    "    for i,c in enumerate(line):\n",
    "        if c.isdigit():\n",
    "            numbers.append(c)\n",
    "        for d,val in enumerate(['one', 'two', 'three', 'four', 'five', 'six', 'seven', 'eight', 'nine']):\n",
    "            if line[i:].startswith(val):\n",
    "                numbers.append(str(d+1))\n",
    "    total += int(numbers[0]+numbers[-1])\n",
    "print(total)\n"
   ]
  },
  {
   "cell_type": "markdown",
   "id": "efdc70b2-0bf1-46b1-a6b1-2a3e85a66179",
   "metadata": {},
   "source": [
    "ChatGPT version :p "
   ]
  },
  {
   "cell_type": "code",
   "execution_count": 93,
   "id": "fbc3518a-dc1a-4f31-8012-3733d98c9f75",
   "metadata": {},
   "outputs": [
    {
     "name": "stdout",
     "output_type": "stream",
     "text": [
      "Sum of all calibration values: 54708\n"
     ]
    }
   ],
   "source": [
    "def calculate_calibration_sum(calibration_document):\n",
    "    total_sum = 0\n",
    "\n",
    "    # Iterate through each line in the calibration document\n",
    "    for line in calibration_document:\n",
    "        # Find the first and last digits in the line\n",
    "        first_digit = int(next(char for char in line if char.isdigit()))\n",
    "        last_digit = int(next(char for char in reversed(line) if char.isdigit()))\n",
    "\n",
    "        # Combine the first and last digits to form a two-digit number\n",
    "        calibration_value = int(str(first_digit) + str(last_digit))\n",
    "\n",
    "        # Add the calibration value to the total sum\n",
    "        total_sum += calibration_value\n",
    "\n",
    "    return total_sum\n",
    "\n",
    "# Example calibration document\n",
    "calibration_document = [\n",
    "    \"1abc2\",\n",
    "    \"pqr3stu8vwx\",\n",
    "    \"a1b2c3d4e5f\",\n",
    "    \"treb7uchet\"\n",
    "]\n",
    "\n",
    "# Calculate the sum of all calibration values\n",
    "result = calculate_calibration_sum(puzzle)\n",
    "\n",
    "# Print the result\n",
    "print(\"Sum of all calibration values:\", result)"
   ]
  },
  {
   "cell_type": "code",
   "execution_count": 98,
   "id": "deb01376-ac07-427c-b4c9-a10c50ed0b2b",
   "metadata": {},
   "outputs": [
    {
     "ename": "IndexError",
     "evalue": "list index out of range",
     "output_type": "error",
     "traceback": [
      "\u001b[0;31m---------------------------------------------------------------------------\u001b[0m",
      "\u001b[0;31mIndexError\u001b[0m                                Traceback (most recent call last)",
      "\u001b[0;32m/var/folders/n7/by5_7qbs0n53yz1t4gspd0xw0000gp/T/ipykernel_54001/663176487.py\u001b[0m in \u001b[0;36m<module>\u001b[0;34m\u001b[0m\n\u001b[1;32m     45\u001b[0m \u001b[0;34m\u001b[0m\u001b[0m\n\u001b[1;32m     46\u001b[0m \u001b[0;31m# Calculate the sum of all calibration values\u001b[0m\u001b[0;34m\u001b[0m\u001b[0;34m\u001b[0m\u001b[0m\n\u001b[0;32m---> 47\u001b[0;31m \u001b[0mresult\u001b[0m \u001b[0;34m=\u001b[0m \u001b[0mcalculate_calibration_sum\u001b[0m\u001b[0;34m(\u001b[0m\u001b[0mpuzzle\u001b[0m\u001b[0;34m)\u001b[0m\u001b[0;34m\u001b[0m\u001b[0;34m\u001b[0m\u001b[0m\n\u001b[0m\u001b[1;32m     48\u001b[0m \u001b[0;34m\u001b[0m\u001b[0m\n\u001b[1;32m     49\u001b[0m \u001b[0;31m# Print the result\u001b[0m\u001b[0;34m\u001b[0m\u001b[0;34m\u001b[0m\u001b[0m\n",
      "\u001b[0;32m/var/folders/n7/by5_7qbs0n53yz1t4gspd0xw0000gp/T/ipykernel_54001/663176487.py\u001b[0m in \u001b[0;36mcalculate_calibration_sum\u001b[0;34m(calibration_document)\u001b[0m\n\u001b[1;32m     26\u001b[0m \u001b[0;34m\u001b[0m\u001b[0m\n\u001b[1;32m     27\u001b[0m         \u001b[0;31m# Combine the first and last digits to form a two-digit number\u001b[0m\u001b[0;34m\u001b[0m\u001b[0;34m\u001b[0m\u001b[0m\n\u001b[0;32m---> 28\u001b[0;31m         \u001b[0mcalibration_value\u001b[0m \u001b[0;34m=\u001b[0m \u001b[0mint\u001b[0m\u001b[0;34m(\u001b[0m\u001b[0mnumeric_digits\u001b[0m\u001b[0;34m[\u001b[0m\u001b[0;36m0\u001b[0m\u001b[0;34m]\u001b[0m \u001b[0;34m+\u001b[0m \u001b[0mnumeric_digits\u001b[0m\u001b[0;34m[\u001b[0m\u001b[0;34m-\u001b[0m\u001b[0;36m1\u001b[0m\u001b[0;34m]\u001b[0m\u001b[0;34m)\u001b[0m\u001b[0;34m\u001b[0m\u001b[0;34m\u001b[0m\u001b[0m\n\u001b[0m\u001b[1;32m     29\u001b[0m \u001b[0;34m\u001b[0m\u001b[0m\n\u001b[1;32m     30\u001b[0m         \u001b[0;31m# Add the calibration value to the total sum\u001b[0m\u001b[0;34m\u001b[0m\u001b[0;34m\u001b[0m\u001b[0m\n",
      "\u001b[0;31mIndexError\u001b[0m: list index out of range"
     ]
    }
   ],
   "source": [
    "import re\n",
    "\n",
    "def calculate_calibration_sum(calibration_document):\n",
    "    total_sum = 0\n",
    "\n",
    "    # Define a dictionary to map spelled-out digits to numeric values\n",
    "    digit_mapping = {\n",
    "        'one': '1',\n",
    "        'two': '2',\n",
    "        'three': '3',\n",
    "        'four': '4',\n",
    "        'five': '5',\n",
    "        'six': '6',\n",
    "        'seven': '7',\n",
    "        'eight': '8',\n",
    "        'nine': '9'\n",
    "    }\n",
    "\n",
    "    # Iterate through each line in the calibration document\n",
    "    for line in calibration_document:\n",
    "        # Use regular expression to find spelled-out digits in the line\n",
    "        matches = re.findall(r'\\b(?:' + '|'.join(digit_mapping.keys()) + r')\\b', line)\n",
    "\n",
    "        # Extract the numeric values of the spelled-out digits\n",
    "        numeric_digits = [digit_mapping[match] for match in matches]\n",
    "\n",
    "        # Combine the first and last digits to form a two-digit number\n",
    "        calibration_value = int(numeric_digits[0] + numeric_digits[-1])\n",
    "\n",
    "        # Add the calibration value to the total sum\n",
    "        total_sum += calibration_value\n",
    "\n",
    "    return total_sum\n",
    "\n",
    "# Example calibration document\n",
    "calibration_document = [\n",
    "    \"two1nine\",\n",
    "    \"eightwothree\",\n",
    "    \"abcone2threexyz\",\n",
    "    \"xtwone3four\",\n",
    "    \"4nineeightseven2\",\n",
    "    \"zoneight234\",\n",
    "    \"7pqrstsixteen\"\n",
    "]\n",
    "\n",
    "# Calculate the sum of all calibration values\n",
    "result = calculate_calibration_sum(puzzle)\n",
    "\n",
    "# Print the result\n",
    "print(\"Sum of all calibration values:\", result)\n"
   ]
  },
  {
   "cell_type": "code",
   "execution_count": null,
   "id": "26f60efc-ae81-40a4-adbf-4ecdf4aa91fe",
   "metadata": {},
   "outputs": [],
   "source": []
  }
 ],
 "metadata": {
  "kernelspec": {
   "display_name": "Python 3 (ipykernel)",
   "language": "python",
   "name": "python3"
  },
  "language_info": {
   "codemirror_mode": {
    "name": "ipython",
    "version": 3
   },
   "file_extension": ".py",
   "mimetype": "text/x-python",
   "name": "python",
   "nbconvert_exporter": "python",
   "pygments_lexer": "ipython3",
   "version": "3.9.13"
  }
 },
 "nbformat": 4,
 "nbformat_minor": 5
}
