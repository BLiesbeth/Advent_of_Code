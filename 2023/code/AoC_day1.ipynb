{
 "cells": [
  {
   "cell_type": "code",
   "execution_count": 1,
   "id": "73bd07c4-67db-405a-b30a-01e5b023a105",
   "metadata": {
    "collapsed": true,
    "jupyter": {
     "outputs_hidden": true
    },
    "tags": []
   },
   "outputs": [
    {
     "name": "stdout",
     "output_type": "stream",
     "text": [
      "Requirement already satisfied: advent-of-code-data[nb] in /Users/liesbeth_bogaert/opt/anaconda3/lib/python3.9/site-packages (2.0.1)\n",
      "Requirement already satisfied: beautifulsoup4 in /Users/liesbeth_bogaert/opt/anaconda3/lib/python3.9/site-packages (from advent-of-code-data[nb]) (4.11.1)\n",
      "Requirement already satisfied: pebble in /Users/liesbeth_bogaert/opt/anaconda3/lib/python3.9/site-packages (from advent-of-code-data[nb]) (5.0.4)\n",
      "Requirement already satisfied: urllib3 in /Users/liesbeth_bogaert/opt/anaconda3/lib/python3.9/site-packages (from advent-of-code-data[nb]) (1.26.11)\n",
      "Requirement already satisfied: aocd-example-parser>=2023.2 in /Users/liesbeth_bogaert/opt/anaconda3/lib/python3.9/site-packages (from advent-of-code-data[nb]) (2023.2)\n",
      "Requirement already satisfied: IPython in /Users/liesbeth_bogaert/opt/anaconda3/lib/python3.9/site-packages (from advent-of-code-data[nb]) (7.31.1)\n",
      "Requirement already satisfied: jupyter-server in /Users/liesbeth_bogaert/opt/anaconda3/lib/python3.9/site-packages (from advent-of-code-data[nb]) (1.18.1)\n",
      "Requirement already satisfied: soupsieve>1.2 in /Users/liesbeth_bogaert/opt/anaconda3/lib/python3.9/site-packages (from beautifulsoup4->advent-of-code-data[nb]) (2.3.1)\n",
      "Requirement already satisfied: setuptools>=18.5 in /Users/liesbeth_bogaert/opt/anaconda3/lib/python3.9/site-packages (from IPython->advent-of-code-data[nb]) (63.4.1)\n",
      "Requirement already satisfied: jedi>=0.16 in /Users/liesbeth_bogaert/opt/anaconda3/lib/python3.9/site-packages (from IPython->advent-of-code-data[nb]) (0.18.1)\n",
      "Requirement already satisfied: decorator in /Users/liesbeth_bogaert/opt/anaconda3/lib/python3.9/site-packages (from IPython->advent-of-code-data[nb]) (5.1.1)\n",
      "Requirement already satisfied: pickleshare in /Users/liesbeth_bogaert/opt/anaconda3/lib/python3.9/site-packages (from IPython->advent-of-code-data[nb]) (0.7.5)\n",
      "Requirement already satisfied: traitlets>=4.2 in /Users/liesbeth_bogaert/opt/anaconda3/lib/python3.9/site-packages (from IPython->advent-of-code-data[nb]) (5.1.1)\n",
      "Requirement already satisfied: prompt-toolkit!=3.0.0,!=3.0.1,<3.1.0,>=2.0.0 in /Users/liesbeth_bogaert/opt/anaconda3/lib/python3.9/site-packages (from IPython->advent-of-code-data[nb]) (3.0.20)\n",
      "Requirement already satisfied: pygments in /Users/liesbeth_bogaert/opt/anaconda3/lib/python3.9/site-packages (from IPython->advent-of-code-data[nb]) (2.14.0)\n",
      "Requirement already satisfied: backcall in /Users/liesbeth_bogaert/opt/anaconda3/lib/python3.9/site-packages (from IPython->advent-of-code-data[nb]) (0.2.0)\n",
      "Requirement already satisfied: matplotlib-inline in /Users/liesbeth_bogaert/opt/anaconda3/lib/python3.9/site-packages (from IPython->advent-of-code-data[nb]) (0.1.6)\n",
      "Requirement already satisfied: pexpect>4.3 in /Users/liesbeth_bogaert/opt/anaconda3/lib/python3.9/site-packages (from IPython->advent-of-code-data[nb]) (4.8.0)\n",
      "Requirement already satisfied: appnope in /Users/liesbeth_bogaert/opt/anaconda3/lib/python3.9/site-packages (from IPython->advent-of-code-data[nb]) (0.1.2)\n",
      "Requirement already satisfied: anyio<4,>=3.1.0 in /Users/liesbeth_bogaert/opt/anaconda3/lib/python3.9/site-packages (from jupyter-server->advent-of-code-data[nb]) (3.5.0)\n",
      "Requirement already satisfied: argon2-cffi in /Users/liesbeth_bogaert/opt/anaconda3/lib/python3.9/site-packages (from jupyter-server->advent-of-code-data[nb]) (21.3.0)\n",
      "Requirement already satisfied: jinja2 in /Users/liesbeth_bogaert/opt/anaconda3/lib/python3.9/site-packages (from jupyter-server->advent-of-code-data[nb]) (3.1.2)\n",
      "Requirement already satisfied: jupyter-client>=6.1.12 in /Users/liesbeth_bogaert/opt/anaconda3/lib/python3.9/site-packages (from jupyter-server->advent-of-code-data[nb]) (7.3.4)\n",
      "Requirement already satisfied: jupyter-core>=4.7.0 in /Users/liesbeth_bogaert/opt/anaconda3/lib/python3.9/site-packages (from jupyter-server->advent-of-code-data[nb]) (4.11.1)\n",
      "Requirement already satisfied: nbconvert>=6.4.4 in /Users/liesbeth_bogaert/opt/anaconda3/lib/python3.9/site-packages (from jupyter-server->advent-of-code-data[nb]) (6.4.4)\n",
      "Requirement already satisfied: nbformat>=5.2.0 in /Users/liesbeth_bogaert/opt/anaconda3/lib/python3.9/site-packages (from jupyter-server->advent-of-code-data[nb]) (5.5.0)\n",
      "Requirement already satisfied: packaging in /Users/liesbeth_bogaert/opt/anaconda3/lib/python3.9/site-packages (from jupyter-server->advent-of-code-data[nb]) (21.3)\n",
      "Requirement already satisfied: prometheus-client in /Users/liesbeth_bogaert/opt/anaconda3/lib/python3.9/site-packages (from jupyter-server->advent-of-code-data[nb]) (0.14.1)\n",
      "Requirement already satisfied: pyzmq>=17 in /Users/liesbeth_bogaert/opt/anaconda3/lib/python3.9/site-packages (from jupyter-server->advent-of-code-data[nb]) (23.2.0)\n",
      "Requirement already satisfied: Send2Trash in /Users/liesbeth_bogaert/opt/anaconda3/lib/python3.9/site-packages (from jupyter-server->advent-of-code-data[nb]) (1.8.0)\n",
      "Requirement already satisfied: terminado>=0.8.3 in /Users/liesbeth_bogaert/opt/anaconda3/lib/python3.9/site-packages (from jupyter-server->advent-of-code-data[nb]) (0.13.1)\n",
      "Requirement already satisfied: tornado>=6.1.0 in /Users/liesbeth_bogaert/opt/anaconda3/lib/python3.9/site-packages (from jupyter-server->advent-of-code-data[nb]) (6.1)\n",
      "Requirement already satisfied: websocket-client in /Users/liesbeth_bogaert/opt/anaconda3/lib/python3.9/site-packages (from jupyter-server->advent-of-code-data[nb]) (0.58.0)\n",
      "Requirement already satisfied: idna>=2.8 in /Users/liesbeth_bogaert/opt/anaconda3/lib/python3.9/site-packages (from anyio<4,>=3.1.0->jupyter-server->advent-of-code-data[nb]) (3.3)\n",
      "Requirement already satisfied: sniffio>=1.1 in /Users/liesbeth_bogaert/opt/anaconda3/lib/python3.9/site-packages (from anyio<4,>=3.1.0->jupyter-server->advent-of-code-data[nb]) (1.2.0)\n",
      "Requirement already satisfied: parso<0.9.0,>=0.8.0 in /Users/liesbeth_bogaert/opt/anaconda3/lib/python3.9/site-packages (from jedi>=0.16->IPython->advent-of-code-data[nb]) (0.8.3)\n",
      "Requirement already satisfied: entrypoints in /Users/liesbeth_bogaert/opt/anaconda3/lib/python3.9/site-packages (from jupyter-client>=6.1.12->jupyter-server->advent-of-code-data[nb]) (0.4)\n",
      "Requirement already satisfied: nest-asyncio>=1.5.4 in /Users/liesbeth_bogaert/opt/anaconda3/lib/python3.9/site-packages (from jupyter-client>=6.1.12->jupyter-server->advent-of-code-data[nb]) (1.5.5)\n",
      "Requirement already satisfied: python-dateutil>=2.8.2 in /Users/liesbeth_bogaert/opt/anaconda3/lib/python3.9/site-packages (from jupyter-client>=6.1.12->jupyter-server->advent-of-code-data[nb]) (2.8.2)\n",
      "Requirement already satisfied: mistune<2,>=0.8.1 in /Users/liesbeth_bogaert/opt/anaconda3/lib/python3.9/site-packages (from nbconvert>=6.4.4->jupyter-server->advent-of-code-data[nb]) (0.8.4)\n",
      "Requirement already satisfied: jupyterlab-pygments in /Users/liesbeth_bogaert/opt/anaconda3/lib/python3.9/site-packages (from nbconvert>=6.4.4->jupyter-server->advent-of-code-data[nb]) (0.1.2)\n",
      "Requirement already satisfied: bleach in /Users/liesbeth_bogaert/opt/anaconda3/lib/python3.9/site-packages (from nbconvert>=6.4.4->jupyter-server->advent-of-code-data[nb]) (4.1.0)\n",
      "Requirement already satisfied: pandocfilters>=1.4.1 in /Users/liesbeth_bogaert/opt/anaconda3/lib/python3.9/site-packages (from nbconvert>=6.4.4->jupyter-server->advent-of-code-data[nb]) (1.5.0)\n",
      "Requirement already satisfied: testpath in /Users/liesbeth_bogaert/opt/anaconda3/lib/python3.9/site-packages (from nbconvert>=6.4.4->jupyter-server->advent-of-code-data[nb]) (0.6.0)\n",
      "Requirement already satisfied: defusedxml in /Users/liesbeth_bogaert/opt/anaconda3/lib/python3.9/site-packages (from nbconvert>=6.4.4->jupyter-server->advent-of-code-data[nb]) (0.7.1)\n",
      "Requirement already satisfied: nbclient<0.6.0,>=0.5.0 in /Users/liesbeth_bogaert/opt/anaconda3/lib/python3.9/site-packages (from nbconvert>=6.4.4->jupyter-server->advent-of-code-data[nb]) (0.5.13)\n",
      "Requirement already satisfied: MarkupSafe>=2.0 in /Users/liesbeth_bogaert/opt/anaconda3/lib/python3.9/site-packages (from jinja2->jupyter-server->advent-of-code-data[nb]) (2.0.1)\n",
      "Requirement already satisfied: fastjsonschema in /Users/liesbeth_bogaert/opt/anaconda3/lib/python3.9/site-packages (from nbformat>=5.2.0->jupyter-server->advent-of-code-data[nb]) (2.16.2)\n",
      "Requirement already satisfied: jsonschema>=2.6 in /Users/liesbeth_bogaert/opt/anaconda3/lib/python3.9/site-packages (from nbformat>=5.2.0->jupyter-server->advent-of-code-data[nb]) (4.16.0)\n",
      "Requirement already satisfied: ptyprocess>=0.5 in /Users/liesbeth_bogaert/opt/anaconda3/lib/python3.9/site-packages (from pexpect>4.3->IPython->advent-of-code-data[nb]) (0.7.0)\n",
      "Requirement already satisfied: wcwidth in /Users/liesbeth_bogaert/opt/anaconda3/lib/python3.9/site-packages (from prompt-toolkit!=3.0.0,!=3.0.1,<3.1.0,>=2.0.0->IPython->advent-of-code-data[nb]) (0.2.5)\n",
      "Requirement already satisfied: argon2-cffi-bindings in /Users/liesbeth_bogaert/opt/anaconda3/lib/python3.9/site-packages (from argon2-cffi->jupyter-server->advent-of-code-data[nb]) (21.2.0)\n",
      "Requirement already satisfied: pyparsing!=3.0.5,>=2.0.2 in /Users/liesbeth_bogaert/opt/anaconda3/lib/python3.9/site-packages (from packaging->jupyter-server->advent-of-code-data[nb]) (3.0.9)\n",
      "Requirement already satisfied: six in /Users/liesbeth_bogaert/opt/anaconda3/lib/python3.9/site-packages (from websocket-client->jupyter-server->advent-of-code-data[nb]) (1.16.0)\n",
      "Requirement already satisfied: attrs>=17.4.0 in /Users/liesbeth_bogaert/opt/anaconda3/lib/python3.9/site-packages (from jsonschema>=2.6->nbformat>=5.2.0->jupyter-server->advent-of-code-data[nb]) (21.4.0)\n",
      "Requirement already satisfied: pyrsistent!=0.17.0,!=0.17.1,!=0.17.2,>=0.14.0 in /Users/liesbeth_bogaert/opt/anaconda3/lib/python3.9/site-packages (from jsonschema>=2.6->nbformat>=5.2.0->jupyter-server->advent-of-code-data[nb]) (0.18.0)\n",
      "Requirement already satisfied: cffi>=1.0.1 in /Users/liesbeth_bogaert/opt/anaconda3/lib/python3.9/site-packages (from argon2-cffi-bindings->argon2-cffi->jupyter-server->advent-of-code-data[nb]) (1.15.1)\n",
      "Requirement already satisfied: webencodings in /Users/liesbeth_bogaert/opt/anaconda3/lib/python3.9/site-packages (from bleach->nbconvert>=6.4.4->jupyter-server->advent-of-code-data[nb]) (0.5.1)\n",
      "Requirement already satisfied: pycparser in /Users/liesbeth_bogaert/opt/anaconda3/lib/python3.9/site-packages (from cffi>=1.0.1->argon2-cffi-bindings->argon2-cffi->jupyter-server->advent-of-code-data[nb]) (2.21)\n",
      "\n",
      "\u001b[1m[\u001b[0m\u001b[34;49mnotice\u001b[0m\u001b[1;39;49m]\u001b[0m\u001b[39;49m A new release of pip is available: \u001b[0m\u001b[31;49m23.2.1\u001b[0m\u001b[39;49m -> \u001b[0m\u001b[32;49m23.3.1\u001b[0m\n",
      "\u001b[1m[\u001b[0m\u001b[34;49mnotice\u001b[0m\u001b[1;39;49m]\u001b[0m\u001b[39;49m To update, run: \u001b[0m\u001b[32;49mpip install --upgrade pip\u001b[0m\n",
      "Note: you may need to restart the kernel to use updated packages.\n"
     ]
    }
   ],
   "source": [
    "pip install 'advent-of-code-data[nb]'"
   ]
  },
  {
   "cell_type": "code",
   "execution_count": 35,
   "id": "e224875e-97fe-48c0-98aa-e63fda1e45d8",
   "metadata": {},
   "outputs": [],
   "source": [
    "import pandas as pd\n",
    "import numpy as np\n",
    "import os\n",
    "from aocd import get_data\n",
    "\n",
    "import sys"
   ]
  },
  {
   "cell_type": "code",
   "execution_count": 110,
   "id": "73518be8-7778-48f1-b7af-53c21a865603",
   "metadata": {
    "tags": []
   },
   "outputs": [],
   "source": [
    "puzzle = get_data(day=1, year=2023)\n",
    "\n",
    "file = \"/Users/liesbeth_bogaert/Documents/AoC/2023/input/input_day1.txt\"\n",
    "lines = open(file, \"w\").write(puzzle)\n",
    "\n",
    "puzzle = puzzle.splitlines()\n",
    "#print(puzzle)"
   ]
  },
  {
   "cell_type": "code",
   "execution_count": 92,
   "id": "7fa50d95-2ca3-453d-b6a7-c61ea16be3f8",
   "metadata": {
    "tags": []
   },
   "outputs": [
    {
     "name": "stdout",
     "output_type": "stream",
     "text": [
      "54708\n"
     ]
    }
   ],
   "source": [
    "#Part 1\n",
    "\n",
    "total = 0\n",
    "for line in puzzle:\n",
    "    numbers = []\n",
    "    for i,c in enumerate(line):\n",
    "        if c.isdigit():\n",
    "            numbers.append(c)\n",
    "    total += int(numbers[0]+numbers[-1])\n",
    "print(total)\n"
   ]
  },
  {
   "cell_type": "code",
   "execution_count": 109,
   "id": "0b5f6a54-591a-485d-bcfa-11e5406d2631",
   "metadata": {},
   "outputs": [
    {
     "name": "stdout",
     "output_type": "stream",
     "text": [
      "54087\n"
     ]
    }
   ],
   "source": [
    "#Part 2\n",
    "\n",
    "patterns = [(\"one\", \"o1e\"), (\"two\", \"t2o\"), (\"three\", \"t3e\"),\n",
    "            (\"four\", \"f4r\"), (\"five\", \"f5e\"), (\"six\", \"s6x\"),\n",
    "            (\"seven\", \"s7n\"), (\"eight\", \"e8t\"), (\"nine\", \"n9e\")]\n",
    "\n",
    "values = []\n",
    "for l in puzzle:\n",
    "    for p in patterns:\n",
    "        l = l.replace(*p)\n",
    "    ds = [d for d in l if d.isdigit()]\n",
    "    values.append(int(ds[0]+ds[-1]))\n",
    "        \n",
    "print(sum(values))\n"
   ]
  },
  {
   "cell_type": "markdown",
   "id": "efdc70b2-0bf1-46b1-a6b1-2a3e85a66179",
   "metadata": {},
   "source": [
    "ChatGPT version :p "
   ]
  },
  {
   "cell_type": "code",
   "execution_count": 93,
   "id": "fbc3518a-dc1a-4f31-8012-3733d98c9f75",
   "metadata": {},
   "outputs": [
    {
     "name": "stdout",
     "output_type": "stream",
     "text": [
      "Sum of all calibration values: 54708\n"
     ]
    }
   ],
   "source": [
    "def calculate_calibration_sum(calibration_document):\n",
    "    total_sum = 0\n",
    "\n",
    "    # Iterate through each line in the calibration document\n",
    "    for line in calibration_document:\n",
    "        # Find the first and last digits in the line\n",
    "        first_digit = int(next(char for char in line if char.isdigit()))\n",
    "        last_digit = int(next(char for char in reversed(line) if char.isdigit()))\n",
    "\n",
    "        # Combine the first and last digits to form a two-digit number\n",
    "        calibration_value = int(str(first_digit) + str(last_digit))\n",
    "\n",
    "        # Add the calibration value to the total sum\n",
    "        total_sum += calibration_value\n",
    "\n",
    "    return total_sum\n",
    "\n",
    "# Example calibration document\n",
    "calibration_document = [\n",
    "    \"1abc2\",\n",
    "    \"pqr3stu8vwx\",\n",
    "    \"a1b2c3d4e5f\",\n",
    "    \"treb7uchet\"\n",
    "]\n",
    "\n",
    "# Calculate the sum of all calibration values\n",
    "result = calculate_calibration_sum(puzzle)\n",
    "\n",
    "# Print the result\n",
    "print(\"Sum of all calibration values:\", result)"
   ]
  },
  {
   "cell_type": "code",
   "execution_count": 98,
   "id": "deb01376-ac07-427c-b4c9-a10c50ed0b2b",
   "metadata": {},
   "outputs": [
    {
     "ename": "IndexError",
     "evalue": "list index out of range",
     "output_type": "error",
     "traceback": [
      "\u001b[0;31m---------------------------------------------------------------------------\u001b[0m",
      "\u001b[0;31mIndexError\u001b[0m                                Traceback (most recent call last)",
      "\u001b[0;32m/var/folders/n7/by5_7qbs0n53yz1t4gspd0xw0000gp/T/ipykernel_54001/663176487.py\u001b[0m in \u001b[0;36m<module>\u001b[0;34m\u001b[0m\n\u001b[1;32m     45\u001b[0m \u001b[0;34m\u001b[0m\u001b[0m\n\u001b[1;32m     46\u001b[0m \u001b[0;31m# Calculate the sum of all calibration values\u001b[0m\u001b[0;34m\u001b[0m\u001b[0;34m\u001b[0m\u001b[0m\n\u001b[0;32m---> 47\u001b[0;31m \u001b[0mresult\u001b[0m \u001b[0;34m=\u001b[0m \u001b[0mcalculate_calibration_sum\u001b[0m\u001b[0;34m(\u001b[0m\u001b[0mpuzzle\u001b[0m\u001b[0;34m)\u001b[0m\u001b[0;34m\u001b[0m\u001b[0;34m\u001b[0m\u001b[0m\n\u001b[0m\u001b[1;32m     48\u001b[0m \u001b[0;34m\u001b[0m\u001b[0m\n\u001b[1;32m     49\u001b[0m \u001b[0;31m# Print the result\u001b[0m\u001b[0;34m\u001b[0m\u001b[0;34m\u001b[0m\u001b[0m\n",
      "\u001b[0;32m/var/folders/n7/by5_7qbs0n53yz1t4gspd0xw0000gp/T/ipykernel_54001/663176487.py\u001b[0m in \u001b[0;36mcalculate_calibration_sum\u001b[0;34m(calibration_document)\u001b[0m\n\u001b[1;32m     26\u001b[0m \u001b[0;34m\u001b[0m\u001b[0m\n\u001b[1;32m     27\u001b[0m         \u001b[0;31m# Combine the first and last digits to form a two-digit number\u001b[0m\u001b[0;34m\u001b[0m\u001b[0;34m\u001b[0m\u001b[0m\n\u001b[0;32m---> 28\u001b[0;31m         \u001b[0mcalibration_value\u001b[0m \u001b[0;34m=\u001b[0m \u001b[0mint\u001b[0m\u001b[0;34m(\u001b[0m\u001b[0mnumeric_digits\u001b[0m\u001b[0;34m[\u001b[0m\u001b[0;36m0\u001b[0m\u001b[0;34m]\u001b[0m \u001b[0;34m+\u001b[0m \u001b[0mnumeric_digits\u001b[0m\u001b[0;34m[\u001b[0m\u001b[0;34m-\u001b[0m\u001b[0;36m1\u001b[0m\u001b[0;34m]\u001b[0m\u001b[0;34m)\u001b[0m\u001b[0;34m\u001b[0m\u001b[0;34m\u001b[0m\u001b[0m\n\u001b[0m\u001b[1;32m     29\u001b[0m \u001b[0;34m\u001b[0m\u001b[0m\n\u001b[1;32m     30\u001b[0m         \u001b[0;31m# Add the calibration value to the total sum\u001b[0m\u001b[0;34m\u001b[0m\u001b[0;34m\u001b[0m\u001b[0m\n",
      "\u001b[0;31mIndexError\u001b[0m: list index out of range"
     ]
    }
   ],
   "source": [
    "import re\n",
    "\n",
    "def calculate_calibration_sum(calibration_document):\n",
    "    total_sum = 0\n",
    "\n",
    "    # Define a dictionary to map spelled-out digits to numeric values\n",
    "    digit_mapping = {\n",
    "        'one': '1',\n",
    "        'two': '2',\n",
    "        'three': '3',\n",
    "        'four': '4',\n",
    "        'five': '5',\n",
    "        'six': '6',\n",
    "        'seven': '7',\n",
    "        'eight': '8',\n",
    "        'nine': '9'\n",
    "    }\n",
    "\n",
    "    # Iterate through each line in the calibration document\n",
    "    for line in calibration_document:\n",
    "        # Use regular expression to find spelled-out digits in the line\n",
    "        matches = re.findall(r'\\b(?:' + '|'.join(digit_mapping.keys()) + r')\\b', line)\n",
    "\n",
    "        # Extract the numeric values of the spelled-out digits\n",
    "        numeric_digits = [digit_mapping[match] for match in matches]\n",
    "\n",
    "        # Combine the first and last digits to form a two-digit number\n",
    "        calibration_value = int(numeric_digits[0] + numeric_digits[-1])\n",
    "\n",
    "        # Add the calibration value to the total sum\n",
    "        total_sum += calibration_value\n",
    "\n",
    "    return total_sum\n",
    "\n",
    "# Example calibration document\n",
    "calibration_document = [\n",
    "    \"two1nine\",\n",
    "    \"eightwothree\",\n",
    "    \"abcone2threexyz\",\n",
    "    \"xtwone3four\",\n",
    "    \"4nineeightseven2\",\n",
    "    \"zoneight234\",\n",
    "    \"7pqrstsixteen\"\n",
    "]\n",
    "\n",
    "# Calculate the sum of all calibration values\n",
    "result = calculate_calibration_sum(puzzle)\n",
    "\n",
    "# Print the result\n",
    "print(\"Sum of all calibration values:\", result)\n"
   ]
  },
  {
   "cell_type": "code",
   "execution_count": null,
   "id": "26f60efc-ae81-40a4-adbf-4ecdf4aa91fe",
   "metadata": {},
   "outputs": [],
   "source": []
  }
 ],
 "metadata": {
  "kernelspec": {
   "display_name": "Python 3 (ipykernel)",
   "language": "python",
   "name": "python3"
  },
  "language_info": {
   "codemirror_mode": {
    "name": "ipython",
    "version": 3
   },
   "file_extension": ".py",
   "mimetype": "text/x-python",
   "name": "python",
   "nbconvert_exporter": "python",
   "pygments_lexer": "ipython3",
   "version": "3.9.13"
  }
 },
 "nbformat": 4,
 "nbformat_minor": 5
}
