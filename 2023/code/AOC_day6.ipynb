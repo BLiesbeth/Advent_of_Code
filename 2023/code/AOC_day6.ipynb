{
 "cells": [
  {
   "cell_type": "code",
   "execution_count": 1,
   "id": "cdf4fd56-2f83-4c28-ad1f-0e2e4b355bac",
   "metadata": {},
   "outputs": [],
   "source": [
    "import pandas as pd\n",
    "import numpy as np\n",
    "import os\n",
    "from aocd import get_data\n",
    "\n",
    "import sys\n",
    "from collections import defaultdict"
   ]
  },
  {
   "cell_type": "code",
   "execution_count": 3,
   "id": "27afb017-101c-4ae9-a66e-3c0674e44369",
   "metadata": {},
   "outputs": [
    {
     "name": "stdout",
     "output_type": "stream",
     "text": [
      "['Time:        62     73     75     65', 'Distance:   644   1023   1240   1023']\n"
     ]
    }
   ],
   "source": [
    "puzzle = get_data(day=6, year=2023)\n",
    "\n",
    "file = \"/Users/liesbeth_bogaert/Documents/AoC/2023/input/input_day6.txt\"\n",
    "lines = open(file, \"w\").write(puzzle)\n",
    "\n",
    "puzzle = puzzle.splitlines()\n",
    "print(puzzle)"
   ]
  },
  {
   "cell_type": "markdown",
   "id": "cd99739a-565d-4fb5-b732-0489b3dc7a9a",
   "metadata": {},
   "source": [
    "Part 2"
   ]
  },
  {
   "cell_type": "code",
   "execution_count": null,
   "id": "cb4ba2d4-3827-43fe-b93b-535cad07eb19",
   "metadata": {},
   "outputs": [
    {
     "name": "stdout",
     "output_type": "stream",
     "text": [
      "[62, 73, 75, 65]\n",
      "[644, 1023, 1240, 1023]\n"
     ]
    }
   ],
   "source": [
    "times = [int(x) for x in puzzle[0].split(\":\")[1].split(\" \") if len(x)]\n",
    "distances = [int(x) for x in puzzle[1].split(\":\")[1].split(\" \") if len(x)]\n",
    "\n",
    "print(times)\n",
    "print(distances)"
   ]
  },
  {
   "cell_type": "code",
   "execution_count": 15,
   "id": "d125ecc4-5dcb-49c2-8358-9a058b2318d6",
   "metadata": {},
   "outputs": [
    {
     "name": "stdout",
     "output_type": "stream",
     "text": [
      "393120\n"
     ]
    }
   ],
   "source": [
    "total = 1\n",
    "for time, distance in zip(times, distances):\n",
    "    wins = 0\n",
    "    for i in range(time):\n",
    "        if i * (time-i) > distance:\n",
    "            wins += 1\n",
    "    total *= wins\n",
    "\n",
    "print(total)"
   ]
  },
  {
   "cell_type": "markdown",
   "id": "6558e461-c7ab-4c0d-b42d-36c8ccf12234",
   "metadata": {},
   "source": [
    "Part 2"
   ]
  },
  {
   "cell_type": "code",
   "execution_count": 24,
   "id": "128edf44-2caa-4d1b-8764-8ab6ba5dbffa",
   "metadata": {},
   "outputs": [],
   "source": [
    "# OLD version\n",
    "\n",
    "total_time = ''\n",
    "for time in times:\n",
    "    total_time += str(time)\n",
    "total_time = int(total_time)\n",
    "\n",
    "total_distance = ''\n",
    "for distance in distances:\n",
    "    total_distance += str(distance)\n",
    "total_distance = int(total_distance)\n"
   ]
  },
  {
   "cell_type": "code",
   "execution_count": 25,
   "id": "c1c551e8-5ec2-4fb5-b1ec-82f10fcff16c",
   "metadata": {},
   "outputs": [
    {
     "name": "stdout",
     "output_type": "stream",
     "text": [
      "62737565\n",
      "644102312401023\n"
     ]
    }
   ],
   "source": [
    "# Clean version\n",
    "\n",
    "total_time = int(puzzle[0].split(\":\")[1].replace(\" \", \"\"))\n",
    "total_distance = int(puzzle[1].split(\":\")[1].replace(\" \", \"\"))\n",
    "\n",
    "print(total_time)\n",
    "print(total_distance)"
   ]
  },
  {
   "cell_type": "code",
   "execution_count": 23,
   "id": "eab05fa6-58a6-49a5-93e1-c1e1538e52af",
   "metadata": {},
   "outputs": [
    {
     "name": "stdout",
     "output_type": "stream",
     "text": [
      "36872656\n"
     ]
    }
   ],
   "source": [
    "wins = 0\n",
    "for i in range(total_time):\n",
    "    if i * (total_time-i) > total_distance:\n",
    "        wins += 1\n",
    "print(wins)\n",
    "\n"
   ]
  },
  {
   "cell_type": "code",
   "execution_count": null,
   "id": "5437ccce-d189-4b85-844c-55ded9ad2525",
   "metadata": {},
   "outputs": [],
   "source": []
  }
 ],
 "metadata": {
  "kernelspec": {
   "display_name": "Python 3 (ipykernel)",
   "language": "python",
   "name": "python3"
  },
  "language_info": {
   "codemirror_mode": {
    "name": "ipython",
    "version": 3
   },
   "file_extension": ".py",
   "mimetype": "text/x-python",
   "name": "python",
   "nbconvert_exporter": "python",
   "pygments_lexer": "ipython3",
   "version": "3.9.13"
  }
 },
 "nbformat": 4,
 "nbformat_minor": 5
}
