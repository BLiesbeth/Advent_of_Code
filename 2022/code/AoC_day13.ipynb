{
 "cells": [
  {
   "cell_type": "code",
   "execution_count": null,
   "id": "26451476",
   "metadata": {},
   "outputs": [],
   "source": [
    "from functools import cmp_to_key"
   ]
  },
  {
   "cell_type": "code",
   "execution_count": null,
   "id": "97714efc",
   "metadata": {},
   "outputs": [],
   "source": [
    "file = \"/Users/liesbeth_bogaert/Documents/AoC/2022/input/input_day13.txt\""
   ]
  },
  {
   "cell_type": "code",
   "execution_count": null,
   "id": "ac8fb1be",
   "metadata": {},
   "outputs": [],
   "source": [
    "lines = open(file).read().strip().splitlines()\n",
    "#print(lines)"
   ]
  },
  {
   "cell_type": "code",
   "execution_count": null,
   "id": "3c9041df",
   "metadata": {},
   "outputs": [],
   "source": [
    "test = \"/Users/liesbeth_bogaert/Documents/AoC/2022/input/input_day13_example.txt\"\n",
    "#lines = open(test).read().strip().splitlines()\n",
    "#print(test)"
   ]
  },
  {
   "cell_type": "code",
   "execution_count": null,
   "id": "8b3efd2d",
   "metadata": {},
   "outputs": [],
   "source": [
    "def compare(a, b):\n",
    "    if isinstance(a, int) and isinstance(b, int):\n",
    "        return int(a) - int(b) \n",
    "    \n",
    "    elif isinstance(a, list) and isinstance(b, list):\n",
    "        for x, y in zip(a, b):\n",
    "            c = compare(x, y)\n",
    "            if c == 0:\n",
    "                continue\n",
    "            return c\n",
    "        return len(a) - len(b)\n",
    "    \n",
    "    elif isinstance(a, int) and isinstance(b, list):\n",
    "        return compare([a], b)\n",
    "    \n",
    "    else:\n",
    "        return compare(a, [b])"
   ]
  },
  {
   "cell_type": "code",
   "execution_count": null,
   "id": "cf456923",
   "metadata": {},
   "outputs": [],
   "source": [
    "#part1\n",
    "\n",
    "sum = 0\n",
    "index = 0\n",
    "\n",
    "for i in range(0, len(lines), 3):\n",
    "    l1 = eval(lines[i])\n",
    "    l2 = eval(lines[i+1])\n",
    "    index += 1\n",
    "    if compare(l1, l2) < 0:\n",
    "        sum += index\n",
    "\n",
    "print(sum)"
   ]
  },
  {
   "cell_type": "code",
   "execution_count": null,
   "id": "304ba769",
   "metadata": {},
   "outputs": [],
   "source": [
    "#part2\n",
    "\n",
    "signals = []\n",
    "for line in lines:\n",
    "    if line == '':\n",
    "        continue\n",
    "    else:\n",
    "        signals.append(eval(line))\n",
    "signals.append([[2]])\n",
    "signals.append([[6]])\n",
    "#print(signals)\n",
    "\n",
    "sortedsignals = sorted(signals, key=cmp_to_key(compare))\n",
    "#print(sortedsignals)\n",
    "\n",
    "print((1+sortedsignals.index([[2]])) * (1+sortedsignals.index([[6]])))"
   ]
  }
 ],
 "metadata": {
  "kernelspec": {
   "display_name": "Python 3 (ipykernel)",
   "language": "python",
   "name": "python3"
  },
  "language_info": {
   "codemirror_mode": {
    "name": "ipython",
    "version": 3
   },
   "file_extension": ".py",
   "mimetype": "text/x-python",
   "name": "python",
   "nbconvert_exporter": "python",
   "pygments_lexer": "ipython3",
   "version": "3.9.13"
  }
 },
 "nbformat": 4,
 "nbformat_minor": 5
}
