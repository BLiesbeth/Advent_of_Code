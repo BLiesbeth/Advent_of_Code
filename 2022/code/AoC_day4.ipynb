{
 "cells": [
  {
   "cell_type": "code",
   "execution_count": null,
   "id": "ce668544",
   "metadata": {},
   "outputs": [],
   "source": [
    "import pandas as pd\n",
    "import numpy as np"
   ]
  },
  {
   "cell_type": "code",
   "execution_count": null,
   "id": "79fb80c3",
   "metadata": {},
   "outputs": [],
   "source": [
    "file = \"/Users/liesbeth_bogaert/Documents/AoC/2022/input/input_day4.txt\""
   ]
  },
  {
   "cell_type": "code",
   "execution_count": null,
   "id": "f86cc96d",
   "metadata": {},
   "outputs": [],
   "source": [
    "lines = open(file).read().splitlines()\n",
    "#print(lines)"
   ]
  },
  {
   "cell_type": "code",
   "execution_count": null,
   "id": "344c9e06",
   "metadata": {},
   "outputs": [],
   "source": [
    "df = pd.DataFrame(lines, columns=['input'])\n",
    "df[['first','second']] = df['input'].str.split(',',expand=True)\n",
    "df[['f1', 'f2']] = df['first'].str.split('-',expand=True).astype('int')\n",
    "df[['s1', 's2']] = df['second'].str.split('-',expand=True).astype('int')\n",
    "\n",
    "print(df)"
   ]
  },
  {
   "cell_type": "code",
   "execution_count": null,
   "id": "c57c6252",
   "metadata": {},
   "outputs": [],
   "source": [
    "for i, row in df.iterrows():\n",
    "    if row.f1 <= row.s1 and row.s2 <= row.f2: #first pair in second\n",
    "        df.at[i,'in'] = 1\n",
    "    elif row.s1 <= row.f1 and row.f2 <= row.s2: #second pair in first\n",
    "        df.at[i,'in'] = 1\n",
    "    else:\n",
    "        df.at[i,'in'] = 0\n",
    "    \n",
    "    if row.s1 <= row.f1 <= row.s2 or row.f1 <= row.s1 <= row.f2:\n",
    "        df.at[i,'over'] = 1\n",
    "    else:\n",
    "        df.at[i,'over'] = 0\n",
    "        \n",
    "print(df)"
   ]
  },
  {
   "cell_type": "code",
   "execution_count": null,
   "id": "66e4fd7e",
   "metadata": {},
   "outputs": [],
   "source": [
    "df['in'].value_counts()"
   ]
  },
  {
   "cell_type": "code",
   "execution_count": null,
   "id": "2325aab8",
   "metadata": {},
   "outputs": [],
   "source": [
    "df['over'].value_counts()"
   ]
  }
 ],
 "metadata": {
  "kernelspec": {
   "display_name": "Python 3 (ipykernel)",
   "language": "python",
   "name": "python3"
  },
  "language_info": {
   "codemirror_mode": {
    "name": "ipython",
    "version": 3
   },
   "file_extension": ".py",
   "mimetype": "text/x-python",
   "name": "python",
   "nbconvert_exporter": "python",
   "pygments_lexer": "ipython3",
   "version": "3.9.13"
  }
 },
 "nbformat": 4,
 "nbformat_minor": 5
}
