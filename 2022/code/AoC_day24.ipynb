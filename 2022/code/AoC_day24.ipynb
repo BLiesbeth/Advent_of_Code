{
 "cells": [
  {
   "cell_type": "code",
   "execution_count": 16,
   "id": "6b28754b",
   "metadata": {},
   "outputs": [],
   "source": [
    "file = \"/Users/liesbeth_bogaert/Documents/AoC/2022/input/input_day24.txt\""
   ]
  },
  {
   "cell_type": "code",
   "execution_count": 17,
   "id": "73856ced",
   "metadata": {},
   "outputs": [],
   "source": [
    "lines = open(file).read().splitlines()\n",
    "#print(lines)"
   ]
  },
  {
   "cell_type": "code",
   "execution_count": 6,
   "id": "bd110644",
   "metadata": {},
   "outputs": [],
   "source": [
    "start = (0, 0)\n",
    "end = (0, 0)\n",
    "board = []\n",
    "\n",
    "for line in lines:\n",
    "    line = line.strip()\n",
    "    b = []\n",
    "    for c in line:\n",
    "        b.append(c)\n",
    "    board.append(b)\n",
    "\n",
    "for (i, c) in enumerate(board[0]):\n",
    "    if c == \".\":\n",
    "        start = (0, i)\n",
    "\n",
    "for (i, c) in enumerate(board[-1]):\n",
    "    if c == \".\":\n",
    "        end = (len(board) - 1, i)\n",
    "\n",
    "blizzards = []\n",
    "walls = set()\n",
    "\n",
    "for (i, row) in enumerate(board):\n",
    "    for (j, cell) in enumerate(row):\n",
    "        if cell in [\">\", \"<\", \"v\", \"^\"]:\n",
    "            blizzards.append((cell, (i, j)))\n",
    "        elif cell == \"#\":\n",
    "            walls.add((i, j))\n",
    "walls.add((-1, start[1]))\n",
    "walls.add((end[0] + 1, end[1]))\n"
   ]
  },
  {
   "cell_type": "code",
   "execution_count": 12,
   "id": "8886ed97",
   "metadata": {},
   "outputs": [],
   "source": [
    "def part_one(board, start, end, blizzards, walls):\n",
    "    blizz = blizzards\n",
    "\n",
    "    def get_blizzards():\n",
    "        new_blizzards = []\n",
    "        for b in blizz:\n",
    "            pos = b[1]\n",
    "            if b[0] == \">\":\n",
    "                pos = (pos[0], pos[1] + 1)\n",
    "            elif b[0] == \"<\":\n",
    "                pos = (pos[0], pos[1] - 1)\n",
    "            elif b[0] == \"^\":\n",
    "                pos = (pos[0] - 1, pos[1])\n",
    "            elif b[0] == \"v\":\n",
    "                pos = (pos[0] + 1, pos[1])\n",
    "\n",
    "            if pos in walls:\n",
    "                if b[0] ==  \">\":\n",
    "                    pos = (pos[0], 1)\n",
    "                elif b[0] == \"<\":\n",
    "                    pos = (pos[0], len(board[0]) - 2)\n",
    "                elif b[0] == \"^\":\n",
    "                    pos = (len(board) - 2, pos[1])\n",
    "                elif b[0] == \"v\":\n",
    "                        pos = (1, pos[1])\n",
    "\n",
    "            new_blizzards.append((b[0], pos))\n",
    "        return new_blizzards\n",
    "\n",
    "    states = {start}\n",
    "    time = 0\n",
    "    while end not in states:\n",
    "        time += 1\n",
    "\n",
    "        new_states = set()\n",
    "        blizz = get_blizzards()\n",
    "        blizzard_set = set(b for (_, b) in blizz)\n",
    "        for curr in states:\n",
    "            pot = {\n",
    "                (curr[0] + dy, curr[1] + dx)\n",
    "                for (dy, dx) in [(0, 1), (0, -1), (1, 0), (-1, 0), (0, 0)]\n",
    "            }\n",
    "            new_states |= pot - blizzard_set - walls\n",
    "\n",
    "        states = new_states\n",
    "\n",
    "    return (time, blizz)"
   ]
  },
  {
   "cell_type": "code",
   "execution_count": 13,
   "id": "de527736",
   "metadata": {},
   "outputs": [],
   "source": [
    "def part_two(board, start, end, blizzards, walls):\n",
    "    (a, blizzards) = part_one(board, start, end, blizzards, walls)\n",
    "    (b, blizzards) = part_one(board, end, start, blizzards, walls)\n",
    "    (c, blizzards) = part_one(board, start, end, blizzards, walls)\n",
    "\n",
    "    return a + b + c\n"
   ]
  },
  {
   "cell_type": "code",
   "execution_count": 20,
   "id": "8cacc221",
   "metadata": {},
   "outputs": [
    {
     "name": "stdout",
     "output_type": "stream",
     "text": [
      "277\n"
     ]
    }
   ],
   "source": [
    "answer = part_one(board, start, end, blizzards, walls)\n",
    "print(answer[0])"
   ]
  },
  {
   "cell_type": "code",
   "execution_count": 21,
   "id": "7ef247e5",
   "metadata": {},
   "outputs": [
    {
     "name": "stdout",
     "output_type": "stream",
     "text": [
      "877\n"
     ]
    }
   ],
   "source": [
    "answer = part_two(board, start, end, blizzards, walls)\n",
    "print(answer)\n"
   ]
  }
 ],
 "metadata": {
  "kernelspec": {
   "display_name": "Python 3 (ipykernel)",
   "language": "python",
   "name": "python3"
  },
  "language_info": {
   "codemirror_mode": {
    "name": "ipython",
    "version": 3
   },
   "file_extension": ".py",
   "mimetype": "text/x-python",
   "name": "python",
   "nbconvert_exporter": "python",
   "pygments_lexer": "ipython3",
   "version": "3.9.13"
  }
 },
 "nbformat": 4,
 "nbformat_minor": 5
}
