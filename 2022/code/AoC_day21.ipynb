{
 "cells": [
  {
   "cell_type": "code",
   "execution_count": 2,
   "id": "0e8dcfed",
   "metadata": {},
   "outputs": [],
   "source": [
    "file = \"/Users/liesbeth_bogaert/Documents/AoC/2022/input/input_day21.txt\""
   ]
  },
  {
   "cell_type": "code",
   "execution_count": 3,
   "id": "7685c720",
   "metadata": {},
   "outputs": [],
   "source": [
    "lines = open(file).read().strip().splitlines()\n",
    "#print(lines)"
   ]
  },
  {
   "cell_type": "code",
   "execution_count": 4,
   "id": "2d2608e9",
   "metadata": {},
   "outputs": [],
   "source": [
    "monkeys = {}\n",
    "numbers = {}\n",
    "\n",
    "for line in lines:\n",
    "    l = line.replace(':', '').split(' ')\n",
    "    if len(l) == 2:\n",
    "        numbers[l[0]] = int(l[1])\n",
    "        monkeys[l[0]] = int(l[1])\n",
    "    else:\n",
    "        monkeys[l[0]] = l[1:]\n",
    "\n",
    "#print(monkeys)\n",
    "#print(numbers)"
   ]
  },
  {
   "cell_type": "code",
   "execution_count": 5,
   "id": "61e3d393",
   "metadata": {},
   "outputs": [],
   "source": [
    "operators = {'+': lambda a, b: a+b,\n",
    "             '-': lambda a, b: a-b,\n",
    "             '*': lambda a, b: a*b,\n",
    "             '/': lambda a, b: a/b}"
   ]
  },
  {
   "cell_type": "code",
   "execution_count": 6,
   "id": "f5eeb022",
   "metadata": {},
   "outputs": [
    {
     "name": "stdout",
     "output_type": "stream",
     "text": [
      "282285213953670\n"
     ]
    }
   ],
   "source": [
    " while 'root' not in numbers:\n",
    "        \n",
    "    for monkey, operation in monkeys.items():\n",
    "        if monkey in numbers:\n",
    "            continue\n",
    "            \n",
    "        a, task, b = operation[0], operation[1], operation[2]\n",
    "        \n",
    "        if (a in numbers) and (b in numbers):\n",
    "            result = operators[task](numbers[a], numbers[b])\n",
    "            numbers[monkey] = result\n",
    "\n",
    "solution = int(numbers['root'])\n",
    "print(solution)"
   ]
  },
  {
   "cell_type": "markdown",
   "id": "1cf1f033",
   "metadata": {},
   "source": [
    "Part2"
   ]
  },
  {
   "cell_type": "code",
   "execution_count": 53,
   "id": "726ba247",
   "metadata": {},
   "outputs": [],
   "source": [
    "monkeys = {}\n",
    "numbers = {}\n",
    "\n",
    "for line in lines:\n",
    "    l = line.replace(':', '').split(' ')\n",
    "    if len(l) == 2:\n",
    "        numbers[l[0]] = int(l[1])\n",
    "        monkeys[l[0]] = int(l[1])\n",
    "    else:\n",
    "        monkeys[l[0]] = l[1:]\n",
    "\n",
    "#print(monkeys)\n",
    "#print(numbers)"
   ]
  },
  {
   "cell_type": "code",
   "execution_count": 52,
   "id": "9ec16ef9",
   "metadata": {},
   "outputs": [
    {
     "name": "stdout",
     "output_type": "stream",
     "text": [
      "['fzvp', '+', 'grlb']\n",
      "409\n"
     ]
    }
   ],
   "source": [
    "print(monkeys['root'])\n",
    "print(monkeys['humn'])"
   ]
  },
  {
   "cell_type": "code",
   "execution_count": 54,
   "id": "b5fb36cd",
   "metadata": {},
   "outputs": [],
   "source": [
    "def solve_monkeys(target):\n",
    "    while target not in numbers:\n",
    "        \n",
    "        for monkey, operation in monkeys.items():\n",
    "            if monkey in numbers:\n",
    "                continue\n",
    "            a, task, b = operation[0], operation[1], operation[2]\n",
    "\n",
    "            if (a in numbers) and (b in numbers):\n",
    "                aa = numbers[a]\n",
    "                bb = numbers[b]\n",
    "                if aa is None or bb is None:\n",
    "                    result = None\n",
    "                else:\n",
    "                    result = operators[task](numbers[a], numbers[b])\n",
    "                numbers[monkey] = result"
   ]
  },
  {
   "cell_type": "code",
   "execution_count": 55,
   "id": "adf7073b",
   "metadata": {},
   "outputs": [],
   "source": [
    "reverse_operators = {\n",
    "    ('+', True): lambda a, b: a - b,\n",
    "    ('-', True): lambda a, b: a + b,\n",
    "    ('*', True): lambda a, b: a / b,\n",
    "    ('/', True): lambda a, b: a * b,\n",
    "\n",
    "    ('+', False): lambda a, b: a - b,\n",
    "    ('-', False): lambda a, b: b - a,\n",
    "    ('*', False): lambda a, b: a / b,\n",
    "    ('/', False): lambda a, b: b / a,\n",
    "}"
   ]
  },
  {
   "cell_type": "code",
   "execution_count": 56,
   "id": "b1079c3d",
   "metadata": {},
   "outputs": [],
   "source": [
    "numbers['humn'] = None\n",
    "first, op, second = monkeys['root']\n",
    "\n",
    "solve_monkeys(first)\n",
    "solve_monkeys(second)\n",
    "\n",
    "if numbers[first] is None:\n",
    "    target = first\n",
    "    current = numbers[second]\n",
    "else:\n",
    "    target = second\n",
    "    current = numbers[first]"
   ]
  },
  {
   "cell_type": "code",
   "execution_count": 57,
   "id": "da5c21e5",
   "metadata": {},
   "outputs": [
    {
     "name": "stdout",
     "output_type": "stream",
     "text": [
      "3699945358564\n"
     ]
    }
   ],
   "source": [
    "while target != 'humn':\n",
    "    a, op, b = monkeys[target]\n",
    "\n",
    "    if numbers[a] is None:\n",
    "        target = a\n",
    "        current = reverse_operators[(op, True)](current, numbers[b])\n",
    "    if numbers[b] is None:\n",
    "        target = b\n",
    "        current = reverse_operators[(op, False)](current, numbers[a])\n",
    "    #print(target, current)\n",
    "\n",
    "solution = int(current)\n",
    "print(solution)"
   ]
  },
  {
   "cell_type": "code",
   "execution_count": null,
   "id": "93bba6ea",
   "metadata": {},
   "outputs": [],
   "source": []
  }
 ],
 "metadata": {
  "kernelspec": {
   "display_name": "Python 3 (ipykernel)",
   "language": "python",
   "name": "python3"
  },
  "language_info": {
   "codemirror_mode": {
    "name": "ipython",
    "version": 3
   },
   "file_extension": ".py",
   "mimetype": "text/x-python",
   "name": "python",
   "nbconvert_exporter": "python",
   "pygments_lexer": "ipython3",
   "version": "3.9.13"
  }
 },
 "nbformat": 4,
 "nbformat_minor": 5
}
