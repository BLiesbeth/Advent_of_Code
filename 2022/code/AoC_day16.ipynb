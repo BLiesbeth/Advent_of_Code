{
 "cells": [
  {
   "cell_type": "code",
   "execution_count": 1,
   "id": "1cd91555",
   "metadata": {},
   "outputs": [],
   "source": [
    "file = \"/Users/liesbeth_bogaert/Documents/AoC/2022/input/input_day16.txt\""
   ]
  },
  {
   "cell_type": "code",
   "execution_count": 2,
   "id": "ccea4814",
   "metadata": {},
   "outputs": [],
   "source": [
    "lines = open(file).read().strip().splitlines()\n",
    "#print(lines)"
   ]
  },
  {
   "cell_type": "code",
   "execution_count": 3,
   "id": "c3f024b8",
   "metadata": {},
   "outputs": [],
   "source": [
    "#file = \"/Users/liesbeth_bogaert/Documents/AoC/2022/input/input_day16_example.txt\"\n",
    "#lines = open(file).read().strip().splitlines()\n",
    "#print(lines)"
   ]
  },
  {
   "cell_type": "code",
   "execution_count": 4,
   "id": "b06de3fc",
   "metadata": {},
   "outputs": [],
   "source": [
    "valves = {}\n",
    "rates = {}\n",
    "\n",
    "for line in lines:\n",
    "    words = line.replace(';', '').replace(',', '').replace('=', ' ').split()\n",
    "    \n",
    "    current_valve = words[1]\n",
    "    rate = int(words[5])\n",
    "    other_valves = words[10:]\n",
    "    rates[current_valve] = rate\n",
    "    valves[current_valve] = other_valves\n",
    "\n",
    "#print(valves)\n",
    "#print(rates)"
   ]
  },
  {
   "cell_type": "code",
   "execution_count": 7,
   "id": "d40c050b",
   "metadata": {},
   "outputs": [
    {
     "name": "stdout",
     "output_type": "stream",
     "text": [
      "part 1: 1820\n"
     ]
    }
   ],
   "source": [
    "def find(valves, rates, start):\n",
    "    \n",
    "    solution = [(0, [start], set())]\n",
    "    for i in range(1, 31):\n",
    "        if i > 5:\n",
    "            solution.sort(reverse=True)\n",
    "            solution = solution[:3000]\n",
    "        newsolution = []\n",
    "        \n",
    "        for pressure, path, opened in solution:\n",
    "            loc = path[-1]\n",
    "\n",
    "            p = sum(rates[o] for o in opened)\n",
    "            pressure += p\n",
    "\n",
    "            for next_valve in valves[loc]:\n",
    "                newsolution.append((pressure, path + [next_valve], opened.copy()))\n",
    "\n",
    "            if rates[loc] > 0 and loc not in opened:\n",
    "                newsolution.append((pressure, path, opened | {loc}))\n",
    "\n",
    "        solution = newsolution\n",
    "    return max(solution)\n",
    "\n",
    "pressure, path, opened = find(valves, rates, \"AA\")\n",
    "print(\"part 1:\", pressure)"
   ]
  },
  {
   "cell_type": "code",
   "execution_count": null,
   "id": "b10b18c2",
   "metadata": {},
   "outputs": [],
   "source": [
    "def options(valves, rates, loc, path, opened):\n",
    "    options = []\n",
    "    for next_valve in valves[loc]:\n",
    "        options.append((path + [next_valve], opened.copy()))\n",
    "\n",
    "    if rates[loc] > 0 and loc not in opened:\n",
    "        options.append((path, opened | {loc}))\n",
    "\n",
    "    return options\n",
    "\n",
    "\n",
    "def find(valves, rates, start):\n",
    "    solution = [(0, ([start], [start]), set())]\n",
    "    \n",
    "    for i in range(1, 27):\n",
    "        if i > 5:\n",
    "            solution.sort(reverse=True)\n",
    "            solution = solution[:3000]\n",
    "        newsolution = []\n",
    "        \n",
    "        for pressure, paths, opened in solution:\n",
    "            explorer = paths[0][-1]\n",
    "            elephant = paths[1][-1]\n",
    "\n",
    "            p = sum(rates[o] for o in opened)\n",
    "            pressure += p\n",
    "\n",
    "            for px, opened_explorer in options(valves, rates, explorer, paths[0], opened):\n",
    "                for pl, opened_elephant in options(valves, rates, elephant, paths[1], opened_explorer):\n",
    "                    newsolution.append((pressure, [px, pl], opened_elephant))\n",
    "\n",
    "        solution = newsolution\n",
    "    return max(solution)\n",
    "\n",
    "\n",
    "pressure, path, opened, debug = find(valves, rates, \"AA\")\n",
    "print(\"part 2:\", pressure)"
   ]
  }
 ],
 "metadata": {
  "kernelspec": {
   "display_name": "Python 3 (ipykernel)",
   "language": "python",
   "name": "python3"
  },
  "language_info": {
   "codemirror_mode": {
    "name": "ipython",
    "version": 3
   },
   "file_extension": ".py",
   "mimetype": "text/x-python",
   "name": "python",
   "nbconvert_exporter": "python",
   "pygments_lexer": "ipython3",
   "version": "3.9.13"
  }
 },
 "nbformat": 4,
 "nbformat_minor": 5
}
