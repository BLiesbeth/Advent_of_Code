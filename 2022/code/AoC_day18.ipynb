{
 "cells": [
  {
   "cell_type": "code",
   "execution_count": null,
   "id": "0f0697cd",
   "metadata": {},
   "outputs": [],
   "source": [
    "file = \"/Users/liesbeth_bogaert/Documents/AoC/2022/input/input_day18.txt\""
   ]
  },
  {
   "cell_type": "code",
   "execution_count": null,
   "id": "a0b4ca32",
   "metadata": {},
   "outputs": [],
   "source": [
    "lines = open(file).read().strip().splitlines()\n",
    "#print(lines)"
   ]
  },
  {
   "cell_type": "code",
   "execution_count": null,
   "id": "9db6be34",
   "metadata": {},
   "outputs": [],
   "source": [
    "example =  ['2,2,2', '1,2,2', '3,2,2', '2,1,2', '2,3,2', '2,2,1', '2,2,3', '2,2,4', '2,2,6', '1,2,5', '3,2,5', '2,1,5', '2,3,5']"
   ]
  },
  {
   "cell_type": "code",
   "execution_count": null,
   "id": "0dc55d90",
   "metadata": {},
   "outputs": [],
   "source": [
    "def neighbour_cubes(cube):\n",
    "    x,y,z = cube\n",
    "    n = [(x+1,y,z),\n",
    "         (x-1,y,z), \n",
    "         (x,y+1,z), \n",
    "         (x,y-1,z), \n",
    "         (x,y,z+1), \n",
    "         (x,y,z-1)]\n",
    "    return n"
   ]
  },
  {
   "cell_type": "code",
   "execution_count": null,
   "id": "1fd5e549",
   "metadata": {},
   "outputs": [],
   "source": [
    "cubes = []\n",
    "for line in lines:\n",
    "    x, y ,z = eval(line)\n",
    "    cubes.append((int(x), int(y) ,int(z)))\n",
    "    \n",
    "edges = 0\n",
    "been_cubes = set()\n",
    "\n",
    "for cube in cubes:\n",
    "    edges += 6\n",
    "    for neighbour in neighbour_cubes(cube):\n",
    "        if neighbour in been_cubes:\n",
    "            edges -= 2\n",
    "    been_cubes.add(cube)\n",
    "        \n",
    "print(edges)"
   ]
  },
  {
   "cell_type": "code",
   "execution_count": null,
   "id": "7f7c4fef",
   "metadata": {},
   "outputs": [],
   "source": [
    "min_x = min(x for x,y,z in cubes)\n",
    "max_x = max(x for x,y,z in cubes)\n",
    "min_y = min(y for x,y,z in cubes)\n",
    "max_y = max(y for x,y,z in cubes)\n",
    "min_z = min(z for x,y,z in cubes)\n",
    "max_z = max(z for x,y,z in cubes)\n",
    "\n",
    "cube_min = (min_x-1, min_y-1, min_z-1)\n",
    "cube_max = (max_x+1, max_y+1, max_z+1)\n",
    "\n",
    "print(cube_min, cube_max)"
   ]
  },
  {
   "cell_type": "code",
   "execution_count": null,
   "id": "2be78c8d",
   "metadata": {},
   "outputs": [],
   "source": [
    "stack = [cube_min]\n",
    "been_cubes = set()\n",
    "\n",
    "edges2 = 0\n",
    "\n",
    "while stack:\n",
    "    cube = stack.pop()\n",
    "    if cube in been_cubes:\n",
    "        continue\n",
    "    been_cubes.add(cube)\n",
    "    \n",
    "    for neighbour in neighbour_cubes(cube):\n",
    "        if neighbour in cubes:\n",
    "            edges2 += 1\n",
    "        if neighbour not in cubes \n",
    "            and neighbour not in been_cubes \n",
    "            and all(a <= b <= c for a, b, c in zip(cube_min, neighbour, cube_max)):\n",
    "            stack.append(neighbour)\n",
    "\n",
    "print(edges2)"
   ]
  }
 ],
 "metadata": {
  "kernelspec": {
   "display_name": "Python 3 (ipykernel)",
   "language": "python",
   "name": "python3"
  },
  "language_info": {
   "codemirror_mode": {
    "name": "ipython",
    "version": 3
   },
   "file_extension": ".py",
   "mimetype": "text/x-python",
   "name": "python",
   "nbconvert_exporter": "python",
   "pygments_lexer": "ipython3",
   "version": "3.9.13"
  }
 },
 "nbformat": 4,
 "nbformat_minor": 5
}
