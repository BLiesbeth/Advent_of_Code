{
 "cells": [
  {
   "cell_type": "code",
   "execution_count": 1,
   "id": "c0ff5226",
   "metadata": {},
   "outputs": [],
   "source": [
    "from collections import defaultdict\n",
    "import math"
   ]
  },
  {
   "cell_type": "code",
   "execution_count": 2,
   "id": "9237fd5f",
   "metadata": {},
   "outputs": [],
   "source": [
    "file = \"/Users/liesbeth_bogaert/Documents/AoC/2022/input/input_day11.txt\""
   ]
  },
  {
   "cell_type": "code",
   "execution_count": 3,
   "id": "13350e62",
   "metadata": {},
   "outputs": [
    {
     "name": "stdout",
     "output_type": "stream",
     "text": [
      "['Monkey 0:', '  Starting items: 65, 78', '  Operation: new = old * 3', '  Test: divisible by 5', '    If true: throw to monkey 2', '    If false: throw to monkey 3', '', 'Monkey 1:', '  Starting items: 54, 78, 86, 79, 73, 64, 85, 88', '  Operation: new = old + 8', '  Test: divisible by 11', '    If true: throw to monkey 4', '    If false: throw to monkey 7', '', 'Monkey 2:', '  Starting items: 69, 97, 77, 88, 87', '  Operation: new = old + 2', '  Test: divisible by 2', '    If true: throw to monkey 5', '    If false: throw to monkey 3', '', 'Monkey 3:', '  Starting items: 99', '  Operation: new = old + 4', '  Test: divisible by 13', '    If true: throw to monkey 1', '    If false: throw to monkey 5', '', 'Monkey 4:', '  Starting items: 60, 57, 52', '  Operation: new = old * 19', '  Test: divisible by 7', '    If true: throw to monkey 7', '    If false: throw to monkey 6', '', 'Monkey 5:', '  Starting items: 91, 82, 85, 73, 84, 53', '  Operation: new = old + 5', '  Test: divisible by 3', '    If true: throw to monkey 4', '    If false: throw to monkey 1', '', 'Monkey 6:', '  Starting items: 88, 74, 68, 56', '  Operation: new = old * old', '  Test: divisible by 17', '    If true: throw to monkey 0', '    If false: throw to monkey 2', '', 'Monkey 7:', '  Starting items: 54, 82, 72, 71, 53, 99, 67', '  Operation: new = old + 1', '  Test: divisible by 19', '    If true: throw to monkey 6', '    If false: throw to monkey 0']\n"
     ]
    }
   ],
   "source": [
    "lines = open(file).read().strip().splitlines()\n",
    "print(lines)"
   ]
  },
  {
   "cell_type": "code",
   "execution_count": 4,
   "id": "e870821f",
   "metadata": {},
   "outputs": [],
   "source": [
    "test = \"/Users/liesbeth_bogaert/Documents/AoC/2022/input/input_day11_example.txt\"\n",
    "#lines = open(test).read().strip().splitlines()\n",
    "#print(test)"
   ]
  },
  {
   "cell_type": "code",
   "execution_count": 19,
   "id": "7193471d",
   "metadata": {},
   "outputs": [
    {
     "name": "stdout",
     "output_type": "stream",
     "text": [
      "[[65, 78], [54, 78, 86, 79, 73, 64, 85, 88], [69, 97, 77, 88, 87], [99], [60, 57, 52], [91, 82, 85, 73, 84, 53], [88, 74, 68, 56], [54, 82, 72, 71, 53, 99, 67]]\n",
      "[['*', '3'], ['+', '8'], ['+', '2'], ['+', '4'], ['*', '19'], ['+', '5'], ['*', 'old'], ['+', '1']]\n",
      "[5, 11, 2, 13, 7, 3, 17, 19]\n",
      "[2, 4, 5, 1, 7, 4, 0, 6]\n",
      "[3, 7, 3, 5, 6, 1, 2, 0]\n"
     ]
    }
   ],
   "source": [
    "monkeys = []\n",
    "operations = []\n",
    "test = []\n",
    "trues = []\n",
    "falses = []\n",
    "\n",
    "number = 0\n",
    "items = []\n",
    "\n",
    "for line in lines:\n",
    "    words = line.split()\n",
    "    words = list(map(str.strip, words))\n",
    "    #print(words)\n",
    "    \n",
    "    if len(words) != 0:\n",
    "        if words[0] == 'Monkey':\n",
    "            number = int(words[1].replace(':',''))\n",
    "        if words[0] == 'Starting':\n",
    "            items = [int(x.replace(',','')) for x in words[2:]]\n",
    "        if words[0] == 'Operation:':\n",
    "            operation = words[4:]\n",
    "        if words[0] == 'Test:':\n",
    "            test.append(int(words[3]))\n",
    "        if words[1] == 'true:':\n",
    "            trues.append(int(words[5]))\n",
    "        if words[1] == 'false:':\n",
    "            falses.append(int(words[5]))\n",
    "    else:\n",
    "        monkeys.append(items)\n",
    "        operations.append(operation)\n",
    "monkeys.append(items)\n",
    "operations.append(operation)\n",
    "            \n",
    "print(monkeys)\n",
    "print(operations)\n",
    "print(test)\n",
    "print(trues)\n",
    "print(falses)"
   ]
  },
  {
   "cell_type": "code",
   "execution_count": 20,
   "id": "b7c9164a",
   "metadata": {},
   "outputs": [
    {
     "name": "stdout",
     "output_type": "stream",
     "text": [
      "[[3736651, 6328500, 541290, 2609932, 2918236, 1094806, 8966861, 8966861, 4705655, 3530195, 4938424], [3736642, 541281, 5314801, 3598151, 3598151, 180416, 684410, 4705646, 3530186], [7670965, 7439184, 7439184, 2784336, 4427019, 1950426, 1950426], [], [6584925, 6584925, 5851335, 5851335, 3284427, 3284427, 839907, 6827301], [], [4075595], []]\n",
      "23612457316\n"
     ]
    }
   ],
   "source": [
    "part1 = False\n",
    "if part1:\n",
    "    rounds = 20\n",
    "else:\n",
    "    rounds = 10000\n",
    "\n",
    "inspected = defaultdict(int)\n",
    "mod = math.lcm(*test)\n",
    "\n",
    "for i in range(rounds):\n",
    "    for monkey in range(len(monkeys)):\n",
    "        op = operations[monkey]\n",
    "        for item in monkeys[monkey]:\n",
    "            inspected[monkey] += 1\n",
    "            if op[1] == 'old':\n",
    "                new = item * item\n",
    "            elif op[0] == '*':\n",
    "                new = item * int(op[1])\n",
    "            elif op[0] == '+':\n",
    "                new = item + int(op[1])\n",
    "                        \n",
    "            if part1:\n",
    "                new //= 3\n",
    "            else:\n",
    "                new %= mod\n",
    "    \n",
    "            if new % test[monkey] == 0:\n",
    "                monkeys[trues[monkey]].append(new)\n",
    "            else:\n",
    "                monkeys[falses[monkey]].append(new)\n",
    "        monkeys[monkey] = []\n",
    "\n",
    "print(monkeys)\n",
    "s = sorted(inspected.values())\n",
    "result = s[-2] * s[-1]\n",
    "print(result) "
   ]
  },
  {
   "cell_type": "code",
   "execution_count": null,
   "id": "3e0986fd",
   "metadata": {},
   "outputs": [],
   "source": []
  }
 ],
 "metadata": {
  "kernelspec": {
   "display_name": "Python 3 (ipykernel)",
   "language": "python",
   "name": "python3"
  },
  "language_info": {
   "codemirror_mode": {
    "name": "ipython",
    "version": 3
   },
   "file_extension": ".py",
   "mimetype": "text/x-python",
   "name": "python",
   "nbconvert_exporter": "python",
   "pygments_lexer": "ipython3",
   "version": "3.9.13"
  }
 },
 "nbformat": 4,
 "nbformat_minor": 5
}
