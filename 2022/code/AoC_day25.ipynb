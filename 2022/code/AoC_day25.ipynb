{
 "cells": [
  {
   "cell_type": "code",
   "execution_count": 1,
   "id": "677320ce",
   "metadata": {},
   "outputs": [],
   "source": [
    "file = \"/Users/liesbeth_bogaert/Documents/AoC/2022/input/input_day25.txt\""
   ]
  },
  {
   "cell_type": "code",
   "execution_count": 2,
   "id": "f41359db",
   "metadata": {},
   "outputs": [],
   "source": [
    "lines = open(file).read().splitlines()\n",
    "#print(lines)"
   ]
  },
  {
   "cell_type": "code",
   "execution_count": 3,
   "id": "39a1ffd9",
   "metadata": {},
   "outputs": [],
   "source": [
    "DIGITS = {\n",
    "    '0': 0,\n",
    "    '1': 1,\n",
    "    '2': 2,\n",
    "    '-': -1,\n",
    "    '=': -2,\n",
    "}"
   ]
  },
  {
   "cell_type": "code",
   "execution_count": 4,
   "id": "14ba815d",
   "metadata": {},
   "outputs": [],
   "source": [
    "def to_snafu(number):\n",
    "    digits = []\n",
    "    while number:\n",
    "        c = 0\n",
    "        if (rest := number%5) in (0, 1, 2):\n",
    "            digits.append(str(rest))\n",
    "            \n",
    "        if (rest := number%5) == 3:\n",
    "            digits.append('=')\n",
    "            c = 1\n",
    "            \n",
    "        if (rest := number%5) == 4:\n",
    "            digits.append('-')\n",
    "            c = 1\n",
    "\n",
    "        number = number // 5 + c\n",
    "\n",
    "    return ''.join(reversed(digits))"
   ]
  },
  {
   "cell_type": "code",
   "execution_count": 5,
   "id": "4b15b728",
   "metadata": {},
   "outputs": [],
   "source": [
    "def to_decimal(snafu):\n",
    "    #print(snafu)\n",
    "    s = 0\n",
    "    fives = []\n",
    "    for i in range(len(snafu)):\n",
    "        fives.append(5 ** i)\n",
    "        \n",
    "    for digit, place in zip(reversed(snafu), fives):\n",
    "            s += DIGITS[digit] * place\n",
    "    return s"
   ]
  },
  {
   "cell_type": "code",
   "execution_count": 6,
   "id": "20891471",
   "metadata": {},
   "outputs": [
    {
     "name": "stdout",
     "output_type": "stream",
     "text": [
      "34978907874317\n",
      "2-1-110-=01-1-0-0==2\n"
     ]
    }
   ],
   "source": [
    "dec = []\n",
    "for line in lines:\n",
    "    d = int(to_decimal(line))\n",
    "    dec.append(d)\n",
    "#print(dec)\n",
    "\n",
    "total = sum(dec)\n",
    "print(total)\n",
    "\n",
    "snafu = to_snafu(total)\n",
    "print(snafu)\n",
    "\n"
   ]
  }
 ],
 "metadata": {
  "kernelspec": {
   "display_name": "Python 3 (ipykernel)",
   "language": "python",
   "name": "python3"
  },
  "language_info": {
   "codemirror_mode": {
    "name": "ipython",
    "version": 3
   },
   "file_extension": ".py",
   "mimetype": "text/x-python",
   "name": "python",
   "nbconvert_exporter": "python",
   "pygments_lexer": "ipython3",
   "version": "3.9.13"
  }
 },
 "nbformat": 4,
 "nbformat_minor": 5
}
