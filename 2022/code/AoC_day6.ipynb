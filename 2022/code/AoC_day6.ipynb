{
 "cells": [
  {
   "cell_type": "code",
   "execution_count": 39,
   "id": "c0d824e2",
   "metadata": {},
   "outputs": [],
   "source": [
    "file = \"/Users/liesbeth_bogaert/Documents/AoC/2022/input/input_day6.txt\""
   ]
  },
  {
   "cell_type": "code",
   "execution_count": 40,
   "id": "6870e920",
   "metadata": {},
   "outputs": [],
   "source": [
    "lines = open(file).read().splitlines()\n",
    "#print(lines[0])\n",
    "input = lines[0]"
   ]
  },
  {
   "cell_type": "code",
   "execution_count": 42,
   "id": "6b4c244f",
   "metadata": {},
   "outputs": [
    {
     "name": "stdout",
     "output_type": "stream",
     "text": [
      "3837\n"
     ]
    }
   ],
   "source": [
    "a = 14\n",
    "\n",
    "for i in range(len(input)-a):\n",
    "    c = input[i:i+a]\n",
    "    #print(c, len(c), len(set(c)))\n",
    "    if len(set(list(c))) == len(c):\n",
    "        print(i+a)\n",
    "        break"
   ]
  },
  {
   "cell_type": "code",
   "execution_count": null,
   "id": "1a0c9467",
   "metadata": {},
   "outputs": [],
   "source": []
  }
 ],
 "metadata": {
  "kernelspec": {
   "display_name": "Python 3 (ipykernel)",
   "language": "python",
   "name": "python3"
  },
  "language_info": {
   "codemirror_mode": {
    "name": "ipython",
    "version": 3
   },
   "file_extension": ".py",
   "mimetype": "text/x-python",
   "name": "python",
   "nbconvert_exporter": "python",
   "pygments_lexer": "ipython3",
   "version": "3.9.13"
  }
 },
 "nbformat": 4,
 "nbformat_minor": 5
}
