{
 "cells": [
  {
   "cell_type": "code",
   "execution_count": null,
   "id": "f82c2087",
   "metadata": {},
   "outputs": [],
   "source": [
    "file = \"/Users/liesbeth_bogaert/Documents/AoC/2022/input/input_day8.txt\""
   ]
  },
  {
   "cell_type": "code",
   "execution_count": null,
   "id": "a443bd9f",
   "metadata": {},
   "outputs": [],
   "source": [
    "lines = open(file).read().strip().splitlines()\n",
    "#print(lines)"
   ]
  },
  {
   "cell_type": "code",
   "execution_count": null,
   "id": "e62e3573",
   "metadata": {},
   "outputs": [],
   "source": [
    "trees = []\n",
    "for line in lines:\n",
    "    trees.append(list(map(int, line.strip())))\n",
    "\n",
    "print(trees)"
   ]
  },
  {
   "cell_type": "code",
   "execution_count": null,
   "id": "bd6f59ad",
   "metadata": {},
   "outputs": [],
   "source": [
    "rows = len(trees)\n",
    "cols = len(trees[0])\n",
    "\n",
    "directions = [[-1, 0], [1, 0], [0, -1], [0, 1]]"
   ]
  },
  {
   "cell_type": "code",
   "execution_count": null,
   "id": "5b067b98",
   "metadata": {},
   "outputs": [],
   "source": [
    "visible_trees = 0\n",
    "\n",
    "# loop over all trees\n",
    "for x in range(rows):\n",
    "    for y in range(cols):\n",
    "        \n",
    "        visible = False\n",
    "        \n",
    "        # for each tree, look in four directions\n",
    "        for dx, dy in directions:\n",
    "            # start at position current tree \n",
    "            px, py = x, y \n",
    "            \n",
    "            ok = True\n",
    "            while True:\n",
    "                px += dx\n",
    "                py += dy\n",
    "                \n",
    "                if not (0 <= px < rows and 0 <= py < cols): # out of forest range\n",
    "                    break\n",
    "                if trees[px][py] >= trees[x][y]: # check heights\n",
    "                    ok = False\n",
    "            if ok:\n",
    "                visible = True\n",
    "        \n",
    "        if visible:    \n",
    "            visible_trees += 1      \n",
    "\n",
    "print(visible_trees)"
   ]
  },
  {
   "cell_type": "code",
   "execution_count": null,
   "id": "e4082934",
   "metadata": {},
   "outputs": [],
   "source": [
    "highest_score = 0\n",
    "\n",
    "# loop over all trees\n",
    "for x in range(rows):\n",
    "    for y in range(cols):\n",
    "        \n",
    "        score = 1\n",
    "        \n",
    "        # for each tree, look in four directions\n",
    "        for dx, dy in directions:\n",
    "            dist = 1\n",
    "            px = x + dx\n",
    "            py = y + dy\n",
    "            \n",
    "            while True:\n",
    "                if not (0 <= px < rows and 0 <= py < cols): # out of forest range\n",
    "                    dist -= 1\n",
    "                    break\n",
    "                if trees[px][py] >= trees[x][y]: # check heights\n",
    "                    break\n",
    "                \n",
    "                dist += 1\n",
    "                px += dx\n",
    "                py += dy\n",
    "                \n",
    "            score *= dist\n",
    "            \n",
    "        highest_score = max(highest_score, score)\n",
    "\n",
    "print(highest_score)"
   ]
  }
 ],
 "metadata": {
  "kernelspec": {
   "display_name": "Python 3 (ipykernel)",
   "language": "python",
   "name": "python3"
  },
  "language_info": {
   "codemirror_mode": {
    "name": "ipython",
    "version": 3
   },
   "file_extension": ".py",
   "mimetype": "text/x-python",
   "name": "python",
   "nbconvert_exporter": "python",
   "pygments_lexer": "ipython3",
   "version": "3.9.13"
  }
 },
 "nbformat": 4,
 "nbformat_minor": 5
}
