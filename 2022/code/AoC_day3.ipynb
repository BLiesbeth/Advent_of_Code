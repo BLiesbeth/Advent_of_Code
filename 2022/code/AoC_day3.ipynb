{
 "cells": [
  {
   "cell_type": "code",
   "execution_count": 170,
   "id": "8e0a6e99",
   "metadata": {},
   "outputs": [],
   "source": [
    "import pandas as pd\n",
    "import numpy as np\n",
    "import os"
   ]
  },
  {
   "cell_type": "code",
   "execution_count": 171,
   "id": "0ed1a7c6",
   "metadata": {},
   "outputs": [],
   "source": [
    "file = \"/Users/liesbeth_bogaert/Documents/AoC/2022/input/input_day3.txt\""
   ]
  },
  {
   "cell_type": "code",
   "execution_count": 176,
   "id": "4c48b12e",
   "metadata": {},
   "outputs": [],
   "source": [
    "lines = open(file).read().splitlines()\n",
    "#print(lines)"
   ]
  },
  {
   "cell_type": "code",
   "execution_count": 177,
   "id": "76ff4fa1",
   "metadata": {},
   "outputs": [],
   "source": [
    "#df = pd.DataFrame(lines, columns=['code'])\n",
    "\n",
    "#for i, row in df.iterrows():\n",
    "#    df.at[i, 'first'] = row.code[:len(row.code)//2]\n",
    "#    df.at[i, 'last'] = row.code[len(row.code)//2:]\n",
    "    \n",
    "#    common = set(df.at[i, 'first'] ).intersection(set(df.at[i, 'last']))\n",
    "#    letter = str(common.pop())\n",
    "#    df.at[i, 'letter'] = letter\n",
    "    \n",
    "#    if letter.islower():\n",
    "#        df.at[i, 'priority'] = 1 + ord(letter) - ord('a')\n",
    "#    else:\n",
    "#        df.at[i, 'priority'] = 27 + ord(letter) - ord('A')\n",
    "\n",
    "#print(df)\n",
    "#print(sum(df['priority']))"
   ]
  },
  {
   "cell_type": "code",
   "execution_count": 178,
   "id": "30528195",
   "metadata": {},
   "outputs": [
    {
     "name": "stdout",
     "output_type": "stream",
     "text": [
      "7850\n"
     ]
    }
   ],
   "source": [
    "sums = 0\n",
    "for line in lines:\n",
    "    first = line[:len(line)//2]\n",
    "    last = line[len(line)//2:]\n",
    "    common = set(first).intersection(set(last))\n",
    "    letter = str(common.pop())\n",
    "    if letter.islower():\n",
    "        sums += 1 + ord(letter) - ord('a')\n",
    "    else:\n",
    "        sums += 27 + ord(letter) - ord('A')\n",
    "\n",
    "print(sums)\n"
   ]
  },
  {
   "cell_type": "code",
   "execution_count": 179,
   "id": "448f431c",
   "metadata": {},
   "outputs": [
    {
     "name": "stdout",
     "output_type": "stream",
     "text": [
      "2581\n"
     ]
    }
   ],
   "source": [
    "sums = 0\n",
    "for i in range(0,len(lines), 3):\n",
    "    strings = [lines[i], lines[i+1], lines[i+2]]\n",
    "    common = set.intersection(*map(set,strings))\n",
    "    letter = str(common.pop())\n",
    "    if letter.islower():\n",
    "        sums += 1 + ord(letter) - ord('a')\n",
    "    else:\n",
    "        sums += 27 + ord(letter) - ord('A')\n",
    "        \n",
    "print(sums)"
   ]
  },
  {
   "cell_type": "code",
   "execution_count": null,
   "id": "8d831c56",
   "metadata": {},
   "outputs": [],
   "source": []
  }
 ],
 "metadata": {
  "kernelspec": {
   "display_name": "Python 3 (ipykernel)",
   "language": "python",
   "name": "python3"
  },
  "language_info": {
   "codemirror_mode": {
    "name": "ipython",
    "version": 3
   },
   "file_extension": ".py",
   "mimetype": "text/x-python",
   "name": "python",
   "nbconvert_exporter": "python",
   "pygments_lexer": "ipython3",
   "version": "3.9.13"
  }
 },
 "nbformat": 4,
 "nbformat_minor": 5
}
