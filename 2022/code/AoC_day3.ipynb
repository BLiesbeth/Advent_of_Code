{
 "cells": [
  {
   "cell_type": "code",
   "execution_count": null,
   "id": "0ed1a7c6",
   "metadata": {},
   "outputs": [],
   "source": [
    "file = \"/Users/liesbeth_bogaert/Documents/AoC/2022/input/input_day3.txt\""
   ]
  },
  {
   "cell_type": "code",
   "execution_count": null,
   "id": "4c48b12e",
   "metadata": {},
   "outputs": [],
   "source": [
    "lines = open(file).read().splitlines()\n",
    "print(lines)"
   ]
  }
 ],
 "metadata": {
  "kernelspec": {
   "display_name": "Python 3 (ipykernel)",
   "language": "python",
   "name": "python3"
  },
  "language_info": {
   "codemirror_mode": {
    "name": "ipython",
    "version": 3
   },
   "file_extension": ".py",
   "mimetype": "text/x-python",
   "name": "python",
   "nbconvert_exporter": "python",
   "pygments_lexer": "ipython3",
   "version": "3.9.13"
  }
 },
 "nbformat": 4,
 "nbformat_minor": 5
}
