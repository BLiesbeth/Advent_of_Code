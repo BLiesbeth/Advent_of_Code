{
 "cells": [
  {
   "cell_type": "code",
   "execution_count": null,
   "id": "f9163d9a",
   "metadata": {},
   "outputs": [],
   "source": [
    "import numpy as np\n",
    "from collections import defaultdict"
   ]
  },
  {
   "cell_type": "code",
   "execution_count": null,
   "id": "13fe78e7",
   "metadata": {},
   "outputs": [],
   "source": [
    "file = \"/Users/liesbeth_bogaert/Documents/AoC/2022/input/input_day17.txt\""
   ]
  },
  {
   "cell_type": "code",
   "execution_count": null,
   "id": "490b3731",
   "metadata": {},
   "outputs": [],
   "source": [
    "lines = open(file).read().strip().splitlines()\n",
    "#print(lines[0])\n",
    "input = lines[0]\n",
    "#print(input[0])"
   ]
  },
  {
   "cell_type": "markdown",
   "id": "7f3a9908",
   "metadata": {},
   "source": [
    "PART 1: binary rocks"
   ]
  },
  {
   "cell_type": "code",
   "execution_count": null,
   "id": "c197a882",
   "metadata": {},
   "outputs": [],
   "source": [
    "#Rock: rows in binary + rock width\n",
    "ROCKS = [\n",
    "    ([15], 4),  # 0b1111\n",
    "    ([2, 7, 2], 3),  # 010, 111, 010\n",
    "    ([1, 1, 7], 3),  # 001, 001, 111\n",
    "    ([1, 1, 1, 1], 1),  # 1, 1, 1, 1, 1\n",
    "    ([3, 3], 2),  # 11, 11\n",
    "]"
   ]
  },
  {
   "cell_type": "code",
   "execution_count": null,
   "id": "dccb6f64",
   "metadata": {},
   "outputs": [],
   "source": [
    "def collision(board, row, col, rock, rock_width):\n",
    "    for i, r in enumerate(rock):\n",
    "        if board[row + i] & (r << (7 - rock_width - col)):\n",
    "            return True\n",
    "    return False"
   ]
  },
  {
   "cell_type": "code",
   "execution_count": null,
   "id": "65481072",
   "metadata": {},
   "outputs": [],
   "source": [
    "height = 10000\n",
    "row = height\n",
    "minrow = height\n",
    "board = np.zeros(height, dtype=np.ubyte)\n",
    "\n",
    "rock_id = 0\n",
    "movement_id = 0\n",
    "\n",
    "n = 2022\n",
    "while n > 0:\n",
    "\n",
    "    col = 2\n",
    "\n",
    "    rock, rock_width = ROCKS[rock_id%len(ROCKS)]\n",
    "    rock_height = len(rock)\n",
    "    row = minrow - 3 - rock_height\n",
    "\n",
    "    while True:\n",
    "        movement = input[movement_id]\n",
    "        if(movement_id < len(input)-1): # Repeat input\n",
    "            movement_id += 1\n",
    "        else:\n",
    "            movement_id = 0\n",
    "\n",
    "        #MOVE\n",
    "        if (movement == \">\" and col + rock_width < 7 and not collision(board, row, col+1, rock, rock_width)):\n",
    "            col += 1\n",
    "        elif (movement == \"<\" and col > 0 and not collision(board, row, col-1, rock, rock_width)):\n",
    "            col -= 1\n",
    "        \n",
    "        #FLOOR\n",
    "        if rock_height + row + 1 > height:\n",
    "            break\n",
    "        #COLLISION\n",
    "        if collision(board, row + 1, col, rock, rock_width):\n",
    "            break\n",
    "        #DOWN\n",
    "        row += 1\n",
    "\n",
    "\n",
    "    minrow = min(row, minrow)\n",
    "    for i, r in enumerate(rock):\n",
    "        board[row + i] |= r << (7 - rock_width - col)\n",
    "    \n",
    "    rock_id += 1\n",
    "    n -= 1\n",
    "\n",
    "print(height - minrow)"
   ]
  },
  {
   "cell_type": "markdown",
   "id": "10c764af",
   "metadata": {},
   "source": [
    "PART 2: \n",
    "- restart because part one is not fast enough :(\n"
   ]
  },
  {
   "cell_type": "code",
   "execution_count": null,
   "id": "47e9e7d3",
   "metadata": {},
   "outputs": [],
   "source": [
    "ROCKS = [\n",
    "    [(2, 0), (3, 0), (4, 0), (5, 0)], # Horizontal Line\n",
    "    [(3, 0), (2, 1), (3, 1), (4, 1), (3, 2)], # Plus\n",
    "    [(2, 0), (3, 0), (4, 0), (4, 1), (4, 2)], # L\n",
    "    [(2, 0), (2, 1), (2, 2), (2, 3)], # Vertical Bar\n",
    "    [(2, 0), (2, 1), (3, 0), (3, 1)], # Square\n",
    "]"
   ]
  },
  {
   "cell_type": "code",
   "execution_count": null,
   "id": "f0fcce39",
   "metadata": {},
   "outputs": [],
   "source": [
    "def solve(data, cycles):\n",
    "    width = 7\n",
    "\n",
    "    tower = {(x, 0) for x in range(width)}\n",
    "    tower_height = 0\n",
    "    column_heights = [0] * width\n",
    "\n",
    "    cycle_id = 0\n",
    "    mov_id = 0\n",
    "\n",
    "    history = defaultdict(list)\n",
    "\n",
    "    while cycle_id < cycles:\n",
    "        current_cycle = cycle_id\n",
    "        cycle_id += 1\n",
    "        \n",
    "        rock_id = current_cycle % len(ROCKS)\n",
    "        rock = ROCKS[rock_id]\n",
    "        y_off = tower_height + 4\n",
    "        rock = [(x, y+y_off) for x, y in rock]\n",
    "\n",
    "        cycle_key = (rock_id, mov_id)\n",
    "\n",
    "        move_x, move_y = 0, 0\n",
    "\n",
    "        while True:\n",
    "            # move left or right (from input file)\n",
    "            movement = -1 if data[mov_id] == '<' else 1\n",
    "            mov_id = (mov_id + 1) % len(data)\n",
    "\n",
    "            moved_rock = [(x+movement, y) for x, y in rock]\n",
    "            if any(x < 0 or x >= width for x, y in moved_rock):\n",
    "                moved_rock = rock\n",
    "            elif any(c in tower for c in moved_rock):\n",
    "                moved_rock = rock\n",
    "            else:\n",
    "                move_x += movement\n",
    "\n",
    "            rock = moved_rock\n",
    "            #move down\n",
    "            moved_rock = [(x, y-1) for x,y in rock]\n",
    "            \n",
    "            if any(c in tower for c in moved_rock):\n",
    "                tower.update(rock)\n",
    "                tower_height = max(tower_height, max(y for x,y in rock))\n",
    "                for x, y in rock:\n",
    "                    column_heights[x] = max(column_heights[x], y)\n",
    "\n",
    "                #needed for part 2\n",
    "                if history is None:\n",
    "                    break\n",
    "\n",
    "                height_diff = tuple(y-tower_height for y in column_heights)\n",
    "                key = (cycle_key, move_x, move_y, height_diff)\n",
    "\n",
    "                cycle_history = history[key]\n",
    "\n",
    "                if len(cycle_history) > 1:\n",
    "                    last_y_diff = cycle_history[-1][0] - cycle_history[-2][0]\n",
    "                    curr_y_diff = tower_height - cycle_history[-1][0]\n",
    "\n",
    "                    if last_y_diff == curr_y_diff:\n",
    "                        cycle_diff = current_cycle - cycle_history[-1][1]\n",
    "\n",
    "                        todo = cycles - current_cycle - 1\n",
    "\n",
    "                        supercycles = todo // cycle_diff\n",
    "                        skipped_cycles = supercycles * cycle_diff\n",
    "\n",
    "                        height_mod = supercycles * curr_y_diff\n",
    "\n",
    "                        tower = {(x, y+height_mod) for x, y in tower}\n",
    "                        tower_height += height_mod\n",
    "\n",
    "                        cycle_idx += skipped_cycles\n",
    "\n",
    "                        history = None\n",
    "                        break\n",
    "\n",
    "                cycle_history.append((tower_height, current_cycle))\n",
    "                break\n",
    "\n",
    "            move_y -= 1\n",
    "            rock = moved_rock\n",
    "        print(tower)\n",
    "\n",
    "    return tower_height"
   ]
  },
  {
   "cell_type": "code",
   "execution_count": null,
   "id": "27a63bc2",
   "metadata": {},
   "outputs": [],
   "source": [
    "answer = solve(input, 2)\n",
    "print(answer)"
   ]
  },
  {
   "cell_type": "code",
   "execution_count": null,
   "id": "ae5d360d",
   "metadata": {},
   "outputs": [],
   "source": [
    "answer = solve(input, 1000000000000)\n",
    "print(answer)"
   ]
  }
 ],
 "metadata": {
  "kernelspec": {
   "display_name": "Python 3 (ipykernel)",
   "language": "python",
   "name": "python3"
  },
  "language_info": {
   "codemirror_mode": {
    "name": "ipython",
    "version": 3
   },
   "file_extension": ".py",
   "mimetype": "text/x-python",
   "name": "python",
   "nbconvert_exporter": "python",
   "pygments_lexer": "ipython3",
   "version": "3.9.13"
  }
 },
 "nbformat": 4,
 "nbformat_minor": 5
}
