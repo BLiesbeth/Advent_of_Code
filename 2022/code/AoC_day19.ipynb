{
 "cells": [
  {
   "cell_type": "code",
   "execution_count": null,
   "id": "50de68f9",
   "metadata": {},
   "outputs": [],
   "source": [
    "from collections import deque\n"
   ]
  },
  {
   "cell_type": "code",
   "execution_count": null,
   "id": "9207880e",
   "metadata": {},
   "outputs": [],
   "source": [
    "file = \"/Users/liesbeth_bogaert/Documents/AoC/2022/input/input_day19.txt\""
   ]
  },
  {
   "cell_type": "code",
   "execution_count": null,
   "id": "f064c4e8",
   "metadata": {},
   "outputs": [],
   "source": [
    "lines = open(file).read().strip().splitlines()\n",
    "#print(lines)"
   ]
  },
  {
   "cell_type": "code",
   "execution_count": null,
   "id": "f140d186",
   "metadata": {},
   "outputs": [],
   "source": [
    "example = ['Blueprint 1: Each ore robot costs 4 ore. Each clay robot costs 2 ore. Each obsidian robot costs 3 ore and 14 clay. Each geode robot costs 2 ore and 7 obsidian.','Blueprint 2: Each ore robot costs 2 ore. Each clay robot costs 3 ore. Each obsidian robot costs 3 ore and 8 clay. Each geode robot costs 3 ore and 12 obsidian.']"
   ]
  },
  {
   "cell_type": "markdown",
   "id": "6e3832eb",
   "metadata": {},
   "source": [
    "Blueprint, ore (ore), clay (ore), obsidian (ore and clay), geode (ore and obsidian) "
   ]
  },
  {
   "cell_type": "code",
   "execution_count": null,
   "id": "1c16cb60",
   "metadata": {},
   "outputs": [],
   "source": [
    "ore_cost = []\n",
    "clay_cost = []\n",
    "obsidian_cost = []\n",
    "geode_cost = []\n",
    "\n",
    "blueprints = 0\n",
    "\n",
    "for line in lines:\n",
    "    line = line.replace(':', '').split()\n",
    "    numbers = [int(s) for s in line if s.isdigit()]\n",
    "    #print(numbers)\n",
    "    ore_cost.append(numbers[1])\n",
    "    clay_cost.append(numbers[2])\n",
    "    obsidian_cost.append((numbers[3], numbers[4]))\n",
    "    geode_cost.append([numbers[5], numbers[6]])\n",
    "    blueprints = numbers[0]\n",
    "\n",
    "print(ore_cost)\n",
    "print(clay_cost)\n",
    "print(obsidian_cost)\n",
    "print(geode_cost)"
   ]
  },
  {
   "cell_type": "markdown",
   "id": "6a568bb1",
   "metadata": {},
   "source": [
    "state = \n",
    "- numer of ore bots, \n",
    "- number of ores, \n",
    "- number of clay bots, \n",
    "- number of clay, \n",
    "- number of obsidian bots, \n",
    "- number of obsidian, \n",
    "- number of geode bots, \n",
    "- number of geode, \n",
    "- time"
   ]
  },
  {
   "cell_type": "code",
   "execution_count": null,
   "id": "3f2e91f4",
   "metadata": {},
   "outputs": [],
   "source": [
    "def solve(blueprint, T):\n",
    "    geodes = 0\n",
    "    state = (1,0, 0,0, 0,0, 0,0, T)\n",
    "    \n",
    "    q = deque([state])\n",
    "    been = set()\n",
    "    \n",
    "    while q:\n",
    "        ore_bot, ore, clay_bot, clay, obsidian_bot, obsidian, geode_bot, geode, time = q.popleft()\n",
    "        geodes = max(geodes, geode)\n",
    "        \n",
    "        if time == 0:\n",
    "            continue\n",
    "        \n",
    "        state = (ore_bot, ore, clay_bot, clay, obsidian_bot, obsidian, geode_bot, geode, time)\n",
    "    \n",
    "        most_ore_cost = max(ore_cost[blueprint], clay_cost[blueprint], obsidian_cost[blueprint][0], geode_cost[blueprint][0])\n",
    "        \n",
    "        if ore_bot >= most_ore_cost:\n",
    "            ore_bot = most_ore_cost\n",
    "            \n",
    "        if clay_bot >= obsidian_cost[blueprint][1]:\n",
    "            clay_bot = obsidian_cost[blueprint][1]\n",
    "            \n",
    "        if obsidian_bot >= geode_cost[blueprint][1]:\n",
    "            obsidian_bot = geode_cost[blueprint][1]\n",
    "        \n",
    "        if ore >= time*most_ore_cost - ore_bot*(time-1):\n",
    "            ore = time*most_ore_cost - ore_bot*(time-1)\n",
    "            \n",
    "        if clay >= time*obsidian_cost[blueprint][1] - clay_bot*(time-1):\n",
    "            clay = time*obsidian_cost[blueprint][1] - clay_bot*(time-1)\n",
    "            \n",
    "        if obsidian >= time*geode_cost[blueprint][1] - obsidian_bot*(time-1):\n",
    "            obsidian = time*geode_cost[blueprint][1] - obsidian_bot*(time-1)\n",
    "            \n",
    "        if state in been:\n",
    "            continue\n",
    "        been.add(state)\n",
    "        \n",
    "        q.append((ore_bot, ore + ore_bot, \n",
    "                  clay_bot, clay + clay_bot, \n",
    "                  obsidian_bot, obsidian + obsidian_bot, \n",
    "                  geode_bot, geode + geode_bot, \n",
    "                  time-1))\n",
    "        \n",
    "        if ore >= ore_cost[blueprint]:\n",
    "            q.append((ore_bot+1, ore - ore_cost[blueprint] + ore_bot, \n",
    "                  clay_bot, clay + clay_bot,\n",
    "                  obsidian_bot, obsidian + obsidian_bot, \n",
    "                  geode_bot, geode + geode_bot, \n",
    "                  time-1))\n",
    "            \n",
    "        if ore >= clay_cost[blueprint]:\n",
    "            q.append((ore_bot, ore - clay_cost[blueprint] + ore_bot, \n",
    "                  clay_bot+1, clay + clay_bot, \n",
    "                  obsidian_bot, obsidian + obsidian_bot, \n",
    "                  geode_bot, geode + geode_bot, \n",
    "                  time-1))\n",
    "            \n",
    "        if ore >= obsidian_cost[blueprint][0] and clay >= obsidian_cost[blueprint][1]:\n",
    "            q.append((ore_bot, ore - obsidian_cost[blueprint][0] + ore_bot, \n",
    "                  clay_bot, clay - obsidian_cost[blueprint][1] + clay_bot, \n",
    "                  obsidian_bot+1, obsidian + obsidian_bot, \n",
    "                  geode_bot, geode + geode_bot, \n",
    "                  time-1))\n",
    "            \n",
    "        if ore >= geode_cost[blueprint][0] and obsidian >= geode_cost[blueprint][1]:\n",
    "            q.append((ore_bot, ore - geode_cost[blueprint][0] + ore_bot, \n",
    "                  clay_bot, clay + clay_bot, \n",
    "                  obsidian_bot, obsidian - geode_cost[blueprint][1] + obsidian_bot, \n",
    "                  geode_bot+1, geode + geode_bot, \n",
    "                  time-1))\n",
    "                \n",
    "    return geodes\n",
    "    "
   ]
  },
  {
   "cell_type": "code",
   "execution_count": null,
   "id": "c4046b1c",
   "metadata": {},
   "outputs": [],
   "source": [
    "time = 24\n",
    "\n",
    "part1 = 0\n",
    "for i in range(blueprints):\n",
    "    geodes = solve(i, time)\n",
    "    #print(i+1, geodes)\n",
    "    part1 += (i+1)*geodes\n",
    "    \n",
    "print(part1)"
   ]
  },
  {
   "cell_type": "code",
   "execution_count": null,
   "id": "52001069",
   "metadata": {},
   "outputs": [],
   "source": [
    "time = 32\n",
    "\n",
    "part2 = 1\n",
    "for i in range(3):\n",
    "    geodes = solve(i, time)\n",
    "    #print(i+1, geodes)\n",
    "    part2 *= geodes\n",
    "    \n",
    "print(part2)\n"
   ]
  },
  {
   "cell_type": "code",
   "execution_count": null,
   "id": "85574e5b",
   "metadata": {},
   "outputs": [],
   "source": []
  }
 ],
 "metadata": {
  "kernelspec": {
   "display_name": "Python 3 (ipykernel)",
   "language": "python",
   "name": "python3"
  },
  "language_info": {
   "codemirror_mode": {
    "name": "ipython",
    "version": 3
   },
   "file_extension": ".py",
   "mimetype": "text/x-python",
   "name": "python",
   "nbconvert_exporter": "python",
   "pygments_lexer": "ipython3",
   "version": "3.9.13"
  }
 },
 "nbformat": 4,
 "nbformat_minor": 5
}
