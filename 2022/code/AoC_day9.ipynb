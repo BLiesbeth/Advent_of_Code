{
 "cells": [
  {
   "cell_type": "code",
   "execution_count": 52,
   "id": "11177feb",
   "metadata": {},
   "outputs": [],
   "source": [
    "file = \"/Users/liesbeth_bogaert/Documents/AoC/2022/input/input_day9.txt\""
   ]
  },
  {
   "cell_type": "code",
   "execution_count": 53,
   "id": "93c88c28",
   "metadata": {},
   "outputs": [],
   "source": [
    "lines = open(file).read().strip().splitlines()\n",
    "#print(lines)"
   ]
  },
  {
   "cell_type": "code",
   "execution_count": 54,
   "id": "eda1fa32",
   "metadata": {},
   "outputs": [],
   "source": [
    "T = {\"L\": (-1, 0), \n",
    "     \"R\": (1, 0), \n",
    "     \"U\": (0, 1), \n",
    "     \"D\": (0, -1)}"
   ]
  },
  {
   "cell_type": "code",
   "execution_count": 48,
   "id": "5b49a2bb",
   "metadata": {},
   "outputs": [
    {
     "name": "stdout",
     "output_type": "stream",
     "text": [
      "5874\n"
     ]
    }
   ],
   "source": [
    "hx, hy = 0, 0\n",
    "tx, ty = 0, 0\n",
    "been = {(0, 0)}\n",
    "\n",
    "for instruction in lines:\n",
    "    direction, steps = instruction.split(' ')\n",
    "    steps = int(steps)\n",
    "    \n",
    "    dx, dy = T[direction]\n",
    "    for i in range(steps):\n",
    "        hx += dx\n",
    "        hy += dy\n",
    "\n",
    "        while max(abs(tx - hx), abs(ty - hy)) > 1:\n",
    "            if abs(tx - hx) > 0:\n",
    "                if hx > tx:\n",
    "                    tx += 1\n",
    "                else :\n",
    "                    tx -= 1\n",
    "                \n",
    "            if abs(ty - hy) > 0:\n",
    "                if hy > ty:\n",
    "                    ty += 1\n",
    "                else:\n",
    "                    ty -= 1\n",
    "\n",
    "        been.add((tx, ty))\n",
    "print(len(been))     "
   ]
  },
  {
   "cell_type": "code",
   "execution_count": 55,
   "id": "e938a8df",
   "metadata": {},
   "outputs": [
    {
     "name": "stdout",
     "output_type": "stream",
     "text": [
      "2467\n"
     ]
    }
   ],
   "source": [
    "snake = [(0, 0)] * 10\n",
    "been = set()\n",
    "\n",
    "for instruction in lines:\n",
    "    direction, steps = instruction.split(' ')\n",
    "    steps = int(steps)\n",
    "    \n",
    "    dx, dy = T[direction]\n",
    "    for i in range(steps):\n",
    "        \n",
    "        hx, hy = snake[0]\n",
    "        snake[0] = hx + dx, hy + dy\n",
    "        \n",
    "        for i in range(1, len(snake)):\n",
    "            hx, hy = snake[i - 1]\n",
    "            tx, ty = snake[i]\n",
    "\n",
    "            while max(abs(tx - hx), abs(ty - hy)) > 1:\n",
    "                if abs(tx - hx) > 0:\n",
    "                    if hx > tx:\n",
    "                        tx += 1\n",
    "                    else :\n",
    "                        tx -= 1\n",
    "\n",
    "                if abs(ty - hy) > 0:\n",
    "                    if hy > ty:\n",
    "                        ty += 1\n",
    "                    else:\n",
    "                        ty -= 1\n",
    "\n",
    "            snake[i] = tx, ty\n",
    "        been.add(snake[-1])\n",
    "\n",
    "print(len(been))     "
   ]
  },
  {
   "cell_type": "code",
   "execution_count": 57,
   "id": "1d9a2bcc",
   "metadata": {},
   "outputs": [
    {
     "name": "stdout",
     "output_type": "stream",
     "text": [
      "5874\n"
     ]
    }
   ],
   "source": [
    "snake = [(0, 0)] * 2\n",
    "been = set()\n",
    "\n",
    "for instruction in lines:\n",
    "    direction, steps = instruction.split(' ')\n",
    "    steps = int(steps)\n",
    "    \n",
    "    dx, dy = T[direction]\n",
    "    for i in range(steps):\n",
    "        \n",
    "        hx, hy = snake[0]\n",
    "        snake[0] = hx + dx, hy + dy\n",
    "        \n",
    "        for i in range(1, len(snake)):\n",
    "            hx, hy = snake[i - 1]\n",
    "            tx, ty = snake[i]\n",
    "\n",
    "            while max(abs(tx - hx), abs(ty - hy)) > 1:\n",
    "                if abs(tx - hx) > 0:\n",
    "                    if hx > tx:\n",
    "                        tx += 1\n",
    "                    else :\n",
    "                        tx -= 1\n",
    "\n",
    "                if abs(ty - hy) > 0:\n",
    "                    if hy > ty:\n",
    "                        ty += 1\n",
    "                    else:\n",
    "                        ty -= 1\n",
    "\n",
    "            snake[i] = tx, ty\n",
    "        been.add(snake[-1])\n",
    "\n",
    "print(len(been))     "
   ]
  },
  {
   "cell_type": "code",
   "execution_count": null,
   "id": "87825db8",
   "metadata": {},
   "outputs": [],
   "source": []
  }
 ],
 "metadata": {
  "kernelspec": {
   "display_name": "Python 3 (ipykernel)",
   "language": "python",
   "name": "python3"
  },
  "language_info": {
   "codemirror_mode": {
    "name": "ipython",
    "version": 3
   },
   "file_extension": ".py",
   "mimetype": "text/x-python",
   "name": "python",
   "nbconvert_exporter": "python",
   "pygments_lexer": "ipython3",
   "version": "3.9.13"
  }
 },
 "nbformat": 4,
 "nbformat_minor": 5
}
