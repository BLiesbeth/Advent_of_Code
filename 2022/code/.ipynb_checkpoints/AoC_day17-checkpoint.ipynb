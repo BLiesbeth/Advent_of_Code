{
 "cells": [
  {
   "cell_type": "code",
   "execution_count": 34,
   "id": "728cc718",
   "metadata": {},
   "outputs": [],
   "source": [
    "import collections"
   ]
  },
  {
   "cell_type": "code",
   "execution_count": 35,
   "id": "278e79f3",
   "metadata": {},
   "outputs": [],
   "source": [
    "file = \"/Users/liesbeth_bogaert/Documents/AoC/2022/input/input_day17.txt\""
   ]
  },
  {
   "cell_type": "code",
   "execution_count": 36,
   "id": "d5b043d7",
   "metadata": {},
   "outputs": [],
   "source": [
    "lines = open(file).read().strip().splitlines()\n",
    "#print(lines[0])\n",
    "lines = lines[0].split()"
   ]
  },
  {
   "cell_type": "code",
   "execution_count": 53,
   "id": "eda21f80",
   "metadata": {},
   "outputs": [],
   "source": [
    "rocks = [\n",
    "    ['0011110',\n",
    "     '0000000',\n",
    "     '0000000',\n",
    "     '0000000'],\n",
    "\n",
    "    ['0001000',\n",
    "     '0011100',\n",
    "     '0001000',\n",
    "     '0000000'],\n",
    "\n",
    "    ['0000100',\n",
    "     '0000100',\n",
    "     '0011100',\n",
    "     '0000000'],\n",
    "    \n",
    "    ['0010000',\n",
    "     '0010000',\n",
    "     '0010000',\n",
    "     '0010000'],\n",
    "    \n",
    "    ['0011000',\n",
    "     '0011000',\n",
    "     '0000000',\n",
    "     '0000000'],\n",
    "    \n",
    "]\n",
    "\n",
    "situation = [[0, 0, 0, 0, 0, 0, 0]]\n",
    "moves = lines[0].split()"
   ]
  },
  {
   "cell_type": "code",
   "execution_count": null,
   "id": "21e059b3",
   "metadata": {},
   "outputs": [],
   "source": [
    "def move_rock(situation, move, position):\n",
    "    if move == '<':\n",
    "\n",
    "\n"
   ]
  },
  {
   "cell_type": "code",
   "execution_count": 54,
   "id": "cb28bd9a",
   "metadata": {},
   "outputs": [
    {
     "name": "stdout",
     "output_type": "stream",
     "text": [
      "[0, 0, 0, 0, 0, 0, 0]\n",
      "[0, 0, 0, 0, 0, 0, 0]\n",
      "[0, 0, 0, 0, 0, 0, 0]\n",
      "[0, 0, 0, 0, 0, 0, 0]\n",
      "[0, 0, 1, 1, 1, 1, 0]\n",
      "[0, 0, 0, 0, 0, 0, 0]\n",
      "[0, 0, 0, 0, 0, 0, 0]\n",
      "[0, 0, 0, 0, 0, 0, 0]\n"
     ]
    }
   ],
   "source": [
    "number_of_rocks = 1\n",
    "c = 0\n",
    "i = 0\n",
    "\n",
    "while c < number_of_rocks:\n",
    "    for _ in range(3):\n",
    "        situation.append([0, 0, 0, 0, 0, 0, 0])\n",
    "    positon = len(situation)\n",
    "    move = moves[i]\n",
    "    rock = rocks[c%5]\n",
    "    for r in rock:\n",
    "        situation.append(r)\n",
    "    \n",
    "    move(situation, move, position)\n",
    "    \n",
    "    c += 1\n",
    "    \n",
    "\n",
    "for x in situation:\n",
    "    print(x)"
   ]
  },
  {
   "cell_type": "code",
   "execution_count": null,
   "id": "f1e0a40f",
   "metadata": {},
   "outputs": [],
   "source": []
  },
  {
   "cell_type": "code",
   "execution_count": null,
   "id": "79412e40",
   "metadata": {},
   "outputs": [],
   "source": []
  },
  {
   "cell_type": "code",
   "execution_count": null,
   "id": "dfbed0f3",
   "metadata": {},
   "outputs": [],
   "source": []
  },
  {
   "cell_type": "code",
   "execution_count": null,
   "id": "6d8e035f",
   "metadata": {},
   "outputs": [],
   "source": []
  },
  {
   "cell_type": "code",
   "execution_count": 24,
   "id": "23ab6b78",
   "metadata": {},
   "outputs": [
    {
     "name": "stdout",
     "output_type": "stream",
     "text": [
      "{(4, 0), (0, 0), (2, 0), (3, 0), (5, 0), (6, 0), (1, 0)}\n",
      "3069\n",
      "1523167155404\n"
     ]
    }
   ],
   "source": [
    "import sys\n",
    "\n",
    "p = (((0, 0), (1, 0), (2, 0), (3, 0)),\n",
    "      ((1, 0), (0, 1), (1, 1), (2, 1), (1, 2 )),\n",
    "      ((0, 0), (1, 0), (2, 0), (2, 1), (2, 2 )),\n",
    "      ((0, 0), (0, 1), (0, 2), (0, 3)),\n",
    "      ((0, 0), (1, 0), (0, 1), (1, 1)))\n",
    "\n",
    "s = 0\n",
    "\n",
    "g = {(i, 0) for i in range(7)}\n",
    "v = {}\n",
    "ch, cn = None, None\n",
    "\n",
    "for n in range(1000000000000):\n",
    "    h = max( y for x, y in g )\n",
    "    if n == 2022:\n",
    "        print( h )\n",
    "    x, y, r = 2, h + 4, n % 5\n",
    "    \n",
    "    if (s, r) in v:\n",
    "        cn = n - v[(s, r)][0]\n",
    "        ch = h - v[(s, r)][1]\n",
    "    v[(s, r)] = (n, h)\n",
    "    \n",
    "    if ch and cn and ( 1000000000000 - n ) % cn == 0:\n",
    "        h += ( 1000000000000 - n ) // cn * ch\n",
    "        print(h)\n",
    "        break\n",
    "\n",
    "    while True:\n",
    "        dx = 1 if lines[s] == \">\" else -1\n",
    "        s = (s + 1) % len(lines)\n",
    "        \n",
    "        if all(( x + i + dx, y + j) not in g and 0 <= x + i + dx < 7\n",
    "                for i, j in p[r]):\n",
    "            x += dx\n",
    "        if any((x + i, y + j - 1) in g for i, j in p[r]):\n",
    "            break\n",
    "        y -= 1\n",
    "    g.update(( x + i, y + j ) for i, j in p[r])"
   ]
  }
 ],
 "metadata": {
  "kernelspec": {
   "display_name": "Python 3 (ipykernel)",
   "language": "python",
   "name": "python3"
  },
  "language_info": {
   "codemirror_mode": {
    "name": "ipython",
    "version": 3
   },
   "file_extension": ".py",
   "mimetype": "text/x-python",
   "name": "python",
   "nbconvert_exporter": "python",
   "pygments_lexer": "ipython3",
   "version": "3.9.13"
  }
 },
 "nbformat": 4,
 "nbformat_minor": 5
}
