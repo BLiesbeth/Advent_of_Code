{
 "cells": [
  {
   "cell_type": "code",
   "execution_count": 1,
   "id": "3e90f635",
   "metadata": {},
   "outputs": [],
   "source": [
    "from collections import defaultdict\n",
    "import math"
   ]
  },
  {
   "cell_type": "code",
   "execution_count": 2,
   "id": "edcb6f5e",
   "metadata": {},
   "outputs": [],
   "source": [
    "file = \"/Users/liesbeth_bogaert/Documents/AoC/2022/input/input_day11.txt\""
   ]
  },
  {
   "cell_type": "code",
   "execution_count": 3,
   "id": "c8e901df",
   "metadata": {},
   "outputs": [
    {
     "name": "stdout",
     "output_type": "stream",
     "text": [
      "['Monkey 0:', '  Starting items: 65, 78', '  Operation: new = old * 3', '  Test: divisible by 5', '    If true: throw to monkey 2', '    If false: throw to monkey 3', '', 'Monkey 1:', '  Starting items: 54, 78, 86, 79, 73, 64, 85, 88', '  Operation: new = old + 8', '  Test: divisible by 11', '    If true: throw to monkey 4', '    If false: throw to monkey 7', '', 'Monkey 2:', '  Starting items: 69, 97, 77, 88, 87', '  Operation: new = old + 2', '  Test: divisible by 2', '    If true: throw to monkey 5', '    If false: throw to monkey 3', '', 'Monkey 3:', '  Starting items: 99', '  Operation: new = old + 4', '  Test: divisible by 13', '    If true: throw to monkey 1', '    If false: throw to monkey 5', '', 'Monkey 4:', '  Starting items: 60, 57, 52', '  Operation: new = old * 19', '  Test: divisible by 7', '    If true: throw to monkey 7', '    If false: throw to monkey 6', '', 'Monkey 5:', '  Starting items: 91, 82, 85, 73, 84, 53', '  Operation: new = old + 5', '  Test: divisible by 3', '    If true: throw to monkey 4', '    If false: throw to monkey 1', '', 'Monkey 6:', '  Starting items: 88, 74, 68, 56', '  Operation: new = old * old', '  Test: divisible by 17', '    If true: throw to monkey 0', '    If false: throw to monkey 2', '', 'Monkey 7:', '  Starting items: 54, 82, 72, 71, 53, 99, 67', '  Operation: new = old + 1', '  Test: divisible by 19', '    If true: throw to monkey 6', '    If false: throw to monkey 0']\n"
     ]
    }
   ],
   "source": [
    "lines = open(file).read().strip().splitlines()\n",
    "print(lines)"
   ]
  },
  {
   "cell_type": "code",
   "execution_count": 4,
   "id": "dcfb636b",
   "metadata": {},
   "outputs": [],
   "source": [
    "test = \"/Users/liesbeth_bogaert/Documents/AoC/2022/input/input_day11_example.txt\"\n",
    "#lines = open(test).read().strip().splitlines()\n",
    "#print(test)"
   ]
  },
  {
   "cell_type": "code",
   "execution_count": 17,
   "id": "89f05c20",
   "metadata": {},
   "outputs": [
    {
     "name": "stdout",
     "output_type": "stream",
     "text": [
      "[[65, 78], [54, 78, 86, 79, 73, 64, 85, 88], [69, 97, 77, 88, 87], [99], [60, 57, 52], [91, 82, 85, 73, 84, 53], [88, 74, 68, 56], [54, 82, 72, 71, 53, 99, 67]]\n",
      "[['*', '3'], ['+', '8'], ['+', '2'], ['+', '4'], ['*', '19'], ['+', '5'], ['*', 'old'], ['+', '1']]\n",
      "[5, 11, 2, 13, 7, 3, 17, 19]\n",
      "[2, 4, 5, 1, 7, 4, 0, 6]\n",
      "[3, 7, 3, 5, 6, 1, 2, 0]\n"
     ]
    }
   ],
   "source": [
    "monkeys = []\n",
    "operations = []\n",
    "test = []\n",
    "trues = []\n",
    "falses = []\n",
    "\n",
    "number = 0\n",
    "items = []\n",
    "\n",
    "\n",
    "for line in lines:\n",
    "    words = line.split()\n",
    "    words = list(map(str.strip, words))\n",
    "    #print(words)\n",
    "    \n",
    "    if len(words) != 0:\n",
    "        if words[0] == 'Monkey':\n",
    "            number = int(words[1].replace(':',''))\n",
    "        if words[0] == 'Starting':\n",
    "            items = [int(x.replace(',','')) for x in words[2:]]\n",
    "        if words[0] == 'Operation:':\n",
    "            operation = words[4:]\n",
    "        if words[0] == 'Test:':\n",
    "            test.append(int(words[3]))\n",
    "        if words[1] == 'true:':\n",
    "            trues.append(int(words[5]))\n",
    "        if words[1] == 'false:':\n",
    "            falses.append(int(words[5]))\n",
    "    else:\n",
    "        monkeys.append(items)\n",
    "        operations.append(operation)\n",
    "monkeys.append(items)\n",
    "operations.append(operation)\n",
    "            \n",
    "print(monkeys)\n",
    "print(operations)\n",
    "print(test)\n",
    "print(trues)\n",
    "print(falses)"
   ]
  },
  {
   "cell_type": "code",
   "execution_count": 18,
   "id": "7723b0a3",
   "metadata": {},
   "outputs": [
    {
     "ename": "SyntaxError",
     "evalue": "invalid syntax (<string>, line 1)",
     "output_type": "error",
     "traceback": [
      "Traceback \u001b[0;36m(most recent call last)\u001b[0m:\n",
      "  File \u001b[1;32m\"/Users/liesbeth_bogaert/opt/anaconda3/lib/python3.9/site-packages/IPython/core/interactiveshell.py\"\u001b[0m, line \u001b[1;32m3457\u001b[0m, in \u001b[1;35mrun_code\u001b[0m\n    exec(code_obj, self.user_global_ns, self.user_ns)\n",
      "\u001b[0;36m  File \u001b[0;32m\"/var/folders/n7/by5_7qbs0n53yz1t4gspd0xw0000gp/T/ipykernel_68477/18458496.py\"\u001b[0;36m, line \u001b[0;32m16\u001b[0;36m, in \u001b[0;35m<module>\u001b[0;36m\u001b[0m\n\u001b[0;31m    new = eval(f'lambda old: {op}')\u001b[0m\n",
      "\u001b[0;36m  File \u001b[0;32m\"<string>\"\u001b[0;36m, line \u001b[0;32m1\u001b[0m\n\u001b[0;31m    lambda old: *3\u001b[0m\n\u001b[0m                ^\u001b[0m\n\u001b[0;31mSyntaxError\u001b[0m\u001b[0;31m:\u001b[0m invalid syntax\n"
     ]
    }
   ],
   "source": [
    "part1 = False\n",
    "if part1:\n",
    "    rounds = 20\n",
    "else:\n",
    "    rounds = 10000\n",
    "\n",
    "inspected = defaultdict(int)\n",
    "mod = math.lcm(*test)\n",
    "\n",
    "for i in range(rounds):\n",
    "    for monkey in range(len(monkeys)):\n",
    "        op = operations[monkey]\n",
    "        for item in monkeys[monkey]:\n",
    "            inspected[monkey] += 1\n",
    "            if op[1] == 'old':\n",
    "                new = item * item\n",
    "            elif op[0] == '*':\n",
    "                new = item * int(op[1])\n",
    "            elif op[0] == '+':\n",
    "                new = item + int(op[1])\n",
    "                        \n",
    "            if part1:\n",
    "                new //= 3\n",
    "            else:\n",
    "                new %= mod\n",
    "    \n",
    "            if new % test[monkey] == 0:\n",
    "                monkeys[trues[monkey]].append(new)\n",
    "            else:\n",
    "                monkeys[falses[monkey]].append(new)\n",
    "        monkeys[monkey] = []\n",
    "\n",
    "print(monkeys)\n",
    "s = sorted(inspected.values())\n",
    "result = s[-2] * s[-1]\n",
    "print(result) "
   ]
  },
  {
   "cell_type": "code",
   "execution_count": null,
   "id": "fbe6a2a1",
   "metadata": {},
   "outputs": [],
   "source": []
  }
 ],
 "metadata": {
  "kernelspec": {
   "display_name": "Python 3 (ipykernel)",
   "language": "python",
   "name": "python3"
  },
  "language_info": {
   "codemirror_mode": {
    "name": "ipython",
    "version": 3
   },
   "file_extension": ".py",
   "mimetype": "text/x-python",
   "name": "python",
   "nbconvert_exporter": "python",
   "pygments_lexer": "ipython3",
   "version": "3.9.13"
  }
 },
 "nbformat": 4,
 "nbformat_minor": 5
}
