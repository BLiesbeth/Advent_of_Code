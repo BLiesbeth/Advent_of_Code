{
 "cells": [
  {
   "cell_type": "code",
   "execution_count": null,
   "id": "6ff638f8",
   "metadata": {},
   "outputs": [],
   "source": [
    "file = \"/Users/liesbeth_bogaert/Documents/AoC/2022/input/input_day20.txt\""
   ]
  },
  {
   "cell_type": "code",
   "execution_count": null,
   "id": "a9da816e",
   "metadata": {},
   "outputs": [],
   "source": [
    "lines = open(file).read().strip().splitlines()\n",
    "#print(lines)"
   ]
  },
  {
   "cell_type": "code",
   "execution_count": null,
   "id": "d67d8919",
   "metadata": {},
   "outputs": [],
   "source": [
    "numbers = [(int(a), i) for i, a in enumerate(lines)] # need index in tuple, because numbers are not unique!\n",
    "#numbers = [1, 2, -3, 3, -2, 0, 4]\n",
    "\n",
    "#print(numbers)"
   ]
  },
  {
   "cell_type": "code",
   "execution_count": null,
   "id": "4ed33009",
   "metadata": {},
   "outputs": [],
   "source": [
    "result = numbers.copy()\n",
    "\n",
    "for n in numbers:\n",
    "    i = result.index(n)\n",
    "    result.pop(i)\n",
    "    new_i = (i + n[0]) % (len(numbers)-1)\n",
    "    if new_i <= 0:\n",
    "        new_i = len(numbers)-1\n",
    "    result.insert(new_i, n)\n",
    "\n",
    "    #print(result)"
   ]
  },
  {
   "cell_type": "code",
   "execution_count": null,
   "id": "dfa1b7a7",
   "metadata": {},
   "outputs": [],
   "source": [
    "[zero_i] = [index for index, node in enumerate(result) if node[0] == 0]\n",
    "#print(zero_i, result[zero_i])\n",
    "\n",
    "res = 0\n",
    "for i in (1000, 2000, 3000):\n",
    "    res += result[(zero_i+i) % len(result)][0]\n",
    "\n",
    "print(res)"
   ]
  },
  {
   "cell_type": "markdown",
   "id": "e671ba1f",
   "metadata": {},
   "source": [
    "PART 2"
   ]
  },
  {
   "cell_type": "code",
   "execution_count": null,
   "id": "998ff71d",
   "metadata": {},
   "outputs": [],
   "source": [
    "key = 811589153\n",
    "numbers = [(int(a)*key, i) for i, a in enumerate(lines)] "
   ]
  },
  {
   "cell_type": "code",
   "execution_count": null,
   "id": "4a42c87a",
   "metadata": {},
   "outputs": [],
   "source": [
    "result = numbers.copy()\n",
    "for _ in range(10):\n",
    "    for n in numbers:\n",
    "        i = result.index(n)\n",
    "        result.pop(i)\n",
    "        new_i = (i + n[0]) % (len(numbers)-1)\n",
    "        if new_i <= 0:\n",
    "            new_i = len(numbers)-1\n",
    "        result.insert(new_i, n)"
   ]
  },
  {
   "cell_type": "code",
   "execution_count": null,
   "id": "db7aa737",
   "metadata": {},
   "outputs": [],
   "source": [
    "[zero_i] = [index for index, node in enumerate(result) if node[0] == 0]\n",
    "res = 0\n",
    "for i in (1000, 2000, 3000):\n",
    "    res += result[(zero_i+i) % len(result)][0]\n",
    "\n",
    "print(res)"
   ]
  }
 ],
 "metadata": {
  "kernelspec": {
   "display_name": "Python 3 (ipykernel)",
   "language": "python",
   "name": "python3"
  },
  "language_info": {
   "codemirror_mode": {
    "name": "ipython",
    "version": 3
   },
   "file_extension": ".py",
   "mimetype": "text/x-python",
   "name": "python",
   "nbconvert_exporter": "python",
   "pygments_lexer": "ipython3",
   "version": "3.9.13"
  }
 },
 "nbformat": 4,
 "nbformat_minor": 5
}
