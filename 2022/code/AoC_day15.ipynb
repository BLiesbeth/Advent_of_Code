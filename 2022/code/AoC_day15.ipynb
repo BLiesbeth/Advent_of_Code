{
 "cells": [
  {
   "cell_type": "code",
   "execution_count": 7,
   "id": "cb55155d",
   "metadata": {},
   "outputs": [],
   "source": [
    "import re"
   ]
  },
  {
   "cell_type": "code",
   "execution_count": 8,
   "id": "f35c585e",
   "metadata": {},
   "outputs": [],
   "source": [
    "file = \"/Users/liesbeth_bogaert/Documents/AoC/2022/input/input_day15.txt\""
   ]
  },
  {
   "cell_type": "code",
   "execution_count": 9,
   "id": "b5df5198",
   "metadata": {},
   "outputs": [],
   "source": [
    "lines = open(file).read().strip().splitlines()\n",
    "#print(lines)"
   ]
  },
  {
   "cell_type": "code",
   "execution_count": 10,
   "id": "5db028a7",
   "metadata": {},
   "outputs": [],
   "source": [
    "data = []\n",
    "#sensors = set()\n",
    "beacons = set()\n",
    "\n",
    "for line in lines:\n",
    "    words = line.replace('=', ' ').replace(':', '').replace(',', '').split()\n",
    "    numbers = [int(s) for s in words if re.search(\"[+-]?\\d+$\", s)]\n",
    "    sx, sy, bx, by = numbers\n",
    "    manhatten = abs(sx - bx) + abs(sy - by)\n",
    "    \n",
    "    data.append((sx, sy, bx, by, manhatten))\n",
    "    #sensors.add((sx, sy))\n",
    "    beacons.add((bx, by))\n",
    "\n",
    "#print(data)"
   ]
  },
  {
   "cell_type": "code",
   "execution_count": 11,
   "id": "f6542d8d",
   "metadata": {},
   "outputs": [
    {
     "name": "stdout",
     "output_type": "stream",
     "text": [
      "5838453\n"
     ]
    }
   ],
   "source": [
    "y = 2000000\n",
    "no_beacons = set()\n",
    "\n",
    "for sx, sy, bx, by, m in data:\n",
    "    for dx in (1, -1):\n",
    "        dist = abs(sy - y)\n",
    "        x = sx\n",
    "        while dist <= m:\n",
    "            no_beacons.add((x, y))\n",
    "            x += dx\n",
    "            dist += 1\n",
    "\n",
    "    answer = len(no_beacons - beacons)\n",
    "\n",
    "print(answer)"
   ]
  },
  {
   "cell_type": "code",
   "execution_count": 12,
   "id": "32883fbc",
   "metadata": {},
   "outputs": [
    {
     "name": "stdout",
     "output_type": "stream",
     "text": [
      "12413999391794\n"
     ]
    }
   ],
   "source": [
    "find = 4000000\n",
    "\n",
    "for y in range(find + 1):\n",
    "    ranges = []\n",
    "    for sx, sy, bx, by, m in data:\n",
    "        dist = abs(sy - y)\n",
    "        if dist <= m:\n",
    "            diff = m - dist\n",
    "            s = max(0, sx - diff)\n",
    "            e = min(find, sx + diff)\n",
    "            ranges.append((s, e))\n",
    "\n",
    "    end = 0\n",
    "    for (s, e) in sorted(ranges):\n",
    "        if end >= s:\n",
    "            end = max(end, e)\n",
    "        else:\n",
    "            print((end + 1) * 4000000 + y)\n",
    "            break\n"
   ]
  },
  {
   "cell_type": "code",
   "execution_count": null,
   "id": "fada9c07",
   "metadata": {},
   "outputs": [],
   "source": []
  }
 ],
 "metadata": {
  "kernelspec": {
   "display_name": "Python 3 (ipykernel)",
   "language": "python",
   "name": "python3"
  },
  "language_info": {
   "codemirror_mode": {
    "name": "ipython",
    "version": 3
   },
   "file_extension": ".py",
   "mimetype": "text/x-python",
   "name": "python",
   "nbconvert_exporter": "python",
   "pygments_lexer": "ipython3",
   "version": "3.9.13"
  }
 },
 "nbformat": 4,
 "nbformat_minor": 5
}
