{
 "cells": [
  {
   "cell_type": "code",
   "execution_count": null,
   "id": "7a579d03",
   "metadata": {},
   "outputs": [],
   "source": [
    "import numpy as np"
   ]
  },
  {
   "cell_type": "code",
   "execution_count": null,
   "id": "004b4264",
   "metadata": {},
   "outputs": [],
   "source": [
    "#file = \"/Users/liesbeth_bogaert/Documents/AoC/2022/input/input_day22_example.txt\"\n",
    "file = \"/Users/liesbeth_bogaert/Documents/AoC/2022/input/input_day22.txt\""
   ]
  },
  {
   "cell_type": "code",
   "execution_count": null,
   "id": "8509dfd6",
   "metadata": {},
   "outputs": [],
   "source": [
    "lines = open(file).read().splitlines()\n",
    "#print(lines)"
   ]
  },
  {
   "cell_type": "code",
   "execution_count": null,
   "id": "b5b26623",
   "metadata": {},
   "outputs": [],
   "source": [
    "map = lines[:-2]\n",
    "steps = lines[-1].replace('R', ' R ').replace('L', ' L ').split(' ')\n",
    "\n",
    "for i, s in enumerate(steps):\n",
    "    if s.isdigit():\n",
    "        steps[i] = int(s)\n",
    "\n",
    "print(steps)\n",
    "print(map)"
   ]
  },
  {
   "cell_type": "code",
   "execution_count": null,
   "id": "d394b5d0",
   "metadata": {},
   "outputs": [],
   "source": [
    "grid = {}\n",
    "start = None\n",
    "\n",
    "for y, row in enumerate(map, start=1):\n",
    "    for x, val in enumerate(row, start=1):\n",
    "        if val in '.#':\n",
    "            if start is None:\n",
    "                start = (x, y)\n",
    "            grid[x,y] = val\n",
    "            \n",
    "print(start)"
   ]
  },
  {
   "cell_type": "code",
   "execution_count": null,
   "id": "99f8e783",
   "metadata": {},
   "outputs": [],
   "source": [
    "dx = 1\n",
    "dy = 0\n",
    "\n",
    "x, y = start\n",
    "\n",
    "for step in steps:\n",
    "    if isinstance(step, int):\n",
    "        for _ in range(step):\n",
    "            nx, ny = x + dx, y + dy\n",
    "            cell = grid.get((nx, ny))\n",
    "            \n",
    "            if cell is None: #END of the map -> wrapping around\n",
    "                nnx, nny = x, y\n",
    "                while (nnx, nny) in grid:\n",
    "                    nx, ny = nnx, nny\n",
    "                    nnx -= dx\n",
    "                    nny -= dy\n",
    "                cell = grid[nx,ny]\n",
    "                \n",
    "            if cell == '#': #Hit the wall\n",
    "                break \n",
    "            x, y = nx, ny\n",
    "            \n",
    "    elif step == 'R':\n",
    "        dy, dx = dx, -dy\n",
    "    elif step == 'L':\n",
    "        dx, dy = dy, -dx\n",
    "\n",
    "print(x,y,dx,dy)\n"
   ]
  },
  {
   "cell_type": "code",
   "execution_count": null,
   "id": "ffdb0148",
   "metadata": {},
   "outputs": [],
   "source": [
    "# dx, dy\n",
    "direction = {\n",
    "    (1, 0): 0,\n",
    "    (0, 1): 1,\n",
    "    (-1, 0): 2,\n",
    "    (0, -1): 3,\n",
    "}\n",
    "\n",
    "result = 1000 * y + 4 * x + direction[dx,dy]\n",
    "print(result)"
   ]
  },
  {
   "cell_type": "markdown",
   "id": "2954064d",
   "metadata": {},
   "source": [
    "Part 2"
   ]
  },
  {
   "cell_type": "code",
   "execution_count": null,
   "id": "3ee644f0",
   "metadata": {},
   "outputs": [],
   "source": [
    "def wrap(x, y, dx, dy):\n",
    "    \n",
    "    if dx == 1:\n",
    "        # Right\n",
    "        if x == 150:\n",
    "            return 100, 151-y, -1, 0\n",
    "        if x == 100:\n",
    "            if 51 <= y <= 100:\n",
    "                return 100 + (y - 50), 50, 0, -1\n",
    "            if 101 <= y <= 150:\n",
    "                return 150, 51 - (y - 100), -1, 0\n",
    "        if x == 50:\n",
    "            return 50 + (y - 150), 150, 0, -1\n",
    "        \n",
    "    elif dx == -1:\n",
    "        # Left\n",
    "        if x == 51:\n",
    "            if 1 <= y <= 50:\n",
    "                return 1, 151 - y, 1, 0\n",
    "            if 51 <= y <= 100:\n",
    "                return y - 50, 101, 0, 1\n",
    "        if x == 1:\n",
    "            if 101 <= y <= 150:\n",
    "                return 51, 1 + (150 - y), 1, 0\n",
    "            if 151 <= y <= 200:\n",
    "                return y - 150 + 50, 1, 0, 1\n",
    "            \n",
    "    elif dy == 1:\n",
    "        # Down\n",
    "        if y == 50:\n",
    "            return 100, x - 50, -1, 0\n",
    "        if y == 150:\n",
    "            return 50, x + 100, -1, 0\n",
    "        if y == 200:\n",
    "            return x + 100, 1, 0, 1\n",
    "        \n",
    "    elif dy == -1:\n",
    "        # Up\n",
    "        if y == 1:\n",
    "            if 51 <= x <= 100:\n",
    "                return 1, x+100, 1, 0\n",
    "            if 101 <= x <= 150:\n",
    "                return x-100, 200, 0, -1\n",
    "        if y == 101:\n",
    "            return 51, x+50, 1, 0\n"
   ]
  },
  {
   "cell_type": "code",
   "execution_count": null,
   "id": "bf04d6df",
   "metadata": {},
   "outputs": [],
   "source": [
    "dx = 1\n",
    "dy = 0\n",
    "\n",
    "x, y = start\n",
    "\n",
    "for step in steps:\n",
    "    if isinstance(step, int):\n",
    "        for _ in range(step):\n",
    "            nx, ny = x + dx, y + dy\n",
    "            cell = grid.get((nx, ny))\n",
    "            \n",
    "            if cell is None:\n",
    "                nx, ny, ndx, ndy = wrap(x, y, dx, dy) \n",
    "                cell = grid[nx,ny]\n",
    "                \n",
    "                if cell == '#':\n",
    "                    break \n",
    "                x, y = nx, ny\n",
    "                dx, dy = ndx, ndy\n",
    "            elif cell == '#':\n",
    "                break \n",
    "            x, y = nx, ny\n",
    "            \n",
    "    elif step == 'R':\n",
    "        dy, dx = dx, -dy\n",
    "    elif step == 'L':\n",
    "        dx, dy = dy, -dx"
   ]
  },
  {
   "cell_type": "code",
   "execution_count": null,
   "id": "7a8ff944",
   "metadata": {},
   "outputs": [],
   "source": [
    "result = 1000 * y + 4 * x + direction[dx,dy]\n",
    "print(result)"
   ]
  }
 ],
 "metadata": {
  "kernelspec": {
   "display_name": "Python 3 (ipykernel)",
   "language": "python",
   "name": "python3"
  },
  "language_info": {
   "codemirror_mode": {
    "name": "ipython",
    "version": 3
   },
   "file_extension": ".py",
   "mimetype": "text/x-python",
   "name": "python",
   "nbconvert_exporter": "python",
   "pygments_lexer": "ipython3",
   "version": "3.9.13"
  }
 },
 "nbformat": 4,
 "nbformat_minor": 5
}
