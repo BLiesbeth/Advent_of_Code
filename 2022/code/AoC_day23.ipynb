{
 "cells": [
  {
   "cell_type": "code",
   "execution_count": 1,
   "id": "67743ed6",
   "metadata": {},
   "outputs": [],
   "source": [
    "from collections import defaultdict"
   ]
  },
  {
   "cell_type": "code",
   "execution_count": 2,
   "id": "fa90f474",
   "metadata": {},
   "outputs": [],
   "source": [
    "file = \"/Users/liesbeth_bogaert/Documents/AoC/2022/input/input_day23.txt\""
   ]
  },
  {
   "cell_type": "code",
   "execution_count": 3,
   "id": "b9c641d9",
   "metadata": {},
   "outputs": [],
   "source": [
    "lines = open(file).read().splitlines()\n",
    "#print(lines)"
   ]
  },
  {
   "cell_type": "code",
   "execution_count": 4,
   "id": "3771ed92",
   "metadata": {},
   "outputs": [],
   "source": [
    "grid = {(x, y)\n",
    "      for y, r in enumerate(lines)\n",
    "      for x, c in enumerate(r.strip('\\n'))\n",
    "      if c == '#' }\n",
    "\n",
    "positions = [[(-1, -1), (0, -1), (1, -1)],\n",
    "               [(-1, 1), (0, 1), (1, 1)], \n",
    "               [(-1, -1), (-1, 0), (-1, 1)],\n",
    "               [(1, -1), (1, 0), (1, 1)]]"
   ]
  },
  {
   "cell_type": "code",
   "execution_count": 5,
   "id": "94e93f26",
   "metadata": {},
   "outputs": [],
   "source": [
    "def solve():\n",
    "    global positions\n",
    "    global grid\n",
    "    \n",
    "    targets = defaultdict(list)\n",
    "\n",
    "    for x, y in grid:\n",
    "        if not any((tx, ty) in grid\n",
    "                   for tx in (x-1, x, x+1)\n",
    "                   for ty in (y-1, y, y+1)\n",
    "                   if tx != x or ty != y):\n",
    "            continue\n",
    "\n",
    "        for pos in positions:\n",
    "            if not any((x+dx, y+dy) in grid\n",
    "                       for dx, dy in pos):\n",
    "                dx, dy = pos[1] \n",
    "                targets[x+dx, y+dy].append((x, y))\n",
    "                break\n",
    "\n",
    "    positions = positions[1:] + positions[:1]\n",
    "\n",
    "    moves = 0\n",
    "\n",
    "    for (tx, ty), elves in targets.items():\n",
    "        if len(elves) > 1:\n",
    "            continue\n",
    "        grid.add((tx, ty))\n",
    "        grid.remove(elves[0])\n",
    "        moves += 1\n",
    "    \n",
    "    return moves > 0"
   ]
  },
  {
   "cell_type": "code",
   "execution_count": 6,
   "id": "cd0b9de8",
   "metadata": {},
   "outputs": [
    {
     "name": "stdout",
     "output_type": "stream",
     "text": [
      "4052\n"
     ]
    }
   ],
   "source": [
    "for _ in range(10):\n",
    "    solve()\n",
    "\n",
    "min_x = min(x for x, y in grid)\n",
    "max_x = max(x for x, y in grid)\n",
    "min_y = min(y for x, y in grid)\n",
    "max_y = max(y for x, y in grid)\n",
    "\n",
    "answer = (max_x - min_x + 1) * (max_y - min_y + 1) - len(grid)\n",
    "print(answer)"
   ]
  },
  {
   "cell_type": "markdown",
   "id": "912798f6",
   "metadata": {},
   "source": [
    "Part 2"
   ]
  },
  {
   "cell_type": "code",
   "execution_count": 7,
   "id": "be49ef76",
   "metadata": {},
   "outputs": [],
   "source": [
    "grid = {(x, y)\n",
    "      for y, r in enumerate(lines)\n",
    "      for x, c in enumerate(r.strip('\\n'))\n",
    "      if c == '#' }\n",
    "\n",
    "positions = [[(-1, -1), (0, -1), (1, -1)],\n",
    "               [(-1, 1), (0, 1), (1, 1)], \n",
    "               [(-1, -1), (-1, 0), (-1, 1)],\n",
    "               [(1, -1), (1, 0), (1, 1)]]"
   ]
  },
  {
   "cell_type": "code",
   "execution_count": 8,
   "id": "cb135cf4",
   "metadata": {},
   "outputs": [
    {
     "name": "stdout",
     "output_type": "stream",
     "text": [
      "978\n"
     ]
    }
   ],
   "source": [
    "rounds = 0\n",
    "while solve():\n",
    "    rounds += 1\n",
    "\n",
    "answer = rounds + 1\n",
    "print(answer)"
   ]
  }
 ],
 "metadata": {
  "kernelspec": {
   "display_name": "Python 3 (ipykernel)",
   "language": "python",
   "name": "python3"
  },
  "language_info": {
   "codemirror_mode": {
    "name": "ipython",
    "version": 3
   },
   "file_extension": ".py",
   "mimetype": "text/x-python",
   "name": "python",
   "nbconvert_exporter": "python",
   "pygments_lexer": "ipython3",
   "version": "3.9.13"
  }
 },
 "nbformat": 4,
 "nbformat_minor": 5
}
