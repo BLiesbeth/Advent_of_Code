{
 "cells": [
  {
   "cell_type": "code",
   "execution_count": 82,
   "id": "8a1d4a21",
   "metadata": {},
   "outputs": [],
   "source": [
    "file = \"/Users/liesbeth_bogaert/Documents/AoC/2022/input/input_day10.txt\""
   ]
  },
  {
   "cell_type": "code",
   "execution_count": 83,
   "id": "85402c90",
   "metadata": {},
   "outputs": [
    {
     "name": "stdout",
     "output_type": "stream",
     "text": [
      "['noop', 'noop', 'addx 15', 'addx -10', 'noop', 'noop', 'addx 3', 'noop', 'noop', 'addx 7', 'addx 1', 'addx 4', 'addx -1', 'addx 1', 'addx 5', 'addx 1', 'noop', 'noop', 'addx 5', 'addx -1', 'noop', 'addx 3', 'noop', 'addx 3', 'addx -38', 'noop', 'addx 3', 'addx 2', 'addx 5', 'addx 2', 'addx 26', 'addx -21', 'addx -2', 'addx 5', 'addx 2', 'addx -14', 'addx 15', 'noop', 'addx 7', 'noop', 'addx 2', 'addx -22', 'addx 23', 'addx 2', 'addx 5', 'addx -40', 'noop', 'noop', 'addx 3', 'addx 2', 'noop', 'addx 24', 'addx -19', 'noop', 'noop', 'noop', 'addx 5', 'addx 5', 'addx 2', 'noop', 'noop', 'noop', 'noop', 'addx 7', 'noop', 'addx 3', 'noop', 'addx 3', 'addx -2', 'addx 2', 'addx 5', 'addx -38', 'noop', 'noop', 'noop', 'addx 5', 'addx 2', 'addx -1', 'addx 2', 'addx 30', 'addx -23', 'noop', 'noop', 'noop', 'noop', 'addx 3', 'addx 5', 'addx -11', 'addx 12', 'noop', 'addx 6', 'addx 1', 'noop', 'addx 4', 'addx 3', 'noop', 'addx -40', 'addx 4', 'addx 28', 'addx -27', 'addx 5', 'addx 2', 'addx 5', 'noop', 'noop', 'addx -2', 'addx 2', 'addx 5', 'addx 3', 'noop', 'addx 2', 'addx -25', 'addx 30', 'noop', 'addx 3', 'addx -2', 'addx 2', 'addx 5', 'addx -39', 'addx 29', 'addx -27', 'addx 5', 'noop', 'noop', 'noop', 'addx 4', 'noop', 'addx 1', 'addx 2', 'addx 5', 'addx 2', 'noop', 'noop', 'noop', 'noop', 'addx 5', 'addx 1', 'noop', 'addx 2', 'addx 5', 'addx -32', 'addx 34', 'noop', 'noop', 'noop', 'noop']\n"
     ]
    }
   ],
   "source": [
    "lines = open(file).read().strip().splitlines()\n",
    "print(lines)"
   ]
  },
  {
   "cell_type": "code",
   "execution_count": 64,
   "id": "0f9817bb",
   "metadata": {},
   "outputs": [],
   "source": [
    "test = \"/Users/liesbeth_bogaert/Documents/AoC/2022/input/input_day10_example.txt\"\n",
    "test = open(test).read().strip().splitlines()\n",
    "#print(test)"
   ]
  },
  {
   "cell_type": "code",
   "execution_count": 81,
   "id": "9c97895b",
   "metadata": {},
   "outputs": [
    {
     "name": "stdout",
     "output_type": "stream",
     "text": [
      "14420\n",
      "███   ██  █    ███  ███  ████  ██  █  █                     \n",
      "█  █ █  █ █    █  █ █  █    █ █  █ █  █                     \n",
      "█  █ █    █    █  █ ███    █  █  █ █  █                     \n",
      "███  █ ██ █    ███  █  █  █   ████ █  █                     \n",
      "█ █  █  █ █    █ █  █  █ █    █  █ █  █                     \n",
      "█  █  ███ ████ █  █ ███  ████ █  █  ██                      \n"
     ]
    }
   ],
   "source": [
    "cycle = 0\n",
    "x = 1\n",
    "signal = 0\n",
    "\n",
    "crt = [[\" \" for x in range(60)] for y in range(6)]\n",
    "\n",
    "def runCycle():\n",
    "    global cycle, x, signal\n",
    "    #print(cycle, x, signal)\n",
    "    cycle += 1\n",
    "    if cycle in (20, 60, 100, 140, 180, 220):\n",
    "        signal += cycle*x\n",
    "    if abs((cycle-1)%40-x) <= 1:\n",
    "        crt[(cycle-1)//40][(cycle-1)%40] = u\"\\u2588\"\n",
    "\n",
    "for line in lines:\n",
    "    if line == 'noop':\n",
    "        runCycle()\n",
    "    else:\n",
    "        instr, num = line.split(' ')\n",
    "        for i in range(2):\n",
    "            runCycle()\n",
    "        x += int(num)\n",
    "\n",
    "print(signal)\n",
    "\n",
    "for l in crt:\n",
    "    print(\"\".join(l))"
   ]
  },
  {
   "cell_type": "code",
   "execution_count": null,
   "id": "8fc3b3a6",
   "metadata": {},
   "outputs": [],
   "source": [
    "RGLRBZAU"
   ]
  }
 ],
 "metadata": {
  "kernelspec": {
   "display_name": "Python 3 (ipykernel)",
   "language": "python",
   "name": "python3"
  },
  "language_info": {
   "codemirror_mode": {
    "name": "ipython",
    "version": 3
   },
   "file_extension": ".py",
   "mimetype": "text/x-python",
   "name": "python",
   "nbconvert_exporter": "python",
   "pygments_lexer": "ipython3",
   "version": "3.9.13"
  }
 },
 "nbformat": 4,
 "nbformat_minor": 5
}
