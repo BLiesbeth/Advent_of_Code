{
 "cells": [
  {
   "cell_type": "code",
   "execution_count": null,
   "id": "16a66157",
   "metadata": {},
   "outputs": [],
   "source": [
    "from collections import defaultdict"
   ]
  },
  {
   "cell_type": "code",
   "execution_count": null,
   "id": "2da76365",
   "metadata": {},
   "outputs": [],
   "source": [
    "file = \"/Users/liesbeth_bogaert/Documents/AoC/2022/input/input_day7.txt\""
   ]
  },
  {
   "cell_type": "code",
   "execution_count": null,
   "id": "b152cf71",
   "metadata": {},
   "outputs": [],
   "source": [
    "lines = open(file).read().strip().splitlines()\n",
    "#print(lines)"
   ]
  },
  {
   "cell_type": "code",
   "execution_count": null,
   "id": "f26b118b",
   "metadata": {},
   "outputs": [],
   "source": [
    "directories = defaultdict(int)\n",
    "current_path = []\n",
    "\n",
    "for line in lines:\n",
    "    words = line.strip().split()\n",
    "    #print(words)\n",
    "    \n",
    "    if words[1] == 'cd':\n",
    "        if words[2] == '..':\n",
    "            current_path.pop()\n",
    "        else:\n",
    "            current_path.append(words[2])\n",
    "            \n",
    "    elif words[0].isdigit():\n",
    "        size = int(words[0])\n",
    "        for i in range(1, len(current_path)+1):\n",
    "            directories['/'.join(current_path[:i])] += size\n",
    "\n",
    "print(directories)"
   ]
  },
  {
   "cell_type": "code",
   "execution_count": null,
   "id": "96659de8",
   "metadata": {},
   "outputs": [],
   "source": [
    "max = 70000000 - 30000000\n",
    "total = directories['/']\n",
    "need = total - max\n",
    "#print(max, total, need)\n",
    "\n",
    "part1 = 0\n",
    "part2 = 1000000000\n",
    "\n",
    "for path, size in directories.items():\n",
    "    #print(path,size)\n",
    "    if size <= 100000:\n",
    "        part1 += size\n",
    "    if size >= need:\n",
    "        part2 = min(part2, size)\n",
    "\n",
    "print(part1)\n",
    "print(part2)"
   ]
  },
  {
   "cell_type": "code",
   "execution_count": null,
   "id": "a516c95f",
   "metadata": {},
   "outputs": [],
   "source": []
  }
 ],
 "metadata": {
  "kernelspec": {
   "display_name": "Python 3 (ipykernel)",
   "language": "python",
   "name": "python3"
  },
  "language_info": {
   "codemirror_mode": {
    "name": "ipython",
    "version": 3
   },
   "file_extension": ".py",
   "mimetype": "text/x-python",
   "name": "python",
   "nbconvert_exporter": "python",
   "pygments_lexer": "ipython3",
   "version": "3.9.13"
  }
 },
 "nbformat": 4,
 "nbformat_minor": 5
}
