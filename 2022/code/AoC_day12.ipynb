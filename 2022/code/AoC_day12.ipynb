{
 "cells": [
  {
   "cell_type": "code",
   "execution_count": 1,
   "id": "ad6a51a2",
   "metadata": {},
   "outputs": [],
   "source": [
    "from collections import deque"
   ]
  },
  {
   "cell_type": "code",
   "execution_count": 2,
   "id": "a3335a2b",
   "metadata": {},
   "outputs": [],
   "source": [
    "file = \"/Users/liesbeth_bogaert/Documents/AoC/2022/input/input_day12.txt\""
   ]
  },
  {
   "cell_type": "code",
   "execution_count": 3,
   "id": "3bb7661f",
   "metadata": {},
   "outputs": [],
   "source": [
    "lines = open(file).read().strip().splitlines()\n",
    "#print(lines)"
   ]
  },
  {
   "cell_type": "code",
   "execution_count": 18,
   "id": "17be7655",
   "metadata": {},
   "outputs": [],
   "source": [
    "input = []\n",
    "for line in lines:\n",
    "    l = []\n",
    "    for ch in line:\n",
    "        l.append(ch)\n",
    "    input.append(l)\n",
    "#print(input)"
   ]
  },
  {
   "cell_type": "code",
   "execution_count": 19,
   "id": "5efe8220",
   "metadata": {},
   "outputs": [
    {
     "name": "stdout",
     "output_type": "stream",
     "text": [
      "(20, 0) (20, 154)\n"
     ]
    }
   ],
   "source": [
    "start = (0, 0)\n",
    "end = (0, 0)\n",
    "\n",
    "starts = []\n",
    "\n",
    "for r in range(len(input)):\n",
    "    for c in range(len(input[0])):\n",
    "        if input[r][c] == 'S':\n",
    "            start = (r, c)\n",
    "            input[r][c] = 'a'\n",
    "        if input[r][c] == 'E':\n",
    "            end = (r, c)\n",
    "            input[r][c] = 'z'\n",
    "        if input[r][c] == 'a':\n",
    "            starts.append((r, c))\n",
    "            \n",
    "print(start, end)\n",
    "#print(starts)"
   ]
  },
  {
   "cell_type": "code",
   "execution_count": 37,
   "id": "92776979",
   "metadata": {},
   "outputs": [],
   "source": [
    "q = deque()\n",
    "p = {}\n",
    "\n",
    "part1 = True\n",
    "\n",
    "if part1:\n",
    "    q.append((start, 0))\n",
    "    p[start] = 0\n",
    "else:\n",
    "    for pos in starts:\n",
    "        q.append((pos, 0))\n",
    "        p[pos] = 0"
   ]
  },
  {
   "cell_type": "code",
   "execution_count": 38,
   "id": "90681fc5",
   "metadata": {},
   "outputs": [
    {
     "name": "stdout",
     "output_type": "stream",
     "text": [
      "484\n",
      "484\n"
     ]
    }
   ],
   "source": [
    "directions = [[-1, 0], [1, 0], [0, -1], [0, 1]]\n",
    "\n",
    "while q:\n",
    "    (x, y), d = q.popleft()\n",
    "    if (x, y) == end:\n",
    "        print(d)\n",
    "        break\n",
    "\n",
    "    for dx, dy in directions:\n",
    "        nx, ny = x+dx, y+dy\n",
    "        if (0 <= nx < len(input) and 0 <= ny < len(input[0]) and (nx, ny) not in p and ord(input[nx][ny]) - ord(input[x][y]) <= 1):\n",
    "            q.append(((nx, ny), d+1))\n",
    "            p[(nx, ny)] = p[(x, y)] + 1\n",
    "\n",
    "#print(p)\n",
    "print(p[end])"
   ]
  },
  {
   "cell_type": "code",
   "execution_count": null,
   "id": "c6366aad",
   "metadata": {},
   "outputs": [],
   "source": []
  },
  {
   "cell_type": "code",
   "execution_count": null,
   "id": "d109fbee",
   "metadata": {},
   "outputs": [],
   "source": []
  }
 ],
 "metadata": {
  "kernelspec": {
   "display_name": "Python 3 (ipykernel)",
   "language": "python",
   "name": "python3"
  },
  "language_info": {
   "codemirror_mode": {
    "name": "ipython",
    "version": 3
   },
   "file_extension": ".py",
   "mimetype": "text/x-python",
   "name": "python",
   "nbconvert_exporter": "python",
   "pygments_lexer": "ipython3",
   "version": "3.9.13"
  }
 },
 "nbformat": 4,
 "nbformat_minor": 5
}
