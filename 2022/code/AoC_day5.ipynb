{
 "cells": [
  {
   "cell_type": "code",
   "execution_count": null,
   "id": "75620c2b",
   "metadata": {},
   "outputs": [],
   "source": [
    "import pandas as pd"
   ]
  },
  {
   "cell_type": "code",
   "execution_count": null,
   "id": "b6e745ce",
   "metadata": {},
   "outputs": [],
   "source": [
    "file = \"/Users/liesbeth_bogaert/Documents/AoC/2022/input/input_day5.txt\""
   ]
  },
  {
   "cell_type": "code",
   "execution_count": null,
   "id": "b67d9639",
   "metadata": {},
   "outputs": [],
   "source": [
    "lines = open(file).read().splitlines()\n",
    "df = pd.DataFrame(lines, columns=['input'])\n",
    "#print(lines)"
   ]
  },
  {
   "cell_type": "code",
   "execution_count": null,
   "id": "99631a0b",
   "metadata": {},
   "outputs": [],
   "source": [
    "stacks = df.head(8).iloc[::-1].reset_index(drop=True)\n",
    "stacks['input'] = stacks['input'].str.replace('    ', ' [ ]', regex=True).str.replace('[', '', regex=True).str.replace(']', ',', regex=True).str.replace(' ', '', regex=True)\n",
    "print(stacks)"
   ]
  },
  {
   "cell_type": "code",
   "execution_count": null,
   "id": "f33e88da",
   "metadata": {},
   "outputs": [],
   "source": [
    "def getStacks():\n",
    "    queues = [[] for i in range(len(stacks)+1)]\n",
    "\n",
    "    for i, row in stacks.iterrows():\n",
    "        line = row.str.split(',')\n",
    "        for a in range(0,len(line[0])):\n",
    "            if line[0][a] != '':\n",
    "                queues[a].append(line[0][a])\n",
    "    return queues"
   ]
  },
  {
   "cell_type": "code",
   "execution_count": null,
   "id": "74f30d40",
   "metadata": {},
   "outputs": [],
   "source": [
    "instructions = df.iloc[10:,:]\n",
    "instructions['numbers'] = instructions['input'].str.findall(r'(\\d+(?:)?)')\n",
    "instructions = pd.DataFrame(instructions['numbers'].to_list(), columns=['number', 'from', 'to']).astype('int')\n",
    "print(instructions)"
   ]
  },
  {
   "cell_type": "code",
   "execution_count": null,
   "id": "f223328d",
   "metadata": {},
   "outputs": [],
   "source": [
    "s1 = getStacks()\n",
    "for i, row in instructions.iterrows():\n",
    "    for n in range(row.number):\n",
    "        el = s1[row['from']-1].pop()\n",
    "        s1[row['to']-1].append(el)\n",
    "pd.DataFrame(s1)"
   ]
  },
  {
   "cell_type": "code",
   "execution_count": null,
   "id": "707f9111",
   "metadata": {},
   "outputs": [],
   "source": [
    "def getword(s):\n",
    "    word = ''\n",
    "    for i in range(len(s)):\n",
    "        word += s[i].pop()\n",
    "    return(word)\n",
    "\n",
    "print(getword(s1))"
   ]
  },
  {
   "cell_type": "code",
   "execution_count": null,
   "id": "864d1aab",
   "metadata": {},
   "outputs": [],
   "source": [
    "s2 = getStacks()\n",
    "for i, row in instructions.iterrows():\n",
    "    el = []\n",
    "    for n in range(row.number):\n",
    "        element = s2[row['from']-1].pop()\n",
    "        el.append(element)\n",
    "    for n in range(len(el)):\n",
    "        s2[row['to']-1].append(el.pop())\n",
    "pd.DataFrame(s2)"
   ]
  },
  {
   "cell_type": "code",
   "execution_count": null,
   "id": "c97e9a55",
   "metadata": {},
   "outputs": [],
   "source": [
    "print(getword(s2))"
   ]
  },
  {
   "cell_type": "code",
   "execution_count": null,
   "id": "4b7436e9",
   "metadata": {},
   "outputs": [],
   "source": []
  }
 ],
 "metadata": {
  "kernelspec": {
   "display_name": "Python 3 (ipykernel)",
   "language": "python",
   "name": "python3"
  },
  "language_info": {
   "codemirror_mode": {
    "name": "ipython",
    "version": 3
   },
   "file_extension": ".py",
   "mimetype": "text/x-python",
   "name": "python",
   "nbconvert_exporter": "python",
   "pygments_lexer": "ipython3",
   "version": "3.9.13"
  }
 },
 "nbformat": 4,
 "nbformat_minor": 5
}
