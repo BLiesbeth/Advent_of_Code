{
 "cells": [
  {
   "cell_type": "code",
   "execution_count": null,
   "id": "6c4b91c8",
   "metadata": {},
   "outputs": [],
   "source": [
    "import pandas as pd\n",
    "import numpy as np\n"
   ]
  },
  {
   "cell_type": "code",
   "execution_count": null,
   "id": "3b695280",
   "metadata": {},
   "outputs": [],
   "source": [
    "file = \"/Users/liesbeth_bogaert/Documents/AoC/2021/input/input_day4.txt\""
   ]
  },
  {
   "cell_type": "code",
   "execution_count": null,
   "id": "29cdee55",
   "metadata": {},
   "outputs": [],
   "source": [
    "lines = open(file).read().splitlines()\n",
    "#print(lines)\n",
    "#print(len(lines))"
   ]
  },
  {
   "cell_type": "code",
   "execution_count": null,
   "id": "d05aa033",
   "metadata": {},
   "outputs": [],
   "source": [
    "input = list(map(int, lines[0].split(',')))\n",
    "print(input)\n",
    "\n",
    "lines.pop(0)\n",
    "lines.pop(0)"
   ]
  },
  {
   "cell_type": "code",
   "execution_count": null,
   "id": "06a7bea1",
   "metadata": {},
   "outputs": [],
   "source": [
    "boards = []\n",
    "numbers = []\n",
    "\n",
    "for row in lines:\n",
    "    if row != '':\n",
    "        numbers.append(list(map(int, row.split())))\n",
    "    else:\n",
    "        boards.append(numbers)\n",
    "        numbers = []\n",
    "boards.append(numbers)\n",
    "\n",
    "#print(boards)"
   ]
  },
  {
   "cell_type": "code",
   "execution_count": null,
   "id": "e26c0376",
   "metadata": {},
   "outputs": [],
   "source": [
    "results = np.array(boards)\n",
    "#print(results)\n",
    "\n",
    "for number in input:\n",
    "    #print(number)\n",
    "    results = [np.where(board == number, -1, board) for board in results]\n",
    "\n",
    "    for board in results:\n",
    "        column_sums = [sum([row[i] for row in board]) for i in range(0,len(board[0]))]\n",
    "        row_sums = [sum(row) for row in board]\n",
    "        total = sum(map(sum, board))\n",
    "\n",
    "\n",
    "        if (-5 in column_sums or -5 in row_sums) and total > -25:\n",
    "            #print(results)\n",
    "            boardsum = 0\n",
    "            for row in board:\n",
    "                boardsum += sum(x for x in row if x > 0)\n",
    "            print(boardsum, boardsum*number)\n",
    "            board.fill(-1)\n",
    "\n",
    "\n"
   ]
  },
  {
   "cell_type": "code",
   "execution_count": null,
   "id": "77985847",
   "metadata": {},
   "outputs": [],
   "source": []
  }
 ],
 "metadata": {
  "kernelspec": {
   "display_name": "Python 3 (ipykernel)",
   "language": "python",
   "name": "python3"
  },
  "language_info": {
   "codemirror_mode": {
    "name": "ipython",
    "version": 3
   },
   "file_extension": ".py",
   "mimetype": "text/x-python",
   "name": "python",
   "nbconvert_exporter": "python",
   "pygments_lexer": "ipython3",
   "version": "3.9.13"
  }
 },
 "nbformat": 4,
 "nbformat_minor": 5
}
