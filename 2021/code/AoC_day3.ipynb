{
 "cells": [
  {
   "cell_type": "code",
   "execution_count": null,
   "id": "cbf59ef7",
   "metadata": {},
   "outputs": [],
   "source": [
    "import pandas as pd"
   ]
  },
  {
   "cell_type": "code",
   "execution_count": null,
   "id": "2ef806a1",
   "metadata": {},
   "outputs": [],
   "source": [
    "file = \"/Users/liesbeth_bogaert/Documents/AoC/2021/input/input_day3.txt\""
   ]
  },
  {
   "cell_type": "code",
   "execution_count": null,
   "id": "da7a5267",
   "metadata": {},
   "outputs": [],
   "source": [
    "lines = open(file).read().splitlines()\n",
    "data = pd.DataFrame(lines, columns=['code'])\n",
    "print(data)\n",
    "print(len(lines))"
   ]
  },
  {
   "cell_type": "code",
   "execution_count": null,
   "id": "7f6a1876",
   "metadata": {},
   "outputs": [],
   "source": [
    "df = data['code'].str.split('', expand=True)\n",
    "\n",
    "df.replace('', float('NaN'), inplace=True)\n",
    "df.dropna(inplace=True, axis=1)\n",
    "\n",
    "print(df)"
   ]
  },
  {
   "cell_type": "code",
   "execution_count": null,
   "id": "46ff6725",
   "metadata": {
    "scrolled": true
   },
   "outputs": [],
   "source": [
    "results = df.apply(pd.value_counts)\n",
    "print(results)"
   ]
  },
  {
   "cell_type": "code",
   "execution_count": null,
   "id": "3b06264e",
   "metadata": {},
   "outputs": [],
   "source": [
    "gamma = ''\n",
    "epsilon = ''\n",
    "\n",
    "for i in range(1,13):\n",
    "    g = results[i].idxmax()\n",
    "    gamma += g\n",
    "    \n",
    "    e = results[i].idxmin()\n",
    "    epsilon += e\n",
    "\n",
    "print(gamma)\n",
    "print(epsilon)"
   ]
  },
  {
   "cell_type": "code",
   "execution_count": null,
   "id": "5ff0f55a",
   "metadata": {},
   "outputs": [],
   "source": [
    "gamma = int(gamma, 2)\n",
    "epsilon = int(epsilon, 2)\n",
    "\n",
    "print(gamma)\n",
    "print(epsilon)\n",
    "\n",
    "result = gamma * epsilon\n",
    "print(result)"
   ]
  },
  {
   "cell_type": "code",
   "execution_count": null,
   "id": "cc16cbb1",
   "metadata": {},
   "outputs": [],
   "source": [
    "oxygen = df\n",
    "counts = results\n",
    "\n",
    "for i in range(1,13):\n",
    "    if counts[i][1] == counts[i][0]:\n",
    "        oxygen = oxygen[oxygen[i] != '0']\n",
    "    else:   \n",
    "        oxygen = oxygen[oxygen[i] != counts[i].idxmin()]\n",
    "    counts = oxygen.apply(pd.value_counts)\n",
    "    #print(oxygen)\n",
    "    #print(counts)\n",
    "\n",
    "oxygen = oxygen.reset_index()\n",
    "print(oxygen)\n",
    "\n",
    "o = ''\n",
    "for x in range(1,13):\n",
    "    o = o + str(oxygen[x][0])\n",
    "\n",
    "o = int(o, 2)\n",
    "print(o)"
   ]
  },
  {
   "cell_type": "code",
   "execution_count": null,
   "id": "35af1b9b",
   "metadata": {},
   "outputs": [],
   "source": [
    "co2 = df\n",
    "counts = results\n",
    "\n",
    "for i in range(1,13):\n",
    "    if counts[i][1] == counts[i][0]:\n",
    "        co2 = co2[co2[i] != '1']\n",
    "    elif len(co2) != 1:   \n",
    "        co2 = co2[co2[i] != counts[i].idxmax()]\n",
    "    counts = co2.apply(pd.value_counts)\n",
    "    #print(counts)\n",
    "    #print(co2)\n",
    "    \n",
    "co2 = co2.reset_index()\n",
    "print(co2)\n",
    "\n",
    "co = ''\n",
    "for x in range(1,13):\n",
    "    co = co + str(co2[x][0])\n",
    "\n",
    "co = int(co, 2)\n",
    "print(co)"
   ]
  },
  {
   "cell_type": "code",
   "execution_count": null,
   "id": "eaf48cb5",
   "metadata": {},
   "outputs": [],
   "source": [
    "result = o * co\n",
    "print(result)"
   ]
  },
  {
   "cell_type": "code",
   "execution_count": null,
   "id": "4cebab06",
   "metadata": {},
   "outputs": [],
   "source": []
  }
 ],
 "metadata": {
  "kernelspec": {
   "display_name": "Python 3 (ipykernel)",
   "language": "python",
   "name": "python3"
  },
  "language_info": {
   "codemirror_mode": {
    "name": "ipython",
    "version": 3
   },
   "file_extension": ".py",
   "mimetype": "text/x-python",
   "name": "python",
   "nbconvert_exporter": "python",
   "pygments_lexer": "ipython3",
   "version": "3.9.13"
  }
 },
 "nbformat": 4,
 "nbformat_minor": 5
}
