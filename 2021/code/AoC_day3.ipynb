{
 "cells": [
  {
   "cell_type": "code",
   "execution_count": 1,
   "id": "cbf59ef7",
   "metadata": {},
   "outputs": [],
   "source": [
    "import pandas as pd"
   ]
  },
  {
   "cell_type": "code",
   "execution_count": 59,
   "id": "2ef806a1",
   "metadata": {},
   "outputs": [],
   "source": [
    "file = \"/Users/liesbeth_bogaert/Documents/AoC/2021/input/input_day3.txt\""
   ]
  },
  {
   "cell_type": "code",
   "execution_count": 101,
   "id": "da7a5267",
   "metadata": {},
   "outputs": [
    {
     "name": "stdout",
     "output_type": "stream",
     "text": [
      "             code\n",
      "0    000100011010\n",
      "1    110011110110\n",
      "2    011000101111\n",
      "3    001101100101\n",
      "4    011100001000\n",
      "..            ...\n",
      "995  101100001110\n",
      "996  101011100110\n",
      "997  111001100001\n",
      "998  111101011101\n",
      "999  001100111110\n",
      "\n",
      "[1000 rows x 1 columns]\n",
      "1000\n"
     ]
    }
   ],
   "source": [
    "lines = open(file).read().splitlines()\n",
    "data = pd.DataFrame(lines, columns=['code'])\n",
    "print(data)\n",
    "print(len(lines))"
   ]
  },
  {
   "cell_type": "code",
   "execution_count": 102,
   "id": "7f6a1876",
   "metadata": {},
   "outputs": [
    {
     "name": "stdout",
     "output_type": "stream",
     "text": [
      "    1  2  3  4  5  6  7  8  9  10 11 12\n",
      "0    0  0  0  1  0  0  0  1  1  0  1  0\n",
      "1    1  1  0  0  1  1  1  1  0  1  1  0\n",
      "2    0  1  1  0  0  0  1  0  1  1  1  1\n",
      "3    0  0  1  1  0  1  1  0  0  1  0  1\n",
      "4    0  1  1  1  0  0  0  0  1  0  0  0\n",
      "..  .. .. .. .. .. .. .. .. .. .. .. ..\n",
      "995  1  0  1  1  0  0  0  0  1  1  1  0\n",
      "996  1  0  1  0  1  1  1  0  0  1  1  0\n",
      "997  1  1  1  0  0  1  1  0  0  0  0  1\n",
      "998  1  1  1  1  0  1  0  1  1  1  0  1\n",
      "999  0  0  1  1  0  0  1  1  1  1  1  0\n",
      "\n",
      "[1000 rows x 12 columns]\n"
     ]
    }
   ],
   "source": [
    "df = data['code'].str.split('', expand=True)\n",
    "\n",
    "df.replace('', float('NaN'), inplace=True)\n",
    "df.dropna(inplace=True, axis=1)\n",
    "\n",
    "print(df)"
   ]
  },
  {
   "cell_type": "code",
   "execution_count": 103,
   "id": "46ff6725",
   "metadata": {},
   "outputs": [
    {
     "name": "stdout",
     "output_type": "stream",
     "text": [
      "    1    2    3    4    5    6    7    8    9    10   11   12\n",
      "0  506  510  494  492  501  502  506  489  505  524  515  510\n",
      "1  494  490  506  508  499  498  494  511  495  476  485  490\n"
     ]
    }
   ],
   "source": [
    "results = df.apply(pd.value_counts)\n",
    "print(results)"
   ]
  },
  {
   "cell_type": "code",
   "execution_count": 104,
   "id": "3b06264e",
   "metadata": {},
   "outputs": [
    {
     "name": "stdout",
     "output_type": "stream",
     "text": [
      "001100010000\n",
      "110011101111\n"
     ]
    }
   ],
   "source": [
    "gamma = ''\n",
    "epsilon = ''\n",
    "\n",
    "for i in range(1,13):\n",
    "    g = results[i].idxmax()\n",
    "    gamma += g\n",
    "    \n",
    "    e = results[i].idxmin()\n",
    "    epsilon += e\n",
    "\n",
    "print(gamma)\n",
    "print(epsilon)"
   ]
  },
  {
   "cell_type": "code",
   "execution_count": 105,
   "id": "5ff0f55a",
   "metadata": {},
   "outputs": [
    {
     "name": "stdout",
     "output_type": "stream",
     "text": [
      "784\n",
      "3311\n",
      "2595824\n"
     ]
    }
   ],
   "source": [
    "gamma = int(gamma, 2)\n",
    "epsilon = int(epsilon, 2)\n",
    "\n",
    "print(gamma)\n",
    "print(epsilon)\n",
    "\n",
    "result = gamma * epsilon\n",
    "print(result)"
   ]
  },
  {
   "cell_type": "code",
   "execution_count": 139,
   "id": "cc16cbb1",
   "metadata": {},
   "outputs": [
    {
     "name": "stdout",
     "output_type": "stream",
     "text": [
      "   index  1  2  3  4  5  6  7  8  9 10 11 12\n",
      "0    776  0  0  1  1  0  0  0  0  1  1  0  1\n",
      "781\n"
     ]
    }
   ],
   "source": [
    "oxygen = df\n",
    "counts = results\n",
    "\n",
    "for i in range(1,13):\n",
    "    if counts[i][1] == counts[i][0]:\n",
    "        oxygen = oxygen[oxygen[i] != '0']\n",
    "    else:   \n",
    "        oxygen = oxygen[oxygen[i] != counts[i].idxmin()]\n",
    "    counts = oxygen.apply(pd.value_counts)\n",
    "    #print(oxygen)\n",
    "    #print(counts)\n",
    "\n",
    "oxygen = oxygen.reset_index()\n",
    "print(oxygen)\n",
    "\n",
    "o = ''\n",
    "for x in range(1,13):\n",
    "    o = o + str(oxygen[x][0])\n",
    "\n",
    "o = int(o, 2)\n",
    "print(o)"
   ]
  },
  {
   "cell_type": "code",
   "execution_count": 144,
   "id": "35af1b9b",
   "metadata": {},
   "outputs": [
    {
     "name": "stdout",
     "output_type": "stream",
     "text": [
      "   index  1  2  3  4  5  6  7  8  9 10 11 12\n",
      "0    728  1  0  1  0  1  0  1  0  1  1  1  0\n",
      "2734\n"
     ]
    }
   ],
   "source": [
    "co2 = df\n",
    "counts = results\n",
    "\n",
    "for i in range(1,13):\n",
    "    if counts[i][1] == counts[i][0]:\n",
    "        co2 = co2[co2[i] != '1']\n",
    "    elif len(co2) != 1:   \n",
    "        co2 = co2[co2[i] != counts[i].idxmax()]\n",
    "    counts = co2.apply(pd.value_counts)\n",
    "    #print(counts)\n",
    "    #print(co2)\n",
    "    \n",
    "co2 = co2.reset_index()\n",
    "print(co2)\n",
    "\n",
    "co = ''\n",
    "for x in range(1,13):\n",
    "    co = co + str(co2[x][0])\n",
    "\n",
    "co = int(co, 2)\n",
    "print(co)"
   ]
  },
  {
   "cell_type": "code",
   "execution_count": 145,
   "id": "eaf48cb5",
   "metadata": {},
   "outputs": [
    {
     "name": "stdout",
     "output_type": "stream",
     "text": [
      "2135254\n"
     ]
    }
   ],
   "source": [
    "result = o * co\n",
    "print(result)"
   ]
  },
  {
   "cell_type": "code",
   "execution_count": null,
   "id": "4cebab06",
   "metadata": {},
   "outputs": [],
   "source": []
  }
 ],
 "metadata": {
  "kernelspec": {
   "display_name": "Python 3 (ipykernel)",
   "language": "python",
   "name": "python3"
  },
  "language_info": {
   "codemirror_mode": {
    "name": "ipython",
    "version": 3
   },
   "file_extension": ".py",
   "mimetype": "text/x-python",
   "name": "python",
   "nbconvert_exporter": "python",
   "pygments_lexer": "ipython3",
   "version": "3.9.13"
  }
 },
 "nbformat": 4,
 "nbformat_minor": 5
}
