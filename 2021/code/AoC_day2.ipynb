{
 "cells": [
  {
   "cell_type": "code",
   "execution_count": 4,
   "id": "e46f23db",
   "metadata": {},
   "outputs": [],
   "source": [
    "import pandas as pd"
   ]
  },
  {
   "cell_type": "code",
   "execution_count": 5,
   "id": "b489079b",
   "metadata": {},
   "outputs": [],
   "source": [
    "file = \"/Users/liesbeth_bogaert/Documents/AoC/2021/input/input_day2.txt\""
   ]
  },
  {
   "cell_type": "code",
   "execution_count": 9,
   "id": "3ae0eee2",
   "metadata": {},
   "outputs": [
    {
     "name": "stdout",
     "output_type": "stream",
     "text": [
      "    instructions\n",
      "0      forward 6\n",
      "1      forward 6\n",
      "2         down 6\n",
      "3         down 5\n",
      "4           up 2\n",
      "..           ...\n",
      "995         up 4\n",
      "996         up 4\n",
      "997    forward 8\n",
      "998    forward 1\n",
      "999    forward 2\n",
      "\n",
      "[1000 rows x 1 columns]\n",
      "1000\n"
     ]
    }
   ],
   "source": [
    "lines = open(file).read().splitlines()\n",
    "data = pd.DataFrame(lines, columns=['instructions'])\n",
    "\n",
    "\n",
    "print(data)\n",
    "print(len(lines))"
   ]
  },
  {
   "cell_type": "code",
   "execution_count": 19,
   "id": "fd71ef6e",
   "metadata": {},
   "outputs": [
    {
     "name": "stdout",
     "output_type": "stream",
     "text": [
      "    direction  distance\n",
      "0     forward         6\n",
      "1     forward         6\n",
      "2        down         6\n",
      "3        down         5\n",
      "4          up         2\n",
      "..        ...       ...\n",
      "995        up         4\n",
      "996        up         4\n",
      "997   forward         8\n",
      "998   forward         1\n",
      "999   forward         2\n",
      "\n",
      "[1000 rows x 2 columns]\n"
     ]
    }
   ],
   "source": [
    "df = pd.DataFrame(columns=['direction','distance'])\n",
    "df[['direction','distance']] = data['instructions'].str.split(' ', expand=True)\n",
    "df['distance'] = df['distance'].astype('int')\n",
    "\n",
    "print(df)"
   ]
  },
  {
   "cell_type": "code",
   "execution_count": 23,
   "id": "a2f21344",
   "metadata": {},
   "outputs": [
    {
     "name": "stdout",
     "output_type": "stream",
     "text": [
      "1988\n",
      "913\n",
      "1815044\n"
     ]
    }
   ],
   "source": [
    "horizontal = 0\n",
    "vertical = 0\n",
    "\n",
    "for i, row in df.iterrows():\n",
    "    if row.direction in ['forward']:\n",
    "        horizontal += row.distance\n",
    "        \n",
    "    elif row.direction in ['down']:\n",
    "        vertical += row.distance\n",
    "                \n",
    "    elif row.direction in ['up']:\n",
    "        vertical -= row.distance\n",
    "        \n",
    "print(horizontal)\n",
    "print(vertical)\n",
    "\n",
    "result = horizontal * vertical\n",
    "print(result)"
   ]
  },
  {
   "cell_type": "code",
   "execution_count": 27,
   "id": "6145e1cf",
   "metadata": {},
   "outputs": [
    {
     "name": "stdout",
     "output_type": "stream",
     "text": [
      "1988\n",
      "874891\n",
      "913\n",
      "1739283308\n"
     ]
    }
   ],
   "source": [
    "horizontal = 0\n",
    "vertical = 0\n",
    "aim = 0\n",
    "\n",
    "for i, row in df.iterrows():\n",
    "    if row.direction in ['forward']:\n",
    "        horizontal += row.distance\n",
    "        if aim != 0:\n",
    "            vertical += (aim * row.distance)\n",
    "\n",
    "        \n",
    "    elif row.direction in ['down']:\n",
    "        aim += row.distance\n",
    "        #vertical += row.distance\n",
    "        \n",
    "    elif row.direction in ['up']:\n",
    "        aim -= row.distance\n",
    "        #vertical -= row.distance\n",
    "        \n",
    "print(horizontal)\n",
    "print(vertical)\n",
    "print(aim)\n",
    "\n",
    "result = horizontal * vertical\n",
    "print(result)"
   ]
  }
 ],
 "metadata": {
  "kernelspec": {
   "display_name": "Python 3 (ipykernel)",
   "language": "python",
   "name": "python3"
  },
  "language_info": {
   "codemirror_mode": {
    "name": "ipython",
    "version": 3
   },
   "file_extension": ".py",
   "mimetype": "text/x-python",
   "name": "python",
   "nbconvert_exporter": "python",
   "pygments_lexer": "ipython3",
   "version": "3.9.13"
  }
 },
 "nbformat": 4,
 "nbformat_minor": 5
}
