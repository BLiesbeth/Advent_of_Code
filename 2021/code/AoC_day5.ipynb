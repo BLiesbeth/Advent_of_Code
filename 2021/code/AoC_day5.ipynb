{
 "cells": [
  {
   "cell_type": "code",
   "execution_count": 15,
   "id": "8a86031d",
   "metadata": {},
   "outputs": [],
   "source": [
    "import pandas as pd\n",
    "import numpy as np\n"
   ]
  },
  {
   "cell_type": "code",
   "execution_count": 5,
   "id": "c67fdcbf",
   "metadata": {},
   "outputs": [],
   "source": [
    "file = \"/Users/liesbeth_bogaert/Documents/AoC/2021/input/input_day5.txt\""
   ]
  },
  {
   "cell_type": "code",
   "execution_count": 8,
   "id": "89fee0c0",
   "metadata": {},
   "outputs": [],
   "source": [
    "lines = open(file).read().splitlines()\n",
    "#print(lines)"
   ]
  },
  {
   "cell_type": "code",
   "execution_count": 16,
   "id": "682f2c71",
   "metadata": {},
   "outputs": [
    {
     "name": "stdout",
     "output_type": "stream",
     "text": [
      "                  input     first    second   x1   y1   x2   y2\n",
      "0    818,513 -> 818,849  818,513    818,849  818  513  818  849\n",
      "1    259,377 -> 259,599  259,377    259,599  259  377  259  599\n",
      "2    120,758 -> 977,758  120,758    977,758  120  758  977  758\n",
      "3     49,386 -> 170,386   49,386    170,386   49  386  170  386\n",
      "4    773,644 -> 773,745  773,644    773,745  773  644  773  745\n",
      "..                  ...       ...       ...  ...  ...  ...  ...\n",
      "495   967,310 -> 98,310  967,310     98,310  967  310   98  310\n",
      "496   439,381 -> 439,35  439,381     439,35  439  381  439   35\n",
      "497  645,240 -> 282,240  645,240    282,240  645  240  282  240\n",
      "498   475,54 -> 475,658   475,54    475,658  475   54  475  658\n",
      "499  972,610 -> 759,823  972,610    759,823  972  610  759  823\n",
      "\n",
      "[500 rows x 7 columns]\n"
     ]
    }
   ],
   "source": [
    "df = pd.DataFrame(lines, columns=['input'])\n",
    "df[['first','second']] = df['input'].str.split('->',expand=True)\n",
    "df[['x1', 'y1']] = df['first'].str.split(',',expand=True).astype('int')\n",
    "df[['x2', 'y2']] = df['second'].str.split(',',expand=True).astype('int')\n",
    "\n",
    "print(df)"
   ]
  },
  {
   "cell_type": "code",
   "execution_count": 53,
   "id": "fa36db1a",
   "metadata": {},
   "outputs": [
    {
     "name": "stdout",
     "output_type": "stream",
     "text": [
      "                  input     first    second   x1   y1   x2   y2\n",
      "0    818,513 -> 818,849  818,513    818,849  818  513  818  849\n",
      "1    259,377 -> 259,599  259,377    259,599  259  377  259  599\n",
      "2    120,758 -> 977,758  120,758    977,758  120  758  977  758\n",
      "3     49,386 -> 170,386   49,386    170,386   49  386  170  386\n",
      "4    773,644 -> 773,745  773,644    773,745  773  644  773  745\n",
      "..                  ...       ...       ...  ...  ...  ...  ...\n",
      "495   967,310 -> 98,310  967,310     98,310  967  310   98  310\n",
      "496   439,381 -> 439,35  439,381     439,35  439  381  439   35\n",
      "497  645,240 -> 282,240  645,240    282,240  645  240  282  240\n",
      "498   475,54 -> 475,658   475,54    475,658  475   54  475  658\n",
      "499  972,610 -> 759,823  972,610    759,823  972  610  759  823\n",
      "\n",
      "[500 rows x 7 columns]\n"
     ]
    }
   ],
   "source": [
    "part1 = df\n",
    "part1[(part1['x1']==part1['x2']) | (part1['y1']==part1['y2'])]\n",
    "print(part1)"
   ]
  },
  {
   "cell_type": "code",
   "execution_count": 56,
   "id": "0a034c74",
   "metadata": {},
   "outputs": [],
   "source": [
    "map1 = np.zeros((df[['x1','x2']].max(axis=1).max(axis=0)+1,df[['y1','y2']].max(axis=1).max(axis=0)+1))\n",
    "map2 = np.zeros((df[['x1','x2']].max(axis=1).max(axis=0)+1,df[['y1','y2']].max(axis=1).max(axis=0)+1))\n",
    "\n",
    "\n",
    "for i, row in df.iterrows():    \n",
    "    if row.x1 != row.x2 and row.y1 != row.y2:\n",
    "        xx = range(row.x1, row.x2 + 1) if row.x2 > row.x1 else range(row.x1, row.x2 - 1, -1)\n",
    "        yy = range(row.y1, row.y2 + 1) if row.y2 > row.y1 else range(row.y1, row.y2 - 1, -1)\n",
    "        for x, y in zip(xx, yy):\n",
    "            map2[x][y] += 1\n",
    "    else:\n",
    "        for x in range(min(row.x1, row.x2), max(row.x1, row.x2) + 1):\n",
    "            for y in range(min(row.y1, row.y2), max(row.y1, row.y2) + 1):\n",
    "                map1[x][y] += 1\n",
    "                map2[x][y] += 1\n",
    "\n"
   ]
  },
  {
   "cell_type": "code",
   "execution_count": 58,
   "id": "abe5f696",
   "metadata": {},
   "outputs": [
    {
     "name": "stdout",
     "output_type": "stream",
     "text": [
      "6007\n"
     ]
    }
   ],
   "source": [
    "n = len(map1[map1 > 1])\n",
    "print(n)"
   ]
  },
  {
   "cell_type": "code",
   "execution_count": 59,
   "id": "800aeaac",
   "metadata": {},
   "outputs": [
    {
     "name": "stdout",
     "output_type": "stream",
     "text": [
      "19349\n"
     ]
    }
   ],
   "source": [
    "n = len(map2[map2 > 1])\n",
    "print(n)"
   ]
  }
 ],
 "metadata": {
  "kernelspec": {
   "display_name": "Python 3 (ipykernel)",
   "language": "python",
   "name": "python3"
  },
  "language_info": {
   "codemirror_mode": {
    "name": "ipython",
    "version": 3
   },
   "file_extension": ".py",
   "mimetype": "text/x-python",
   "name": "python",
   "nbconvert_exporter": "python",
   "pygments_lexer": "ipython3",
   "version": "3.9.13"
  }
 },
 "nbformat": 4,
 "nbformat_minor": 5
}
