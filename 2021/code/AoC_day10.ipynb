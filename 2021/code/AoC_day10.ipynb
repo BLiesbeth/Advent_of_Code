{
 "cells": [
  {
   "cell_type": "code",
   "execution_count": 2,
   "id": "7928baf7",
   "metadata": {},
   "outputs": [],
   "source": [
    "file = \"/Users/liesbeth_bogaert/Documents/AoC/2021/input/input_day10.txt\""
   ]
  },
  {
   "cell_type": "code",
   "execution_count": 13,
   "id": "6b088f9d",
   "metadata": {},
   "outputs": [],
   "source": [
    "lines = open(file).read().strip().splitlines()\n",
    "#print(lines)"
   ]
  },
  {
   "cell_type": "code",
   "execution_count": 17,
   "id": "2ea25c67",
   "metadata": {},
   "outputs": [
    {
     "name": "stdout",
     "output_type": "stream",
     "text": [
      "215229\n"
     ]
    }
   ],
   "source": [
    "t = 0\n",
    "m = { \"(\": \")\", \"{\": \"}\", \"[\": \"]\", \"<\": \">\"}\n",
    "s = { \")\": 3, \"]\": 57, \"}\": 1197, \">\": 25137}\n",
    "\n",
    "for line in lines:\n",
    "    st = []\n",
    "    for c in line:\n",
    "        if c in m:\n",
    "            st.append(m[c])\n",
    "        elif c == st[-1]:\n",
    "            st.pop()\n",
    "        else:\n",
    "            t += s[c]\n",
    "            break\n",
    "\n",
    "print(t)"
   ]
  },
  {
   "cell_type": "code",
   "execution_count": 18,
   "id": "ed694ad9",
   "metadata": {},
   "outputs": [
    {
     "name": "stdout",
     "output_type": "stream",
     "text": [
      "1105996483\n"
     ]
    }
   ],
   "source": [
    "t = []\n",
    "m = { \"(\": \")\", \"{\": \"}\", \"[\": \"]\", \"<\": \">\"}\n",
    "s = { \")\": 1, \"]\": 2, \"}\": 3, \">\": 4}\n",
    "\n",
    "for line in lines:\n",
    "    st = []\n",
    "    for c in line:\n",
    "        if c in m:\n",
    "            st.append(m[c])\n",
    "        elif c == st[-1]:\n",
    "            st.pop()\n",
    "        else:\n",
    "            break\n",
    "    else:\n",
    "        v = 0\n",
    "        for c in st[::-1]:\n",
    "            v *= 5\n",
    "            v += s[c]\n",
    "        t += [v]\n",
    "\n",
    "t.sort()\n",
    "print(t[len(t) // 2])"
   ]
  },
  {
   "cell_type": "code",
   "execution_count": null,
   "id": "f397a2be",
   "metadata": {},
   "outputs": [],
   "source": []
  }
 ],
 "metadata": {
  "kernelspec": {
   "display_name": "Python 3 (ipykernel)",
   "language": "python",
   "name": "python3"
  },
  "language_info": {
   "codemirror_mode": {
    "name": "ipython",
    "version": 3
   },
   "file_extension": ".py",
   "mimetype": "text/x-python",
   "name": "python",
   "nbconvert_exporter": "python",
   "pygments_lexer": "ipython3",
   "version": "3.9.13"
  }
 },
 "nbformat": 4,
 "nbformat_minor": 5
}
