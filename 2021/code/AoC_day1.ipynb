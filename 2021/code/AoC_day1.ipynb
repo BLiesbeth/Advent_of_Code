{
 "cells": [
  {
   "cell_type": "code",
   "execution_count": 33,
   "id": "39a531da",
   "metadata": {},
   "outputs": [],
   "source": [
    "file = \"/Users/liesbeth_bogaert/Documents/AoC/2021/input/input_day1.txt\""
   ]
  },
  {
   "cell_type": "code",
   "execution_count": 66,
   "id": "df785ec4",
   "metadata": {},
   "outputs": [
    {
     "name": "stdout",
     "output_type": "stream",
     "text": [
      "2000\n"
     ]
    }
   ],
   "source": [
    "lines = open(file).read().splitlines()\n",
    "data = list(map(int, lines))\n",
    "\n",
    "#print(data)\n",
    "print(len(lines))"
   ]
  },
  {
   "cell_type": "code",
   "execution_count": 47,
   "id": "c07ef885",
   "metadata": {},
   "outputs": [
    {
     "name": "stdout",
     "output_type": "stream",
     "text": [
      "1215\n"
     ]
    }
   ],
   "source": [
    "part1 = 0\n",
    "\n",
    "for i in range(1, len(data)):\n",
    "    if data[i] > data[i-1]:\n",
    "        part1 += 1\n",
    "\n",
    "print(part1)\n",
    "    "
   ]
  },
  {
   "cell_type": "code",
   "execution_count": 65,
   "id": "143d9404",
   "metadata": {},
   "outputs": [
    {
     "name": "stdout",
     "output_type": "stream",
     "text": [
      "1150\n"
     ]
    }
   ],
   "source": [
    "part2 = 0\n",
    "\n",
    "previous = sum(data[0:3])\n",
    "for i in range(1, len(data)-2):\n",
    "    current = sum(data[i:i+3])\n",
    "    if current > previous:\n",
    "        part2 += 1\n",
    "    previous = current\n",
    "\n",
    "print(part2)"
   ]
  }
 ],
 "metadata": {
  "kernelspec": {
   "display_name": "Python 3 (ipykernel)",
   "language": "python",
   "name": "python3"
  },
  "language_info": {
   "codemirror_mode": {
    "name": "ipython",
    "version": 3
   },
   "file_extension": ".py",
   "mimetype": "text/x-python",
   "name": "python",
   "nbconvert_exporter": "python",
   "pygments_lexer": "ipython3",
   "version": "3.9.13"
  }
 },
 "nbformat": 4,
 "nbformat_minor": 5
}
