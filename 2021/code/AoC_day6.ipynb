{
 "cells": [
  {
   "cell_type": "code",
   "execution_count": 46,
   "id": "07f2d547",
   "metadata": {},
   "outputs": [],
   "source": [
    "from collections import defaultdict, Counter"
   ]
  },
  {
   "cell_type": "code",
   "execution_count": 47,
   "id": "879af176",
   "metadata": {},
   "outputs": [],
   "source": [
    "file = \"/Users/liesbeth_bogaert/Documents/AoC/2021/input/input_day6.txt\""
   ]
  },
  {
   "cell_type": "code",
   "execution_count": 62,
   "id": "c4a56afb",
   "metadata": {},
   "outputs": [
    {
     "name": "stdout",
     "output_type": "stream",
     "text": [
      "[2, 5, 5, 3, 2, 2, 5, 1, 4, 5, 2, 1, 5, 5, 1, 2, 3, 3, 4, 1, 4, 1, 4, 4, 2, 1, 5, 5, 3, 5, 4, 3, 4, 1, 5, 4, 1, 5, 5, 5, 4, 3, 1, 2, 1, 5, 1, 4, 4, 1, 4, 1, 3, 1, 1, 1, 3, 1, 1, 2, 1, 3, 1, 1, 1, 2, 3, 5, 5, 3, 2, 3, 3, 2, 2, 1, 3, 1, 3, 1, 5, 5, 1, 2, 3, 2, 1, 1, 2, 1, 2, 1, 2, 2, 1, 3, 5, 4, 3, 3, 2, 2, 3, 1, 4, 2, 2, 1, 3, 4, 5, 4, 2, 5, 4, 1, 2, 1, 3, 5, 3, 3, 5, 4, 1, 1, 5, 2, 4, 4, 1, 2, 2, 5, 5, 3, 1, 2, 4, 3, 3, 1, 4, 2, 5, 1, 5, 1, 2, 1, 1, 1, 1, 3, 5, 5, 1, 5, 5, 1, 2, 2, 1, 2, 1, 2, 1, 2, 1, 4, 5, 1, 2, 4, 3, 3, 3, 1, 5, 3, 2, 2, 1, 4, 2, 4, 2, 3, 2, 5, 1, 5, 1, 1, 1, 3, 1, 1, 3, 5, 4, 2, 5, 3, 2, 2, 1, 4, 5, 1, 3, 2, 5, 1, 2, 1, 4, 1, 5, 5, 1, 2, 2, 1, 2, 4, 5, 3, 3, 1, 4, 4, 3, 1, 4, 2, 4, 4, 3, 4, 1, 4, 5, 3, 1, 4, 2, 2, 3, 4, 4, 4, 1, 4, 3, 1, 3, 4, 5, 1, 5, 4, 4, 4, 5, 5, 5, 2, 1, 3, 4, 3, 2, 5, 3, 1, 3, 2, 2, 3, 1, 4, 5, 3, 5, 5, 3, 2, 3, 1, 2, 5, 2, 1, 3, 1, 1, 1, 5, 1]\n"
     ]
    }
   ],
   "source": [
    "lines = open(file).read().splitlines()\n",
    "start_fish = list(map(int, lines[0].split(',')))\n",
    "print(start_fish)"
   ]
  },
  {
   "cell_type": "code",
   "execution_count": 63,
   "id": "d0ee715e",
   "metadata": {},
   "outputs": [],
   "source": [
    "current_fish = start_fish\n",
    "\n",
    "for i in range(80):\n",
    "    for f in range(len(current_fish)):\n",
    "        if current_fish[f] == 0:\n",
    "            current_fish[f] = 6\n",
    "            current_fish.append(8)\n",
    "        else:\n",
    "            current_fish[f] -= 1\n",
    "    #print(current_fish)"
   ]
  },
  {
   "cell_type": "code",
   "execution_count": 64,
   "id": "fd5e36f0",
   "metadata": {},
   "outputs": [
    {
     "name": "stdout",
     "output_type": "stream",
     "text": [
      "352151\n"
     ]
    }
   ],
   "source": [
    "print(len(current_fish))"
   ]
  },
  {
   "cell_type": "code",
   "execution_count": 69,
   "id": "11693a0e",
   "metadata": {},
   "outputs": [
    {
     "name": "stdout",
     "output_type": "stream",
     "text": [
      "Counter({1: 84, 2: 59, 5: 55, 3: 54, 4: 48})\n"
     ]
    }
   ],
   "source": [
    "fish = Counter(map(int, lines[0].split(',')))\n",
    "print(fish)"
   ]
  },
  {
   "cell_type": "code",
   "execution_count": 70,
   "id": "51aedb25",
   "metadata": {},
   "outputs": [
    {
     "name": "stdout",
     "output_type": "stream",
     "text": [
      "Counter({1: 84, 2: 59, 5: 55, 3: 54, 4: 48}) defaultdict(<class 'int'>, {})\n",
      "defaultdict(<class 'int'>, {1: 59, 4: 55, 2: 54, 0: 84, 3: 48}) defaultdict(<class 'int'>, {})\n",
      "defaultdict(<class 'int'>, {0: 59, 3: 55, 1: 54, 6: 84, 8: 84, 2: 48}) defaultdict(<class 'int'>, {})\n",
      "443\n"
     ]
    }
   ],
   "source": [
    "days = 3\n",
    "for _ in range(days):\n",
    "    newfish = defaultdict(int)\n",
    "    print(fish, newfish)\n",
    "\n",
    "    for t, n in fish.items():\n",
    "        t -= 1\n",
    "        if t < 0:\n",
    "            newfish[6] += n\n",
    "            newfish[8] += n\n",
    "        else:\n",
    "            newfish[t] += n\n",
    "        fish = newfish\n",
    "\n",
    "print(sum(fish.values()))"
   ]
  },
  {
   "cell_type": "code",
   "execution_count": null,
   "id": "887b2003",
   "metadata": {},
   "outputs": [],
   "source": []
  }
 ],
 "metadata": {
  "kernelspec": {
   "display_name": "Python 3 (ipykernel)",
   "language": "python",
   "name": "python3"
  },
  "language_info": {
   "codemirror_mode": {
    "name": "ipython",
    "version": 3
   },
   "file_extension": ".py",
   "mimetype": "text/x-python",
   "name": "python",
   "nbconvert_exporter": "python",
   "pygments_lexer": "ipython3",
   "version": "3.9.13"
  }
 },
 "nbformat": 4,
 "nbformat_minor": 5
}
