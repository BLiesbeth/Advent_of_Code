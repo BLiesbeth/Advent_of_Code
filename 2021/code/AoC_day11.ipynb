{
 "cells": [
  {
   "cell_type": "code",
   "execution_count": 68,
   "id": "20224dd9",
   "metadata": {},
   "outputs": [],
   "source": [
    "file = \"/Users/liesbeth_bogaert/Documents/AoC/2021/input/input_day11.txt\""
   ]
  },
  {
   "cell_type": "code",
   "execution_count": 69,
   "id": "57f0c115",
   "metadata": {},
   "outputs": [],
   "source": [
    "lines = open(file).read().strip().splitlines()\n",
    "#print(lines)"
   ]
  },
  {
   "cell_type": "code",
   "execution_count": 74,
   "id": "3747194e",
   "metadata": {},
   "outputs": [],
   "source": [
    "def flash(grid, r, c):\n",
    "    global f\n",
    "    f += 1 #part 1\n",
    "    #f[r][c] = 1 #part 2\n",
    "    for i in range(r - 1, r + 2):\n",
    "        for j in range(c - 1, c + 2):\n",
    "            if i == r and j == c: continue\n",
    "            if 0 <= i < len(grid) and 0 <= j < len(grid[i]):\n",
    "                grid[i][j] += 1\n",
    "                if grid[i][j] == 10:\n",
    "                    flash(grid, i, j)\n",
    "                    grid[i][j] += 1"
   ]
  },
  {
   "cell_type": "code",
   "execution_count": 71,
   "id": "32f3d1a8",
   "metadata": {},
   "outputs": [],
   "source": [
    "def evolve(grid):\n",
    "    for r in range(len(grid)):\n",
    "        for c in range(len(grid[r])):\n",
    "            grid[r][c] += 1\n",
    "            if grid[r][c] == 10:\n",
    "                flash(grid, r, c)\n",
    "                grid[r][c] += 1\n",
    "                \n",
    "    for r in range(len(grid)):\n",
    "        for c in range(len(grid[r])):\n",
    "            if grid[r][c] > 9:\n",
    "                grid[r][c] = 0"
   ]
  },
  {
   "cell_type": "code",
   "execution_count": 75,
   "id": "7d6ea864",
   "metadata": {},
   "outputs": [
    {
     "name": "stdout",
     "output_type": "stream",
     "text": [
      "1665\n"
     ]
    }
   ],
   "source": [
    "grid = list(list(map(int, line)) for line in lines)\n",
    "f = 0\n",
    "\n",
    "for i in range(100):\n",
    "    evolve(grid)\n",
    "print(f)"
   ]
  },
  {
   "cell_type": "code",
   "execution_count": 73,
   "id": "3d86ff09",
   "metadata": {},
   "outputs": [
    {
     "name": "stdout",
     "output_type": "stream",
     "text": [
      "235\n"
     ]
    }
   ],
   "source": [
    "grid = list(list(map(int, line)) for line in lines)\n",
    "f = [[0] * len(r) for r in grid]\n",
    "\n",
    "steps = 0\n",
    "while True:\n",
    "    steps += 1\n",
    "    evolve(grid)\n",
    "    if all(map(all, f)):\n",
    "        print(steps)\n",
    "        break\n",
    "    f = [[0] * len(r) for r in grid]\n"
   ]
  },
  {
   "cell_type": "code",
   "execution_count": null,
   "id": "ab3ecd6f",
   "metadata": {},
   "outputs": [],
   "source": []
  }
 ],
 "metadata": {
  "kernelspec": {
   "display_name": "Python 3 (ipykernel)",
   "language": "python",
   "name": "python3"
  },
  "language_info": {
   "codemirror_mode": {
    "name": "ipython",
    "version": 3
   },
   "file_extension": ".py",
   "mimetype": "text/x-python",
   "name": "python",
   "nbconvert_exporter": "python",
   "pygments_lexer": "ipython3",
   "version": "3.9.13"
  }
 },
 "nbformat": 4,
 "nbformat_minor": 5
}
