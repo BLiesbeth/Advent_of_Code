{
 "cells": [
  {
   "cell_type": "code",
   "execution_count": 146,
   "id": "16b2fc06",
   "metadata": {},
   "outputs": [],
   "source": [
    "from itertools import *"
   ]
  },
  {
   "cell_type": "code",
   "execution_count": 147,
   "id": "8013da4b",
   "metadata": {},
   "outputs": [],
   "source": [
    "file = \"/Users/liesbeth_bogaert/Documents/AoC/2021/input/input_day8.txt\""
   ]
  },
  {
   "cell_type": "code",
   "execution_count": 148,
   "id": "c91929a2",
   "metadata": {},
   "outputs": [],
   "source": [
    "input = open(file).read().strip().splitlines()\n",
    "#print(input)"
   ]
  },
  {
   "cell_type": "code",
   "execution_count": 149,
   "id": "92bdda8c",
   "metadata": {},
   "outputs": [
    {
     "name": "stdout",
     "output_type": "stream",
     "text": [
      "344\n"
     ]
    }
   ],
   "source": [
    "pattern = {2, 4, 3, 7}\n",
    "count = 0\n",
    "\n",
    "for line in input:\n",
    "    signal, digit = line.split(' | ')\n",
    "    digit = digit.split()\n",
    "    \n",
    "    #count += sum(len(d) in pattern for d in digit)\n",
    "    for d in digit:\n",
    "        if len(d) in pattern:\n",
    "            count += 1\n",
    "    \n",
    "print(count)     "
   ]
  },
  {
   "cell_type": "code",
   "execution_count": 150,
   "id": "208737a3",
   "metadata": {},
   "outputs": [
    {
     "name": "stdout",
     "output_type": "stream",
     "text": [
      "1048410\n"
     ]
    }
   ],
   "source": [
    "count = 0\n",
    "\n",
    "for line in input:\n",
    "    signal, digit = line.split(\" | \")\n",
    "    do = [\"abcefg\", \"cf\", \"acdeg\", \"acdfg\", \"bcdf\", \"abdfg\", \"abdefg\", \"acf\", \"abcdefg\", \"abcdfg\"]\n",
    "    req = set(do)\n",
    "    for x in permutations(\"abcdefg\"):\n",
    "        m = {i: j for i, j in zip(x, \"abcdefg\")}\n",
    "        \n",
    "        r = {\"\".join(sorted(map(m.get, s))) for s in signal.split()}\n",
    "        if r == req:\n",
    "            digit = [\"\".join(sorted(map(m.get, d))) for d in digit.split()]\n",
    "            digit = \"\".join(str(do.index(d)) for d in digit)\n",
    "            count += int(digit)\n",
    "\n",
    "print(count)"
   ]
  },
  {
   "cell_type": "markdown",
   "id": "a190ad6f",
   "metadata": {},
   "source": [
    "Mess below "
   ]
  },
  {
   "cell_type": "markdown",
   "id": "a40b13c0",
   "metadata": {},
   "source": [
    "decode = {'acedgfb': 8, 'cdfbe': 5, 'gcdfa': 2, 'fbcad': 3, 'dab': 7, 'cefabd': 9, 'cdfgeb': 6, 'eafb': 4, 'cagedb': 0, 'ab': 1}\n",
    "sorted_decode = {}\n",
    "len_decode = {}\n",
    "\n",
    "\n",
    "for k, v in decode.items():\n",
    "    l = decode[k]\n",
    "    s = \"\".join(sorted(k))\n",
    "    sorted_decode[s] = l\n",
    "\n",
    "for k, v in sorted_decode.items():\n",
    "    if len(k) not in len_decode:\n",
    "        len_decode[len(k)] = [] \n",
    "    len_decode[len(k)].append(k)\n",
    "    \n",
    "print(sorted_decode)\n",
    "print(len_decode)"
   ]
  },
  {
   "cell_type": "markdown",
   "id": "e5b92dcd",
   "metadata": {},
   "source": [
    "pattern = {2, 4, 3, 7}\n",
    "count = 0\n",
    "\n",
    "lines = list(map(lambda s: s.split(\" | \"), input))\n",
    "lines = list(map(lambda l: (l[0].split(), l[1].split()), lines))\n",
    "\n",
    "patterns = {}\n",
    "\n",
    "for signal, digit in lines:    \n",
    "    signal.sort(key=len)\n",
    "    print(signal)\n",
    "\n",
    "print(count)     "
   ]
  },
  {
   "cell_type": "code",
   "execution_count": null,
   "id": "24360a0e",
   "metadata": {},
   "outputs": [],
   "source": []
  }
 ],
 "metadata": {
  "kernelspec": {
   "display_name": "Python 3 (ipykernel)",
   "language": "python",
   "name": "python3"
  },
  "language_info": {
   "codemirror_mode": {
    "name": "ipython",
    "version": 3
   },
   "file_extension": ".py",
   "mimetype": "text/x-python",
   "name": "python",
   "nbconvert_exporter": "python",
   "pygments_lexer": "ipython3",
   "version": "3.9.13"
  }
 },
 "nbformat": 4,
 "nbformat_minor": 5
}
