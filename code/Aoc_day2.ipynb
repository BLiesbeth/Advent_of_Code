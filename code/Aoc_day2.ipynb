{
 "cells": [
  {
   "cell_type": "code",
   "execution_count": 38,
   "id": "a5708d12",
   "metadata": {},
   "outputs": [],
   "source": [
    "file = \"/Users/liesbeth_bogaert/Documents/AoC2022/input/input_day2.txt\""
   ]
  },
  {
   "cell_type": "code",
   "execution_count": 39,
   "id": "504a91b8",
   "metadata": {},
   "outputs": [],
   "source": [
    "lines = open(file).read().splitlines()\n",
    "#print(lines)"
   ]
  },
  {
   "cell_type": "code",
   "execution_count": 40,
   "id": "fbe651c3",
   "metadata": {},
   "outputs": [
    {
     "name": "stdout",
     "output_type": "stream",
     "text": [
      "15632\n",
      "14416\n"
     ]
    }
   ],
   "source": [
    "score = [[4, 8, 3], [1, 5, 9], [7, 2, 6]]\n",
    "#score2 = [[3, 4, 8], [1, 5, 9], [2, 6, 7]]\n",
    "\n",
    "points1 = 0\n",
    "points2 = 0\n",
    "\n",
    "for line in lines:\n",
    "    a, x = line.split()\n",
    "    a = ord(a)-ord('A')\n",
    "    x = ord(x)-ord('X')\n",
    "    p1 = score[a][x]\n",
    "    #p2 = score2[a][x]\n",
    "    p2 = sorted(score[a])[x]\n",
    "\n",
    "    points1 = points1 + p1\n",
    "    points2 = points2 + p2\n",
    "    \n",
    "print(points1)\n",
    "print(points2)"
   ]
  },
  {
   "cell_type": "code",
   "execution_count": null,
   "id": "58b9301a",
   "metadata": {},
   "outputs": [],
   "source": []
  }
 ],
 "metadata": {
  "kernelspec": {
   "display_name": "Python 3 (ipykernel)",
   "language": "python",
   "name": "python3"
  },
  "language_info": {
   "codemirror_mode": {
    "name": "ipython",
    "version": 3
   },
   "file_extension": ".py",
   "mimetype": "text/x-python",
   "name": "python",
   "nbconvert_exporter": "python",
   "pygments_lexer": "ipython3",
   "version": "3.9.13"
  }
 },
 "nbformat": 4,
 "nbformat_minor": 5
}
