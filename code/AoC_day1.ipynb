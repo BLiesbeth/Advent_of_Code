{
 "cells": [
  {
   "cell_type": "code",
   "execution_count": null,
   "id": "f1df76e8",
   "metadata": {},
   "outputs": [],
   "source": [
    "import pandas as pd\n",
    "import numpy as np\n",
    "import os"
   ]
  },
  {
   "cell_type": "code",
   "execution_count": null,
   "id": "e25d9621",
   "metadata": {},
   "outputs": [],
   "source": [
    "file = \"/Users/liesbeth_bogaert/Documents/AoC2022/input/input_day1.txt\""
   ]
  },
  {
   "cell_type": "markdown",
   "id": "8c1c9c8f",
   "metadata": {},
   "source": [
    "TRY 1"
   ]
  },
  {
   "cell_type": "code",
   "execution_count": null,
   "id": "0f769117",
   "metadata": {},
   "outputs": [],
   "source": [
    "lines = open(file).read().splitlines()\n",
    "print(lines)"
   ]
  },
  {
   "cell_type": "code",
   "execution_count": null,
   "id": "ed226336",
   "metadata": {},
   "outputs": [],
   "source": [
    "df = pd.DataFrame(lines, columns=['calories'])\n",
    "print(df.head(10))"
   ]
  },
  {
   "cell_type": "code",
   "execution_count": null,
   "id": "915c0934",
   "metadata": {},
   "outputs": [],
   "source": [
    "elf = 1\n",
    "for i, row in df.iterrows():\n",
    "  if row['calories'] == '':\n",
    "    elf = elf + 1\n",
    "  else:\n",
    "    df.at[i,'elf']= elf\n",
    "\n",
    "print(df.head(10))"
   ]
  },
  {
   "cell_type": "code",
   "execution_count": null,
   "id": "6d9797a8",
   "metadata": {},
   "outputs": [],
   "source": [
    "df.dropna(subset=['elf'], inplace=True)\n",
    "df = df.astype({'calories':'int'})\n",
    "print(df.head(10))"
   ]
  },
  {
   "cell_type": "code",
   "execution_count": null,
   "id": "006ec42e",
   "metadata": {},
   "outputs": [],
   "source": [
    "sums = df.groupby('elf')['calories'].agg(['sum'])\n",
    "print(sums)"
   ]
  },
  {
   "cell_type": "code",
   "execution_count": null,
   "id": "c7a72d53",
   "metadata": {},
   "outputs": [],
   "source": [
    "sums.sort_values('sum')"
   ]
  },
  {
   "cell_type": "code",
   "execution_count": null,
   "id": "24e5e52b",
   "metadata": {},
   "outputs": [],
   "source": [
    "sums['sum'].nlargest(1)"
   ]
  },
  {
   "cell_type": "code",
   "execution_count": null,
   "id": "c5eff19c",
   "metadata": {},
   "outputs": [],
   "source": [
    "sums['sum'].nlargest(3).sum()"
   ]
  },
  {
   "cell_type": "markdown",
   "id": "9ad67e41",
   "metadata": {},
   "source": [
    "TRY 2"
   ]
  },
  {
   "cell_type": "code",
   "execution_count": null,
   "id": "8a194e04",
   "metadata": {},
   "outputs": [],
   "source": [
    "with open(file) as f:\n",
    "    data = [list(map(int, row.split())) for row in f.read().split('\\n\\n')]\n",
    "\n",
    "dataframe = pd.DataFrame(data)\n",
    "dataframe['Sum'] = dataframe.sum(axis=1)\n",
    "\n",
    "print(dataframe)"
   ]
  },
  {
   "cell_type": "code",
   "execution_count": null,
   "id": "82376ebd",
   "metadata": {},
   "outputs": [],
   "source": [
    "dataframe.sort_values('Sum')"
   ]
  },
  {
   "cell_type": "code",
   "execution_count": null,
   "id": "5bfebf82",
   "metadata": {},
   "outputs": [],
   "source": [
    "dataframe['Sum'].nlargest(1)"
   ]
  },
  {
   "cell_type": "code",
   "execution_count": null,
   "id": "aa3ccf50",
   "metadata": {},
   "outputs": [],
   "source": [
    "dataframe['Sum'].nlargest(3).sum()"
   ]
  },
  {
   "cell_type": "code",
   "execution_count": null,
   "id": "3d7d8f51",
   "metadata": {},
   "outputs": [],
   "source": []
  }
 ],
 "metadata": {
  "kernelspec": {
   "display_name": "Python 3 (ipykernel)",
   "language": "python",
   "name": "python3"
  },
  "language_info": {
   "codemirror_mode": {
    "name": "ipython",
    "version": 3
   },
   "file_extension": ".py",
   "mimetype": "text/x-python",
   "name": "python",
   "nbconvert_exporter": "python",
   "pygments_lexer": "ipython3",
   "version": "3.9.13"
  }
 },
 "nbformat": 4,
 "nbformat_minor": 5
}
